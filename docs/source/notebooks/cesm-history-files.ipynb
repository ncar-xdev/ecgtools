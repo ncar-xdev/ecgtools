{
 "cells": [
  {
   "cell_type": "code",
   "execution_count": 1,
   "id": "extra-certification",
   "metadata": {},
   "outputs": [],
   "source": [
    "import ast\n",
    "\n",
    "import intake\n",
    "from distributed import Client\n",
    "from ncar_jobqueue import NCARCluster\n",
    "\n",
    "from ecgtools import Builder\n",
    "from ecgtools.parsers.cesm import parse_cesm_history"
   ]
  },
  {
   "cell_type": "code",
   "execution_count": 2,
   "id": "engaging-humor",
   "metadata": {},
   "outputs": [
    {
     "name": "stderr",
     "output_type": "stream",
     "text": [
      "/glade/work/abanihi/opt/miniconda/envs/playground/lib/python3.8/site-packages/distributed/node.py:151: UserWarning: Port 8787 is already in use.\n",
      "Perhaps you already have a cluster running?\n",
      "Hosting the HTTP server on port 34697 instead\n",
      "  warnings.warn(\n"
     ]
    },
    {
     "data": {
      "application/vnd.jupyter.widget-view+json": {
       "model_id": "15a736187df74146bcdfa23e4fb2360a",
       "version_major": 2,
       "version_minor": 0
      },
      "text/plain": [
       "VBox(children=(HTML(value='<h2>PBSCluster</h2>'), HBox(children=(HTML(value='\\n<div>\\n  <style scoped>\\n    .d…"
      ]
     },
     "metadata": {},
     "output_type": "display_data"
    }
   ],
   "source": [
    "cluster = NCARCluster()\n",
    "client = Client(cluster)\n",
    "cluster"
   ]
  },
  {
   "cell_type": "code",
   "execution_count": 3,
   "id": "academic-robin",
   "metadata": {},
   "outputs": [],
   "source": [
    "b = Builder(\n",
    "    \"/glade/scratch/kristenk/archive/\",\n",
    "    depth=2,\n",
    "    parser=parse_cesm_history,\n",
    "    exclude_patterns=[\"*/tseries/*\", \"*/rest/*\"],\n",
    ")"
   ]
  },
  {
   "cell_type": "code",
   "execution_count": 4,
   "id": "developed-director",
   "metadata": {
    "tags": []
   },
   "outputs": [
    {
     "data": {
      "text/html": [
       "<pre style=\"white-space:pre;overflow-x:auto;line-height:normal;font-family:Menlo,'DejaVu Sans Mono',consolas,'Courier New',monospace\">Getting list of directories<span style=\"color: #808000; text-decoration-color: #808000\">...</span>\n",
       "</pre>\n"
      ],
      "text/plain": [
       "Getting list of directories\u001b[33m...\u001b[0m\n"
      ]
     },
     "metadata": {},
     "output_type": "display_data"
    },
    {
     "data": {
      "text/html": [
       "<pre style=\"white-space:pre;overflow-x:auto;line-height:normal;font-family:Menlo,'DejaVu Sans Mono',consolas,'Courier New',monospace\">Getting list of files<span style=\"color: #808000; text-decoration-color: #808000\">...</span>\n",
       "</pre>\n"
      ],
      "text/plain": [
       "Getting list of files\u001b[33m...\u001b[0m\n"
      ]
     },
     "metadata": {},
     "output_type": "display_data"
    },
    {
     "data": {
      "text/html": [
       "<pre style=\"white-space:pre;overflow-x:auto;line-height:normal;font-family:Menlo,'DejaVu Sans Mono',consolas,'Courier New',monospace\">Batching `_get_filelist<span style=\"font-weight: bold\">()</span>` dask.delayed calls<span style=\"color: #808000; text-decoration-color: #808000\">...</span>\n",
       "</pre>\n"
      ],
      "text/plain": [
       "Batching `_get_filelist\u001b[1m(\u001b[0m\u001b[1m)\u001b[0m` dask.delayed calls\u001b[33m...\u001b[0m\n"
      ]
     },
     "metadata": {},
     "output_type": "display_data"
    },
    {
     "data": {
      "text/html": [
       "<pre style=\"white-space:pre;overflow-x:auto;line-height:normal;font-family:Menlo,'DejaVu Sans Mono',consolas,'Courier New',monospace\">Harvesting attributes/metadata from files<span style=\"color: #808000; text-decoration-color: #808000\">...</span>\n",
       "</pre>\n"
      ],
      "text/plain": [
       "Harvesting attributes/metadata from files\u001b[33m...\u001b[0m\n"
      ]
     },
     "metadata": {},
     "output_type": "display_data"
    },
    {
     "data": {
      "text/html": [
       "<pre style=\"white-space:pre;overflow-x:auto;line-height:normal;font-family:Menlo,'DejaVu Sans Mono',consolas,'Courier New',monospace\"><span style=\"color: #800000; text-decoration-color: #800000; font-weight: bold\">Unable to parse </span><span style=\"color: #800000; text-decoration-color: #800000; font-weight: bold\">14</span><span style=\"color: #800000; text-decoration-color: #800000; font-weight: bold\"> assets. For a full list of these assets, see invalid_assets.txt file</span>\n",
       "</pre>\n"
      ],
      "text/plain": [
       "\u001b[1;31mUnable to parse \u001b[0m\u001b[1;31m14\u001b[0m\u001b[1;31m assets. For a full list of these assets, see invalid_assets.txt file\u001b[0m\n"
      ]
     },
     "metadata": {},
     "output_type": "display_data"
    },
    {
     "data": {
      "text/html": [
       "<pre style=\"white-space:pre;overflow-x:auto;line-height:normal;font-family:Menlo,'DejaVu Sans Mono',consolas,'Courier New',monospace\">Saved catalog location: <span style=\"font-weight: bold\">&lt;</span><span style=\"color: #ff00ff; text-decoration-color: #ff00ff; font-weight: bold\">_io.TextIOWrapper</span><span style=\"color: #000000; text-decoration-color: #000000\"> </span><span style=\"color: #808000; text-decoration-color: #808000\">name</span><span style=\"color: #000000; text-decoration-color: #000000\">=</span><span style=\"color: #008000; text-decoration-color: #008000\">'cesm-hist-test.json'</span><span style=\"color: #000000; text-decoration-color: #000000\"> </span><span style=\"color: #808000; text-decoration-color: #808000\">mode</span><span style=\"color: #000000; text-decoration-color: #000000\">=</span><span style=\"color: #008000; text-decoration-color: #008000\">'w'</span><span style=\"color: #000000; text-decoration-color: #000000\"> </span>\n",
       "<span style=\"color: #808000; text-decoration-color: #808000\">encoding</span><span style=\"color: #000000; text-decoration-color: #000000\">=</span><span style=\"color: #008000; text-decoration-color: #008000\">'UTF-8'</span><span style=\"font-weight: bold\">&gt;</span> and cesm-hist-test.csv.gz \n",
       "</pre>\n"
      ],
      "text/plain": [
       "Saved catalog location: \u001b[1m<\u001b[0m\u001b[1;95m_io.TextIOWrapper\u001b[0m\u001b[39m \u001b[0m\u001b[33mname\u001b[0m\u001b[39m=\u001b[0m\u001b[32m'cesm-hist-test.json'\u001b[0m\u001b[39m \u001b[0m\u001b[33mmode\u001b[0m\u001b[39m=\u001b[0m\u001b[32m'w'\u001b[0m\u001b[39m \u001b[0m\n",
       "\u001b[33mencoding\u001b[0m\u001b[39m=\u001b[0m\u001b[32m'UTF-8'\u001b[0m\u001b[1m>\u001b[0m and cesm-hist-test.csv.gz \n"
      ]
     },
     "metadata": {},
     "output_type": "display_data"
    },
    {
     "data": {
      "text/plain": [
       "Builder(root_path=PosixPath('/glade/scratch/kristenk/archive'), extension='*.nc', depth=2, exclude_patterns=['*/tseries/*', '*/rest/*'], parser=<function parse_cesm_history at 0x2b7634466790>, lazy=True, nbatches=25)"
      ]
     },
     "execution_count": 4,
     "metadata": {},
     "output_type": "execute_result"
    }
   ],
   "source": [
    "b = b.build(\n",
    "    path_column='path',\n",
    "    variable_column='variables',\n",
    "    data_format=\"netcdf\",\n",
    "    groupby_attrs=[\"component\", \"stream\", \"case\"],\n",
    "    aggregations=[\n",
    "        {\n",
    "            \"type\": \"join_existing\",\n",
    "            \"attribute_name\": \"date\",\n",
    "            \"options\": {\"dim\": \"time\", \"coords\": \"minimal\", \"compat\": \"override\"},\n",
    "        }\n",
    "    ],\n",
    ")\n",
    "\n",
    "b.save(\"cesm-hist-test.csv.gz\")"
   ]
  },
  {
   "cell_type": "code",
   "execution_count": 5,
   "id": "solid-morrison",
   "metadata": {},
   "outputs": [
    {
     "data": {
      "text/html": [
       "<div>\n",
       "<style scoped>\n",
       "    .dataframe tbody tr th:only-of-type {\n",
       "        vertical-align: middle;\n",
       "    }\n",
       "\n",
       "    .dataframe tbody tr th {\n",
       "        vertical-align: top;\n",
       "    }\n",
       "\n",
       "    .dataframe thead th {\n",
       "        text-align: right;\n",
       "    }\n",
       "</style>\n",
       "<table border=\"1\" class=\"dataframe\">\n",
       "  <thead>\n",
       "    <tr style=\"text-align: right;\">\n",
       "      <th></th>\n",
       "      <th>component</th>\n",
       "      <th>stream</th>\n",
       "      <th>case</th>\n",
       "      <th>frequency</th>\n",
       "      <th>date</th>\n",
       "      <th>variables</th>\n",
       "      <th>path</th>\n",
       "    </tr>\n",
       "  </thead>\n",
       "  <tbody>\n",
       "    <tr>\n",
       "      <th>0</th>\n",
       "      <td>ocn</td>\n",
       "      <td>pop.h.ecosys</td>\n",
       "      <td>g.e22a06.g1850ecoiaf_jra_phys_dev.tl319_g17.4p...</td>\n",
       "      <td>month_1</td>\n",
       "      <td>nday1.0053-01-01</td>\n",
       "      <td>[photoC_sp_zint_2, photoC_diat_zint_2, photoC_...</td>\n",
       "      <td>/glade/scratch/kristenk/archive/g.e22a06.G1850...</td>\n",
       "    </tr>\n",
       "    <tr>\n",
       "      <th>1</th>\n",
       "      <td>ocn</td>\n",
       "      <td>pop.h</td>\n",
       "      <td>g.e22a06.g1850ecoiaf_jra_phys_dev.tl319_g17.4p...</td>\n",
       "      <td>month_1</td>\n",
       "      <td>0046-08</td>\n",
       "      <td>[UVEL, UVEL2, VVEL, VVEL2, TEMP, dTEMP_POS_2D,...</td>\n",
       "      <td>/glade/scratch/kristenk/archive/g.e22a06.G1850...</td>\n",
       "    </tr>\n",
       "    <tr>\n",
       "      <th>2</th>\n",
       "      <td>ocn</td>\n",
       "      <td>pop.h</td>\n",
       "      <td>g.e22a06.g1850ecoiaf_jra_phys_dev.tl319_g17.4p...</td>\n",
       "      <td>month_1</td>\n",
       "      <td>0061-07</td>\n",
       "      <td>[UVEL, UVEL2, VVEL, VVEL2, TEMP, dTEMP_POS_2D,...</td>\n",
       "      <td>/glade/scratch/kristenk/archive/g.e22a06.G1850...</td>\n",
       "    </tr>\n",
       "    <tr>\n",
       "      <th>3</th>\n",
       "      <td>ocn</td>\n",
       "      <td>pop.h</td>\n",
       "      <td>g.e22a06.g1850ecoiaf_jra_phys_dev.tl319_g17.4p...</td>\n",
       "      <td>month_1</td>\n",
       "      <td>0042-09</td>\n",
       "      <td>[UVEL, UVEL2, VVEL, VVEL2, TEMP, dTEMP_POS_2D,...</td>\n",
       "      <td>/glade/scratch/kristenk/archive/g.e22a06.G1850...</td>\n",
       "    </tr>\n",
       "    <tr>\n",
       "      <th>4</th>\n",
       "      <td>ocn</td>\n",
       "      <td>pop.h</td>\n",
       "      <td>g.e22a06.g1850ecoiaf_jra_phys_dev.tl319_g17.4p...</td>\n",
       "      <td>month_1</td>\n",
       "      <td>0043-11</td>\n",
       "      <td>[UVEL, UVEL2, VVEL, VVEL2, TEMP, dTEMP_POS_2D,...</td>\n",
       "      <td>/glade/scratch/kristenk/archive/g.e22a06.G1850...</td>\n",
       "    </tr>\n",
       "  </tbody>\n",
       "</table>\n",
       "</div>"
      ],
      "text/plain": [
       "  component        stream                                               case  \\\n",
       "0       ocn  pop.h.ecosys  g.e22a06.g1850ecoiaf_jra_phys_dev.tl319_g17.4p...   \n",
       "1       ocn         pop.h  g.e22a06.g1850ecoiaf_jra_phys_dev.tl319_g17.4p...   \n",
       "2       ocn         pop.h  g.e22a06.g1850ecoiaf_jra_phys_dev.tl319_g17.4p...   \n",
       "3       ocn         pop.h  g.e22a06.g1850ecoiaf_jra_phys_dev.tl319_g17.4p...   \n",
       "4       ocn         pop.h  g.e22a06.g1850ecoiaf_jra_phys_dev.tl319_g17.4p...   \n",
       "\n",
       "  frequency              date  \\\n",
       "0   month_1  nday1.0053-01-01   \n",
       "1   month_1           0046-08   \n",
       "2   month_1           0061-07   \n",
       "3   month_1           0042-09   \n",
       "4   month_1           0043-11   \n",
       "\n",
       "                                           variables  \\\n",
       "0  [photoC_sp_zint_2, photoC_diat_zint_2, photoC_...   \n",
       "1  [UVEL, UVEL2, VVEL, VVEL2, TEMP, dTEMP_POS_2D,...   \n",
       "2  [UVEL, UVEL2, VVEL, VVEL2, TEMP, dTEMP_POS_2D,...   \n",
       "3  [UVEL, UVEL2, VVEL, VVEL2, TEMP, dTEMP_POS_2D,...   \n",
       "4  [UVEL, UVEL2, VVEL, VVEL2, TEMP, dTEMP_POS_2D,...   \n",
       "\n",
       "                                                path  \n",
       "0  /glade/scratch/kristenk/archive/g.e22a06.G1850...  \n",
       "1  /glade/scratch/kristenk/archive/g.e22a06.G1850...  \n",
       "2  /glade/scratch/kristenk/archive/g.e22a06.G1850...  \n",
       "3  /glade/scratch/kristenk/archive/g.e22a06.G1850...  \n",
       "4  /glade/scratch/kristenk/archive/g.e22a06.G1850...  "
      ]
     },
     "execution_count": 5,
     "metadata": {},
     "output_type": "execute_result"
    }
   ],
   "source": [
    "b.df.head()"
   ]
  },
  {
   "cell_type": "code",
   "execution_count": 9,
   "id": "federal-aberdeen",
   "metadata": {},
   "outputs": [
    {
     "data": {
      "text/html": [
       "<p><strong> catalog with 70 dataset(s) from 19859 asset(s)</strong>:</p> <div>\n",
       "<style scoped>\n",
       "    .dataframe tbody tr th:only-of-type {\n",
       "        vertical-align: middle;\n",
       "    }\n",
       "\n",
       "    .dataframe tbody tr th {\n",
       "        vertical-align: top;\n",
       "    }\n",
       "\n",
       "    .dataframe thead th {\n",
       "        text-align: right;\n",
       "    }\n",
       "</style>\n",
       "<table border=\"1\" class=\"dataframe\">\n",
       "  <thead>\n",
       "    <tr style=\"text-align: right;\">\n",
       "      <th></th>\n",
       "      <th>unique</th>\n",
       "    </tr>\n",
       "  </thead>\n",
       "  <tbody>\n",
       "    <tr>\n",
       "      <th>component</th>\n",
       "      <td>2</td>\n",
       "    </tr>\n",
       "    <tr>\n",
       "      <th>stream</th>\n",
       "      <td>5</td>\n",
       "    </tr>\n",
       "    <tr>\n",
       "      <th>case</th>\n",
       "      <td>14</td>\n",
       "    </tr>\n",
       "    <tr>\n",
       "      <th>frequency</th>\n",
       "      <td>3</td>\n",
       "    </tr>\n",
       "    <tr>\n",
       "      <th>date</th>\n",
       "      <td>2258</td>\n",
       "    </tr>\n",
       "    <tr>\n",
       "      <th>variables</th>\n",
       "      <td>691</td>\n",
       "    </tr>\n",
       "    <tr>\n",
       "      <th>path</th>\n",
       "      <td>19859</td>\n",
       "    </tr>\n",
       "  </tbody>\n",
       "</table>\n",
       "</div>"
      ],
      "text/plain": [
       "<IPython.core.display.HTML object>"
      ]
     },
     "metadata": {},
     "output_type": "display_data"
    }
   ],
   "source": [
    "col = intake.open_esm_datastore(\n",
    "    \"cesm-hist-test.json\", csv_kwargs={\"converters\": {\"variables\": ast.literal_eval}}, sep=\"/\"\n",
    ")\n",
    "col"
   ]
  },
  {
   "cell_type": "code",
   "execution_count": 10,
   "id": "fabulous-concrete",
   "metadata": {},
   "outputs": [
    {
     "data": {
      "text/html": [
       "<div>\n",
       "<style scoped>\n",
       "    .dataframe tbody tr th:only-of-type {\n",
       "        vertical-align: middle;\n",
       "    }\n",
       "\n",
       "    .dataframe tbody tr th {\n",
       "        vertical-align: top;\n",
       "    }\n",
       "\n",
       "    .dataframe thead th {\n",
       "        text-align: right;\n",
       "    }\n",
       "</style>\n",
       "<table border=\"1\" class=\"dataframe\">\n",
       "  <thead>\n",
       "    <tr style=\"text-align: right;\">\n",
       "      <th></th>\n",
       "      <th>component</th>\n",
       "      <th>stream</th>\n",
       "      <th>case</th>\n",
       "      <th>frequency</th>\n",
       "      <th>date</th>\n",
       "      <th>variables</th>\n",
       "      <th>path</th>\n",
       "    </tr>\n",
       "  </thead>\n",
       "  <tbody>\n",
       "    <tr>\n",
       "      <th>0</th>\n",
       "      <td>ocn</td>\n",
       "      <td>pop.h.ecosys</td>\n",
       "      <td>g.e22a06.g1850ecoiaf_jra_phys_dev.tl319_g17.4p...</td>\n",
       "      <td>month_1</td>\n",
       "      <td>nday1.0053-01-01</td>\n",
       "      <td>[photoC_sp_zint_2, photoC_diat_zint_2, photoC_...</td>\n",
       "      <td>/glade/scratch/kristenk/archive/g.e22a06.G1850...</td>\n",
       "    </tr>\n",
       "    <tr>\n",
       "      <th>1</th>\n",
       "      <td>ocn</td>\n",
       "      <td>pop.h</td>\n",
       "      <td>g.e22a06.g1850ecoiaf_jra_phys_dev.tl319_g17.4p...</td>\n",
       "      <td>month_1</td>\n",
       "      <td>0046-08</td>\n",
       "      <td>[UVEL, UVEL2, VVEL, VVEL2, TEMP, dTEMP_POS_2D,...</td>\n",
       "      <td>/glade/scratch/kristenk/archive/g.e22a06.G1850...</td>\n",
       "    </tr>\n",
       "    <tr>\n",
       "      <th>2</th>\n",
       "      <td>ocn</td>\n",
       "      <td>pop.h</td>\n",
       "      <td>g.e22a06.g1850ecoiaf_jra_phys_dev.tl319_g17.4p...</td>\n",
       "      <td>month_1</td>\n",
       "      <td>0061-07</td>\n",
       "      <td>[UVEL, UVEL2, VVEL, VVEL2, TEMP, dTEMP_POS_2D,...</td>\n",
       "      <td>/glade/scratch/kristenk/archive/g.e22a06.G1850...</td>\n",
       "    </tr>\n",
       "    <tr>\n",
       "      <th>3</th>\n",
       "      <td>ocn</td>\n",
       "      <td>pop.h</td>\n",
       "      <td>g.e22a06.g1850ecoiaf_jra_phys_dev.tl319_g17.4p...</td>\n",
       "      <td>month_1</td>\n",
       "      <td>0042-09</td>\n",
       "      <td>[UVEL, UVEL2, VVEL, VVEL2, TEMP, dTEMP_POS_2D,...</td>\n",
       "      <td>/glade/scratch/kristenk/archive/g.e22a06.G1850...</td>\n",
       "    </tr>\n",
       "    <tr>\n",
       "      <th>4</th>\n",
       "      <td>ocn</td>\n",
       "      <td>pop.h</td>\n",
       "      <td>g.e22a06.g1850ecoiaf_jra_phys_dev.tl319_g17.4p...</td>\n",
       "      <td>month_1</td>\n",
       "      <td>0043-11</td>\n",
       "      <td>[UVEL, UVEL2, VVEL, VVEL2, TEMP, dTEMP_POS_2D,...</td>\n",
       "      <td>/glade/scratch/kristenk/archive/g.e22a06.G1850...</td>\n",
       "    </tr>\n",
       "  </tbody>\n",
       "</table>\n",
       "</div>"
      ],
      "text/plain": [
       "  component        stream                                               case  \\\n",
       "0       ocn  pop.h.ecosys  g.e22a06.g1850ecoiaf_jra_phys_dev.tl319_g17.4p...   \n",
       "1       ocn         pop.h  g.e22a06.g1850ecoiaf_jra_phys_dev.tl319_g17.4p...   \n",
       "2       ocn         pop.h  g.e22a06.g1850ecoiaf_jra_phys_dev.tl319_g17.4p...   \n",
       "3       ocn         pop.h  g.e22a06.g1850ecoiaf_jra_phys_dev.tl319_g17.4p...   \n",
       "4       ocn         pop.h  g.e22a06.g1850ecoiaf_jra_phys_dev.tl319_g17.4p...   \n",
       "\n",
       "  frequency              date  \\\n",
       "0   month_1  nday1.0053-01-01   \n",
       "1   month_1           0046-08   \n",
       "2   month_1           0061-07   \n",
       "3   month_1           0042-09   \n",
       "4   month_1           0043-11   \n",
       "\n",
       "                                           variables  \\\n",
       "0  [photoC_sp_zint_2, photoC_diat_zint_2, photoC_...   \n",
       "1  [UVEL, UVEL2, VVEL, VVEL2, TEMP, dTEMP_POS_2D,...   \n",
       "2  [UVEL, UVEL2, VVEL, VVEL2, TEMP, dTEMP_POS_2D,...   \n",
       "3  [UVEL, UVEL2, VVEL, VVEL2, TEMP, dTEMP_POS_2D,...   \n",
       "4  [UVEL, UVEL2, VVEL, VVEL2, TEMP, dTEMP_POS_2D,...   \n",
       "\n",
       "                                                path  \n",
       "0  /glade/scratch/kristenk/archive/g.e22a06.G1850...  \n",
       "1  /glade/scratch/kristenk/archive/g.e22a06.G1850...  \n",
       "2  /glade/scratch/kristenk/archive/g.e22a06.G1850...  \n",
       "3  /glade/scratch/kristenk/archive/g.e22a06.G1850...  \n",
       "4  /glade/scratch/kristenk/archive/g.e22a06.G1850...  "
      ]
     },
     "execution_count": 10,
     "metadata": {},
     "output_type": "execute_result"
    }
   ],
   "source": [
    "col.df.head()"
   ]
  },
  {
   "cell_type": "code",
   "execution_count": 11,
   "id": "subtle-duration",
   "metadata": {},
   "outputs": [
    {
     "data": {
      "text/html": [
       "<p><strong> catalog with 1 dataset(s) from 288 asset(s)</strong>:</p> <div>\n",
       "<style scoped>\n",
       "    .dataframe tbody tr th:only-of-type {\n",
       "        vertical-align: middle;\n",
       "    }\n",
       "\n",
       "    .dataframe tbody tr th {\n",
       "        vertical-align: top;\n",
       "    }\n",
       "\n",
       "    .dataframe thead th {\n",
       "        text-align: right;\n",
       "    }\n",
       "</style>\n",
       "<table border=\"1\" class=\"dataframe\">\n",
       "  <thead>\n",
       "    <tr style=\"text-align: right;\">\n",
       "      <th></th>\n",
       "      <th>unique</th>\n",
       "    </tr>\n",
       "  </thead>\n",
       "  <tbody>\n",
       "    <tr>\n",
       "      <th>component</th>\n",
       "      <td>1</td>\n",
       "    </tr>\n",
       "    <tr>\n",
       "      <th>stream</th>\n",
       "      <td>1</td>\n",
       "    </tr>\n",
       "    <tr>\n",
       "      <th>case</th>\n",
       "      <td>1</td>\n",
       "    </tr>\n",
       "    <tr>\n",
       "      <th>frequency</th>\n",
       "      <td>1</td>\n",
       "    </tr>\n",
       "    <tr>\n",
       "      <th>date</th>\n",
       "      <td>288</td>\n",
       "    </tr>\n",
       "    <tr>\n",
       "      <th>variables</th>\n",
       "      <td>498</td>\n",
       "    </tr>\n",
       "    <tr>\n",
       "      <th>path</th>\n",
       "      <td>288</td>\n",
       "    </tr>\n",
       "  </tbody>\n",
       "</table>\n",
       "</div>"
      ],
      "text/plain": [
       "<IPython.core.display.HTML object>"
      ]
     },
     "metadata": {},
     "output_type": "display_data"
    }
   ],
   "source": [
    "cat = col.search(variables=[\"UVEL\"], case=[\"g.e22a06.g1850ecoiaf_jra_phys_dev.tl319_g17.4p4z.003\"])\n",
    "cat"
   ]
  },
  {
   "cell_type": "code",
   "execution_count": 12,
   "id": "offshore-notion",
   "metadata": {},
   "outputs": [
    {
     "name": "stdout",
     "output_type": "stream",
     "text": [
      "\n",
      "--> The keys in the returned dictionary of datasets are constructed as follows:\n",
      "\t'component/stream/case'\n"
     ]
    },
    {
     "data": {
      "text/html": [
       "\n",
       "    <div>\n",
       "        <style>\n",
       "            /* Turns off some styling */\n",
       "            progress {\n",
       "                /* gets rid of default border in Firefox and Opera. */\n",
       "                border: none;\n",
       "                /* Needs to be in here for Safari polyfill so background images work as expected. */\n",
       "                background-size: auto;\n",
       "            }\n",
       "            .progress-bar-interrupted, .progress-bar-interrupted::-webkit-progress-bar {\n",
       "                background: #F44336;\n",
       "            }\n",
       "        </style>\n",
       "      <progress value='1' class='' max='1' style='width:300px; height:20px; vertical-align: middle;'></progress>\n",
       "      100.00% [1/1 00:00<00:00]\n",
       "    </div>\n",
       "    "
      ],
      "text/plain": [
       "<IPython.core.display.HTML object>"
      ]
     },
     "metadata": {},
     "output_type": "display_data"
    },
    {
     "data": {
      "text/plain": [
       "{'ocn/pop.h/g.e22a06.g1850ecoiaf_jra_phys_dev.tl319_g17.4p4z.003': <xarray.Dataset>\n",
       " Dimensions:  (nlat: 384, nlon: 320, time: 288, z_t: 60)\n",
       " Coordinates:\n",
       "   * time     (time) object 0003-06-01 00:00:00 ... 0007-04-01 00:00:00\n",
       "   * z_t      (z_t) float32 500.0 1.5e+03 2.5e+03 ... 5.125e+05 5.375e+05\n",
       "     ULONG    (nlat, nlon) float64 dask.array<chunksize=(384, 320), meta=np.ndarray>\n",
       "     ULAT     (nlat, nlon) float64 dask.array<chunksize=(384, 320), meta=np.ndarray>\n",
       "     TLONG    (nlat, nlon) float64 dask.array<chunksize=(384, 320), meta=np.ndarray>\n",
       "     TLAT     (nlat, nlon) float64 dask.array<chunksize=(384, 320), meta=np.ndarray>\n",
       " Dimensions without coordinates: nlat, nlon\n",
       " Data variables:\n",
       "     UVEL     (time, z_t, nlat, nlon) float32 dask.array<chunksize=(1, 60, 384, 320), meta=np.ndarray>\n",
       " Attributes:\n",
       "     model_doi_url:           https://doi.org/10.5065/D67H1H0V\n",
       "     intake_esm_varname:      ['UVEL']\n",
       "     title:                   g.e22a06.G1850ECOIAF_JRA_PHYS_DEV.TL319_g17.4p4z...\n",
       "     source:                  CCSM POP2, the CCSM Ocean Component\n",
       "     calendar:                All years have exactly  365 days.\n",
       "     contents:                Diagnostic and Prognostic Variables\n",
       "     revision:                $Id$\n",
       "     Conventions:             CF-1.0; http://www.cgd.ucar.edu/cms/eaton/netcdf...\n",
       "     cell_methods:            cell_methods = time: mean ==> the variable value...\n",
       "     time_period_freq:        month_1\n",
       "     history:                 none\n",
       "     intake_esm_dataset_key:  ocn/pop.h/g.e22a06.g1850ecoiaf_jra_phys_dev.tl31...}"
      ]
     },
     "execution_count": 12,
     "metadata": {},
     "output_type": "execute_result"
    }
   ],
   "source": [
    "dsets = cat.to_dataset_dict(cdf_kwargs={'use_cftime': True, 'chunks': {}})\n",
    "dsets"
   ]
  },
  {
   "cell_type": "code",
   "execution_count": null,
   "id": "robust-copper",
   "metadata": {},
   "outputs": [],
   "source": []
  }
 ],
 "metadata": {
  "kernelspec": {
   "display_name": "Python [conda env:miniconda-playground]",
   "language": "python",
   "name": "conda-env-miniconda-playground-py"
  },
  "language_info": {
   "codemirror_mode": {
    "name": "ipython",
    "version": 3
   },
   "file_extension": ".py",
   "mimetype": "text/x-python",
   "name": "python",
   "nbconvert_exporter": "python",
   "pygments_lexer": "ipython3",
   "version": "3.8.8"
  },
  "widgets": {
   "application/vnd.jupyter.widget-state+json": {
    "state": {
     "00299b12d087478bbf3f12481059d7df": {
      "model_module": "@jupyter-widgets/controls",
      "model_module_version": "1.5.0",
      "model_name": "HBoxModel",
      "state": {
       "children": [
        "IPY_MODEL_d8301cf654434ec8a3eecf890bd3a3b3",
        "IPY_MODEL_f3c20241af7046889560445d6d71e1fc",
        "IPY_MODEL_d5e5819af2ed4fc4bc9ee1771c959c47"
       ],
       "layout": "IPY_MODEL_36b4728fca2b4c75b0a6bf367417bdb2"
      }
     },
     "02175eb09b0c43038a74e3ac88cbfa9e": {
      "model_module": "@jupyter-widgets/base",
      "model_module_version": "1.2.0",
      "model_name": "LayoutModel",
      "state": {}
     },
     "15a736187df74146bcdfa23e4fb2360a": {
      "model_module": "@jupyter-widgets/controls",
      "model_module_version": "1.5.0",
      "model_name": "VBoxModel",
      "state": {
       "children": [
        "IPY_MODEL_ef0f5f5f2e0443609083d8f5c33b7565",
        "IPY_MODEL_cd9b4f8c5df844da819836d9962f5c47",
        "IPY_MODEL_811e76ff936f4bb99fdb4a87e27f1f47"
       ],
       "layout": "IPY_MODEL_cee327839e2f4e0b860942af529a588b"
      }
     },
     "24570fef0a554615b7bcf39135bd65d8": {
      "model_module": "@jupyter-widgets/controls",
      "model_module_version": "1.5.0",
      "model_name": "DescriptionStyleModel",
      "state": {
       "description_width": ""
      }
     },
     "36b4728fca2b4c75b0a6bf367417bdb2": {
      "model_module": "@jupyter-widgets/base",
      "model_module_version": "1.2.0",
      "model_name": "LayoutModel",
      "state": {}
     },
     "5ee192800bdf49da807c22a4a94a3892": {
      "model_module": "@jupyter-widgets/base",
      "model_module_version": "1.2.0",
      "model_name": "LayoutModel",
      "state": {
       "min_width": "150px"
      }
     },
     "62475a46e0c94905a8b41248d893a3ad": {
      "model_module": "@jupyter-widgets/controls",
      "model_module_version": "1.5.0",
      "model_name": "IntTextModel",
      "state": {
       "description": "Workers",
       "layout": "IPY_MODEL_7e2392c456b945d4a7344d3428724ce1",
       "step": 1,
       "style": "IPY_MODEL_24570fef0a554615b7bcf39135bd65d8",
       "value": 20
      }
     },
     "667979bfae364bd4aff2c0bd344d5c2f": {
      "model_module": "@jupyter-widgets/base",
      "model_module_version": "1.2.0",
      "model_name": "LayoutModel",
      "state": {}
     },
     "7817cfbe1ba64276a476ab518961a516": {
      "model_module": "@jupyter-widgets/controls",
      "model_module_version": "1.5.0",
      "model_name": "DescriptionStyleModel",
      "state": {
       "description_width": ""
      }
     },
     "79e27685dcd1479ea0292b7936ae9961": {
      "model_module": "@jupyter-widgets/controls",
      "model_module_version": "1.5.0",
      "model_name": "HBoxModel",
      "state": {
       "children": [
        "IPY_MODEL_62475a46e0c94905a8b41248d893a3ad",
        "IPY_MODEL_db9f957d02b747a19a76ea1dac597b94"
       ],
       "layout": "IPY_MODEL_02175eb09b0c43038a74e3ac88cbfa9e"
      }
     },
     "7e2392c456b945d4a7344d3428724ce1": {
      "model_module": "@jupyter-widgets/base",
      "model_module_version": "1.2.0",
      "model_name": "LayoutModel",
      "state": {
       "width": "150px"
      }
     },
     "7ef36e9aedf448af956afe4c3c7f8254": {
      "model_module": "@jupyter-widgets/controls",
      "model_module_version": "1.5.0",
      "model_name": "AccordionModel",
      "state": {
       "_titles": {
        "0": "Manual Scaling",
        "1": "Adaptive Scaling"
       },
       "children": [
        "IPY_MODEL_79e27685dcd1479ea0292b7936ae9961",
        "IPY_MODEL_00299b12d087478bbf3f12481059d7df"
       ],
       "layout": "IPY_MODEL_8a7a8743c49743d4809c20917f09ad6b"
      }
     },
     "811e76ff936f4bb99fdb4a87e27f1f47": {
      "model_module": "@jupyter-widgets/controls",
      "model_module_version": "1.5.0",
      "model_name": "HTMLModel",
      "state": {
       "layout": "IPY_MODEL_c30bbfd1f282404caaf08556a6faec48",
       "style": "IPY_MODEL_858a8e8e055946e19657d5e9c60ffbfc",
       "value": "<p><b>Dashboard: </b><a href=\"https://jupyterhub.hpc.ucar.edu/stable/user/abanihi/dav-login/proxy/34697/status\" target=\"_blank\">https://jupyterhub.hpc.ucar.edu/stable/user/abanihi/dav-login/proxy/34697/status</a></p>\n"
      }
     },
     "858a8e8e055946e19657d5e9c60ffbfc": {
      "model_module": "@jupyter-widgets/controls",
      "model_module_version": "1.5.0",
      "model_name": "DescriptionStyleModel",
      "state": {
       "description_width": ""
      }
     },
     "8a7a8743c49743d4809c20917f09ad6b": {
      "model_module": "@jupyter-widgets/base",
      "model_module_version": "1.2.0",
      "model_name": "LayoutModel",
      "state": {
       "min_width": "500px"
      }
     },
     "989a198fa22d4ebb9abafbe5419fe678": {
      "model_module": "@jupyter-widgets/controls",
      "model_module_version": "1.5.0",
      "model_name": "DescriptionStyleModel",
      "state": {
       "description_width": ""
      }
     },
     "a1552e063b0f47e992104ededc61ec75": {
      "model_module": "@jupyter-widgets/controls",
      "model_module_version": "1.5.0",
      "model_name": "HTMLModel",
      "state": {
       "layout": "IPY_MODEL_5ee192800bdf49da807c22a4a94a3892",
       "style": "IPY_MODEL_b425201798f9431aacbafae52ae0a3ea",
       "value": "\n<div>\n  <style scoped>\n    .dataframe tbody tr th:only-of-type {\n        vertical-align: middle;\n    }\n\n    .dataframe tbody tr th {\n        vertical-align: top;\n    }\n\n    .dataframe thead th {\n        text-align: right;\n    }\n  </style>\n  <table style=\"text-align: right;\">\n    <tr> <th>Workers</th> <td>19 / 20</td></tr>\n    <tr> <th>Cores</th> <td>38</td></tr>\n    <tr> <th>Memory</th> <td>442.32 GiB</td></tr>\n  </table>\n</div>\n"
      }
     },
     "b1b7f865cf9a4ab48d03e35c8f00144d": {
      "model_module": "@jupyter-widgets/controls",
      "model_module_version": "1.5.0",
      "model_name": "DescriptionStyleModel",
      "state": {
       "description_width": ""
      }
     },
     "b425201798f9431aacbafae52ae0a3ea": {
      "model_module": "@jupyter-widgets/controls",
      "model_module_version": "1.5.0",
      "model_name": "DescriptionStyleModel",
      "state": {
       "description_width": ""
      }
     },
     "c30bbfd1f282404caaf08556a6faec48": {
      "model_module": "@jupyter-widgets/base",
      "model_module_version": "1.2.0",
      "model_name": "LayoutModel",
      "state": {}
     },
     "c3e0d69d5d8549e490ed76f79fab41de": {
      "model_module": "@jupyter-widgets/base",
      "model_module_version": "1.2.0",
      "model_name": "LayoutModel",
      "state": {}
     },
     "cd9b4f8c5df844da819836d9962f5c47": {
      "model_module": "@jupyter-widgets/controls",
      "model_module_version": "1.5.0",
      "model_name": "HBoxModel",
      "state": {
       "children": [
        "IPY_MODEL_a1552e063b0f47e992104ededc61ec75",
        "IPY_MODEL_7ef36e9aedf448af956afe4c3c7f8254"
       ],
       "layout": "IPY_MODEL_667979bfae364bd4aff2c0bd344d5c2f"
      }
     },
     "cee327839e2f4e0b860942af529a588b": {
      "model_module": "@jupyter-widgets/base",
      "model_module_version": "1.2.0",
      "model_name": "LayoutModel",
      "state": {}
     },
     "d5e5819af2ed4fc4bc9ee1771c959c47": {
      "model_module": "@jupyter-widgets/controls",
      "model_module_version": "1.5.0",
      "model_name": "ButtonModel",
      "state": {
       "description": "Adapt",
       "layout": "IPY_MODEL_7e2392c456b945d4a7344d3428724ce1",
       "style": "IPY_MODEL_e65ed6ecb2c046538af737c38626d7ed"
      }
     },
     "d8301cf654434ec8a3eecf890bd3a3b3": {
      "model_module": "@jupyter-widgets/controls",
      "model_module_version": "1.5.0",
      "model_name": "IntTextModel",
      "state": {
       "description": "Minimum",
       "layout": "IPY_MODEL_7e2392c456b945d4a7344d3428724ce1",
       "step": 1,
       "style": "IPY_MODEL_7817cfbe1ba64276a476ab518961a516"
      }
     },
     "db9f957d02b747a19a76ea1dac597b94": {
      "model_module": "@jupyter-widgets/controls",
      "model_module_version": "1.5.0",
      "model_name": "ButtonModel",
      "state": {
       "description": "Scale",
       "layout": "IPY_MODEL_7e2392c456b945d4a7344d3428724ce1",
       "style": "IPY_MODEL_e136c00c726d4057a0b8f19b5de66218"
      }
     },
     "e136c00c726d4057a0b8f19b5de66218": {
      "model_module": "@jupyter-widgets/controls",
      "model_module_version": "1.5.0",
      "model_name": "ButtonStyleModel",
      "state": {}
     },
     "e65ed6ecb2c046538af737c38626d7ed": {
      "model_module": "@jupyter-widgets/controls",
      "model_module_version": "1.5.0",
      "model_name": "ButtonStyleModel",
      "state": {}
     },
     "ef0f5f5f2e0443609083d8f5c33b7565": {
      "model_module": "@jupyter-widgets/controls",
      "model_module_version": "1.5.0",
      "model_name": "HTMLModel",
      "state": {
       "layout": "IPY_MODEL_c3e0d69d5d8549e490ed76f79fab41de",
       "style": "IPY_MODEL_989a198fa22d4ebb9abafbe5419fe678",
       "value": "<h2>PBSCluster</h2>"
      }
     },
     "f3c20241af7046889560445d6d71e1fc": {
      "model_module": "@jupyter-widgets/controls",
      "model_module_version": "1.5.0",
      "model_name": "IntTextModel",
      "state": {
       "description": "Maximum",
       "layout": "IPY_MODEL_7e2392c456b945d4a7344d3428724ce1",
       "step": 1,
       "style": "IPY_MODEL_b1b7f865cf9a4ab48d03e35c8f00144d"
      }
     }
    },
    "version_major": 2,
    "version_minor": 0
   }
  }
 },
 "nbformat": 4,
 "nbformat_minor": 5
}
