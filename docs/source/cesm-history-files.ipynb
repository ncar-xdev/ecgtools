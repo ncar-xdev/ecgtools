{
 "cells": [
  {
   "cell_type": "code",
   "execution_count": 24,
   "id": "functioning-professional",
   "metadata": {},
   "outputs": [],
   "source": [
    "import ast\n",
    "\n",
    "import intake\n",
    "from distributed import Client\n",
    "from ncar_jobqueue import NCARCluster\n",
    "\n",
    "from ecgtools import Builder\n",
    "from ecgtools.parsers.cesm import parse_cesm_history"
   ]
  },
  {
   "cell_type": "code",
   "execution_count": 2,
   "id": "noble-pierre",
   "metadata": {},
   "outputs": [
    {
     "name": "stderr",
     "output_type": "stream",
     "text": [
      "/glade/work/abanihi/opt/miniconda/envs/playground/lib/python3.8/site-packages/distributed/node.py:151: UserWarning: Port 8787 is already in use.\n",
      "Perhaps you already have a cluster running?\n",
      "Hosting the HTTP server on port 38842 instead\n",
      "  warnings.warn(\n"
     ]
    },
    {
     "data": {
      "application/vnd.jupyter.widget-view+json": {
       "model_id": "d18f47f1ec234038bae65fcab73f9cf6",
       "version_major": 2,
       "version_minor": 0
      },
      "text/plain": [
       "VBox(children=(HTML(value='<h2>PBSCluster</h2>'), HBox(children=(HTML(value='\\n<div>\\n  <style scoped>\\n    .d…"
      ]
     },
     "metadata": {},
     "output_type": "display_data"
    }
   ],
   "source": [
    "cluster = NCARCluster()\n",
    "client = Client(cluster)\n",
    "cluster"
   ]
  },
  {
   "cell_type": "code",
   "execution_count": 21,
   "id": "banned-insured",
   "metadata": {},
   "outputs": [],
   "source": [
    "b = Builder(\n",
    "    \"/glade/scratch/kristenk/archive/\",\n",
    "    depth=2,\n",
    "    parser=parse_cesm_history,\n",
    "    exclude_patterns=[\"*/tseries/*\"],\n",
    ")"
   ]
  },
  {
   "cell_type": "code",
   "execution_count": 22,
   "id": "charitable-geometry",
   "metadata": {
    "collapsed": true,
    "jupyter": {
     "outputs_hidden": true
    },
    "tags": []
   },
   "outputs": [
    {
     "data": {
      "text/html": [
       "<pre style=\"white-space:pre;overflow-x:auto;line-height:normal;font-family:Menlo,'DejaVu Sans Mono',consolas,'Courier New',monospace\">Getting list of directories<span style=\"color: #808000; text-decoration-color: #808000\">...</span>\n",
       "</pre>\n"
      ],
      "text/plain": [
       "Getting list of directories\u001b[33m...\u001b[0m\n"
      ]
     },
     "metadata": {},
     "output_type": "display_data"
    },
    {
     "data": {
      "text/html": [
       "<pre style=\"white-space:pre;overflow-x:auto;line-height:normal;font-family:Menlo,'DejaVu Sans Mono',consolas,'Courier New',monospace\">Getting list of files<span style=\"color: #808000; text-decoration-color: #808000\">...</span>\n",
       "</pre>\n"
      ],
      "text/plain": [
       "Getting list of files\u001b[33m...\u001b[0m\n"
      ]
     },
     "metadata": {},
     "output_type": "display_data"
    },
    {
     "data": {
      "text/html": [
       "<pre style=\"white-space:pre;overflow-x:auto;line-height:normal;font-family:Menlo,'DejaVu Sans Mono',consolas,'Courier New',monospace\">Batching `_get_filelist<span style=\"font-weight: bold\">()</span>` dask.delayed calls<span style=\"color: #808000; text-decoration-color: #808000\">...</span>\n",
       "</pre>\n"
      ],
      "text/plain": [
       "Batching `_get_filelist\u001b[1m(\u001b[0m\u001b[1m)\u001b[0m` dask.delayed calls\u001b[33m...\u001b[0m\n"
      ]
     },
     "metadata": {},
     "output_type": "display_data"
    },
    {
     "data": {
      "text/html": [
       "<pre style=\"white-space:pre;overflow-x:auto;line-height:normal;font-family:Menlo,'DejaVu Sans Mono',consolas,'Courier New',monospace\">Harvesting attributes/metadata from files<span style=\"color: #808000; text-decoration-color: #808000\">...</span>\n",
       "</pre>\n"
      ],
      "text/plain": [
       "Harvesting attributes/metadata from files\u001b[33m...\u001b[0m\n"
      ]
     },
     "metadata": {},
     "output_type": "display_data"
    },
    {
     "data": {
      "text/html": [
       "<pre style=\"white-space:pre;overflow-x:auto;line-height:normal;font-family:Menlo,'DejaVu Sans Mono',consolas,'Courier New',monospace\"><span style=\"color: #800000; text-decoration-color: #800000; font-weight: bold\">Unable to parse the following </span><span style=\"color: #800000; text-decoration-color: #800000; font-weight: bold\">221</span><span style=\"color: #800000; text-decoration-color: #800000; font-weight: bold\"> assets:</span>\n",
       "</pre>\n"
      ],
      "text/plain": [
       "\u001b[1;31mUnable to parse the following \u001b[0m\u001b[1;31m221\u001b[0m\u001b[1;31m assets:\u001b[0m\n"
      ]
     },
     "metadata": {},
     "output_type": "display_data"
    },
    {
     "data": {
      "text/html": [
       "<pre style=\"white-space:pre;overflow-x:auto;line-height:normal;font-family:Menlo,'DejaVu Sans Mono',consolas,'Courier New',monospace\">┏━━━━━━━━━━━━━━━━━━━━━━━━━━━━━━━━━━━━━━━━━━━━━━━━━━━━━━━━━━━━━━━━━━━━━━━━━━━━━━━━━━━━━━━━━━━┓\n",
       "┃<span style=\"color: #800080; text-decoration-color: #800080; font-weight: bold\"> Path                                                                                      </span>┃\n",
       "┡━━━━━━━━━━━━━━━━━━━━━━━━━━━━━━━━━━━━━━━━━━━━━━━━━━━━━━━━━━━━━━━━━━━━━━━━━━━━━━━━━━━━━━━━━━━┩\n",
       "│<span style=\"color: #7f7f7f; text-decoration-color: #7f7f7f\"> /glade/scratch/kristenk/archive/g.e22a06.G1850ECOIAF_JRA_PHYS_DEV.TL319_g17.4p4z.zoo4sig… </span>│\n",
       "│<span style=\"color: #7f7f7f; text-decoration-color: #7f7f7f\"> /glade/scratch/kristenk/archive/g.e22a06.G1850ECOIAF_JRA_PHYS_DEV.TL319_g17.4p4z.zoo4sig… </span>│\n",
       "│<span style=\"color: #7f7f7f; text-decoration-color: #7f7f7f\"> /glade/scratch/kristenk/archive/g.e22a06.G1850ECOIAF_JRA_PHYS_DEV.TL319_g17.4p4z.zoo4sig… </span>│\n",
       "│<span style=\"color: #7f7f7f; text-decoration-color: #7f7f7f\"> /glade/scratch/kristenk/archive/g.e22a06.G1850ECOIAF_JRA_PHYS_DEV.TL319_g17.4p4z.zoo4sig… </span>│\n",
       "│<span style=\"color: #7f7f7f; text-decoration-color: #7f7f7f\"> /glade/scratch/kristenk/archive/g.e22a06.G1850ECOIAF_JRA_PHYS_DEV.TL319_g17.4p4z.zoo4sig… </span>│\n",
       "│<span style=\"color: #7f7f7f; text-decoration-color: #7f7f7f\"> /glade/scratch/kristenk/archive/g.e22a06.G1850ECOIAF_JRA_PHYS_DEV.TL319_g17.4p4z.zoo4sig… </span>│\n",
       "│<span style=\"color: #7f7f7f; text-decoration-color: #7f7f7f\"> /glade/scratch/kristenk/archive/g.e22a06.G1850ECOIAF_JRA_PHYS_DEV.TL319_g17.4p4z.zoo4sig… </span>│\n",
       "│<span style=\"color: #7f7f7f; text-decoration-color: #7f7f7f\"> /glade/scratch/kristenk/archive/g.e22a06.G1850ECOIAF_JRA_PHYS_DEV.TL319_g17.4p4z.zoo4sig… </span>│\n",
       "│<span style=\"color: #7f7f7f; text-decoration-color: #7f7f7f\"> /glade/scratch/kristenk/archive/g.e22a06.G1850ECOIAF_JRA_PHYS_DEV.TL319_g17.4p4z.zoo4sig… </span>│\n",
       "│<span style=\"color: #7f7f7f; text-decoration-color: #7f7f7f\"> /glade/scratch/kristenk/archive/g.e22a06.G1850ECOIAF_JRA_PHYS_DEV.TL319_g17.4p4z.zoo4sig… </span>│\n",
       "│<span style=\"color: #7f7f7f; text-decoration-color: #7f7f7f\"> /glade/scratch/kristenk/archive/g.e22a06.G1850ECOIAF_JRA_PHYS_DEV.TL319_g17.4p4z.zoo4sig… </span>│\n",
       "│<span style=\"color: #7f7f7f; text-decoration-color: #7f7f7f\"> /glade/scratch/kristenk/archive/g.e22a06.G1850ECOIAF_JRA_PHYS_DEV.TL319_g17.4p4z.zoo4sig… </span>│\n",
       "│<span style=\"color: #7f7f7f; text-decoration-color: #7f7f7f\"> /glade/scratch/kristenk/archive/g.e22a06.G1850ECOIAF_JRA_PHYS_DEV.TL319_g17.4p4z.zoo4sig… </span>│\n",
       "│<span style=\"color: #7f7f7f; text-decoration-color: #7f7f7f\"> /glade/scratch/kristenk/archive/g.e22a06.G1850ECOIAF_JRA_PHYS_DEV.TL319_g17.4p4z.zoo4mor… </span>│\n",
       "│<span style=\"color: #7f7f7f; text-decoration-color: #7f7f7f\"> /glade/scratch/kristenk/archive/g.e22a06.G1850ECOIAF_JRA_PHYS_DEV.TL319_g17.4p4z.zoo4mor… </span>│\n",
       "│<span style=\"color: #7f7f7f; text-decoration-color: #7f7f7f\"> /glade/scratch/kristenk/archive/g.e22a06.G1850ECOIAF_JRA_PHYS_DEV.TL319_g17.4p4z.zoo4mor… </span>│\n",
       "│<span style=\"color: #7f7f7f; text-decoration-color: #7f7f7f\"> /glade/scratch/kristenk/archive/g.e22a06.G1850ECOIAF_JRA_PHYS_DEV.TL319_g17.4p4z.zoo4mor… </span>│\n",
       "│<span style=\"color: #7f7f7f; text-decoration-color: #7f7f7f\"> /glade/scratch/kristenk/archive/g.e22a06.G1850ECOIAF_JRA_PHYS_DEV.TL319_g17.4p4z.zoo4mor… </span>│\n",
       "│<span style=\"color: #7f7f7f; text-decoration-color: #7f7f7f\"> /glade/scratch/kristenk/archive/g.e22a06.G1850ECOIAF_JRA_PHYS_DEV.TL319_g17.4p4z.zoo4mor… </span>│\n",
       "│<span style=\"color: #7f7f7f; text-decoration-color: #7f7f7f\"> /glade/scratch/kristenk/archive/g.e22a06.G1850ECOIAF_JRA_PHYS_DEV.TL319_g17.4p4z.zoo4mor… </span>│\n",
       "│<span style=\"color: #7f7f7f; text-decoration-color: #7f7f7f\"> /glade/scratch/kristenk/archive/g.e22a06.G1850ECOIAF_JRA_PHYS_DEV.TL319_g17.4p4z.zoo4mor… </span>│\n",
       "│<span style=\"color: #7f7f7f; text-decoration-color: #7f7f7f\"> /glade/scratch/kristenk/archive/g.e22a06.G1850ECOIAF_JRA_PHYS_DEV.TL319_g17.4p4z.zoo4mor… </span>│\n",
       "│<span style=\"color: #7f7f7f; text-decoration-color: #7f7f7f\"> /glade/scratch/kristenk/archive/g.e22a06.G1850ECOIAF_JRA_PHYS_DEV.TL319_g17.4p4z.zoo4mor… </span>│\n",
       "│<span style=\"color: #7f7f7f; text-decoration-color: #7f7f7f\"> /glade/scratch/kristenk/archive/g.e22a06.G1850ECOIAF_JRA_PHYS_DEV.TL319_g17.4p4z.zoo4mor… </span>│\n",
       "│<span style=\"color: #7f7f7f; text-decoration-color: #7f7f7f\"> /glade/scratch/kristenk/archive/g.e22a06.G1850ECOIAF_JRA_PHYS_DEV.TL319_g17.4p4z.zoo4mor… </span>│\n",
       "│<span style=\"color: #7f7f7f; text-decoration-color: #7f7f7f\"> /glade/scratch/kristenk/archive/g.e22a06.G1850ECOIAF_JRA_PHYS_DEV.TL319_g17.4p4z.zoo4mor… </span>│\n",
       "│<span style=\"color: #7f7f7f; text-decoration-color: #7f7f7f\"> /glade/scratch/kristenk/archive/g.e22a06.G1850ECOIAF_JRA_PHYS_DEV.TL319_g17.4p4z.zoo4low… </span>│\n",
       "│<span style=\"color: #7f7f7f; text-decoration-color: #7f7f7f\"> /glade/scratch/kristenk/archive/g.e22a06.G1850ECOIAF_JRA_PHYS_DEV.TL319_g17.4p4z.zoo4low… </span>│\n",
       "│<span style=\"color: #7f7f7f; text-decoration-color: #7f7f7f\"> /glade/scratch/kristenk/archive/g.e22a06.G1850ECOIAF_JRA_PHYS_DEV.TL319_g17.4p4z.zoo4low… </span>│\n",
       "│<span style=\"color: #7f7f7f; text-decoration-color: #7f7f7f\"> /glade/scratch/kristenk/archive/g.e22a06.G1850ECOIAF_JRA_PHYS_DEV.TL319_g17.4p4z.zoo4low… </span>│\n",
       "│<span style=\"color: #7f7f7f; text-decoration-color: #7f7f7f\"> /glade/scratch/kristenk/archive/g.e22a06.G1850ECOIAF_JRA_PHYS_DEV.TL319_g17.4p4z.zoo4low… </span>│\n",
       "│<span style=\"color: #7f7f7f; text-decoration-color: #7f7f7f\"> /glade/scratch/kristenk/archive/g.e22a06.G1850ECOIAF_JRA_PHYS_DEV.TL319_g17.4p4z.zoo4low… </span>│\n",
       "│<span style=\"color: #7f7f7f; text-decoration-color: #7f7f7f\"> /glade/scratch/kristenk/archive/g.e22a06.G1850ECOIAF_JRA_PHYS_DEV.TL319_g17.4p4z.zoo4low… </span>│\n",
       "│<span style=\"color: #7f7f7f; text-decoration-color: #7f7f7f\"> /glade/scratch/kristenk/archive/g.e22a06.G1850ECOIAF_JRA_PHYS_DEV.TL319_g17.4p4z.zoo4low… </span>│\n",
       "│<span style=\"color: #7f7f7f; text-decoration-color: #7f7f7f\"> /glade/scratch/kristenk/archive/g.e22a06.G1850ECOIAF_JRA_PHYS_DEV.TL319_g17.4p4z.zoo4low… </span>│\n",
       "│<span style=\"color: #7f7f7f; text-decoration-color: #7f7f7f\"> /glade/scratch/kristenk/archive/g.e22a06.G1850ECOIAF_JRA_PHYS_DEV.TL319_g17.4p4z.zoo4low… </span>│\n",
       "│<span style=\"color: #7f7f7f; text-decoration-color: #7f7f7f\"> /glade/scratch/kristenk/archive/g.e22a06.G1850ECOIAF_JRA_PHYS_DEV.TL319_g17.4p4z.zoo4low… </span>│\n",
       "│<span style=\"color: #7f7f7f; text-decoration-color: #7f7f7f\"> /glade/scratch/kristenk/archive/g.e22a06.G1850ECOIAF_JRA_PHYS_DEV.TL319_g17.4p4z.zoo4low… </span>│\n",
       "│<span style=\"color: #7f7f7f; text-decoration-color: #7f7f7f\"> /glade/scratch/kristenk/archive/g.e22a06.G1850ECOIAF_JRA_PHYS_DEV.TL319_g17.4p4z.zoo4low… </span>│\n",
       "│<span style=\"color: #7f7f7f; text-decoration-color: #7f7f7f\"> /glade/scratch/kristenk/archive/g.e22a06.G1850ECOIAF_JRA_PHYS_DEV.TL319_g17.4p4z.005/ocn… </span>│\n",
       "│<span style=\"color: #7f7f7f; text-decoration-color: #7f7f7f\"> /glade/scratch/kristenk/archive/g.e22a06.G1850ECOIAF_JRA_PHYS_DEV.TL319_g17.4p4z.005/res… </span>│\n",
       "│<span style=\"color: #7f7f7f; text-decoration-color: #7f7f7f\"> /glade/scratch/kristenk/archive/g.e22a06.G1850ECOIAF_JRA_PHYS_DEV.TL319_g17.4p4z.005/res… </span>│\n",
       "│<span style=\"color: #7f7f7f; text-decoration-color: #7f7f7f\"> /glade/scratch/kristenk/archive/g.e22a06.G1850ECOIAF_JRA_PHYS_DEV.TL319_g17.4p4z.005/res… </span>│\n",
       "│<span style=\"color: #7f7f7f; text-decoration-color: #7f7f7f\"> /glade/scratch/kristenk/archive/g.e22a06.G1850ECOIAF_JRA_PHYS_DEV.TL319_g17.4p4z.005/res… </span>│\n",
       "│<span style=\"color: #7f7f7f; text-decoration-color: #7f7f7f\"> /glade/scratch/kristenk/archive/g.e22a06.G1850ECOIAF_JRA_PHYS_DEV.TL319_g17.4p4z.005/res… </span>│\n",
       "│<span style=\"color: #7f7f7f; text-decoration-color: #7f7f7f\"> /glade/scratch/kristenk/archive/g.e22a06.G1850ECOIAF_JRA_PHYS_DEV.TL319_g17.4p4z.005/res… </span>│\n",
       "│<span style=\"color: #7f7f7f; text-decoration-color: #7f7f7f\"> /glade/scratch/kristenk/archive/g.e22a06.G1850ECOIAF_JRA_PHYS_DEV.TL319_g17.4p4z.005/res… </span>│\n",
       "│<span style=\"color: #7f7f7f; text-decoration-color: #7f7f7f\"> /glade/scratch/kristenk/archive/g.e22a06.G1850ECOIAF_JRA_PHYS_DEV.TL319_g17.4p4z.005/res… </span>│\n",
       "│<span style=\"color: #7f7f7f; text-decoration-color: #7f7f7f\"> /glade/scratch/kristenk/archive/g.e22a06.G1850ECOIAF_JRA_PHYS_DEV.TL319_g17.4p4z.005/res… </span>│\n",
       "│<span style=\"color: #7f7f7f; text-decoration-color: #7f7f7f\"> /glade/scratch/kristenk/archive/g.e22a06.G1850ECOIAF_JRA_PHYS_DEV.TL319_g17.4p4z.005/res… </span>│\n",
       "│<span style=\"color: #7f7f7f; text-decoration-color: #7f7f7f\"> /glade/scratch/kristenk/archive/g.e22a06.G1850ECOIAF_JRA_PHYS_DEV.TL319_g17.4p4z.005/res… </span>│\n",
       "│<span style=\"color: #7f7f7f; text-decoration-color: #7f7f7f\"> /glade/scratch/kristenk/archive/g.e22a06.G1850ECOIAF_JRA_PHYS_DEV.TL319_g17.4p4z.005/res… </span>│\n",
       "│<span style=\"color: #7f7f7f; text-decoration-color: #7f7f7f\"> /glade/scratch/kristenk/archive/g.e22a06.G1850ECOIAF_JRA_PHYS_DEV.TL319_g17.4p4z.005/res… </span>│\n",
       "│<span style=\"color: #7f7f7f; text-decoration-color: #7f7f7f\"> /glade/scratch/kristenk/archive/g.e22a06.G1850ECOIAF_JRA_PHYS_DEV.TL319_g17.4p4z.005/res… </span>│\n",
       "│<span style=\"color: #7f7f7f; text-decoration-color: #7f7f7f\"> /glade/scratch/kristenk/archive/g.e22a06.G1850ECOIAF_JRA_PHYS_DEV.TL319_g17.4p4z.005/res… </span>│\n",
       "│<span style=\"color: #7f7f7f; text-decoration-color: #7f7f7f\"> /glade/scratch/kristenk/archive/g.e22a06.G1850ECOIAF_JRA_PHYS_DEV.TL319_g17.4p4z.005/res… </span>│\n",
       "│<span style=\"color: #7f7f7f; text-decoration-color: #7f7f7f\"> /glade/scratch/kristenk/archive/g.e22a06.G1850ECOIAF_JRA_PHYS_DEV.TL319_g17.4p4z.005/res… </span>│\n",
       "│<span style=\"color: #7f7f7f; text-decoration-color: #7f7f7f\"> /glade/scratch/kristenk/archive/g.e22a06.G1850ECOIAF_JRA_PHYS_DEV.TL319_g17.4p4z.005/res… </span>│\n",
       "│<span style=\"color: #7f7f7f; text-decoration-color: #7f7f7f\"> /glade/scratch/kristenk/archive/g.e22a06.G1850ECOIAF_JRA_PHYS_DEV.TL319_g17.4p4z.005/res… </span>│\n",
       "│<span style=\"color: #7f7f7f; text-decoration-color: #7f7f7f\"> /glade/scratch/kristenk/archive/g.e22a06.G1850ECOIAF_JRA_PHYS_DEV.TL319_g17.4p4z.005/res… </span>│\n",
       "│<span style=\"color: #7f7f7f; text-decoration-color: #7f7f7f\"> /glade/scratch/kristenk/archive/g.e22a06.G1850ECOIAF_JRA_PHYS_DEV.TL319_g17.4p4z.005/res… </span>│\n",
       "│<span style=\"color: #7f7f7f; text-decoration-color: #7f7f7f\"> /glade/scratch/kristenk/archive/g.e22a06.G1850ECOIAF_JRA_PHYS_DEV.TL319_g17.4p4z.005/res… </span>│\n",
       "│<span style=\"color: #7f7f7f; text-decoration-color: #7f7f7f\"> /glade/scratch/kristenk/archive/g.e22a06.G1850ECOIAF_JRA_PHYS_DEV.TL319_g17.4p4z.005/res… </span>│\n",
       "│<span style=\"color: #7f7f7f; text-decoration-color: #7f7f7f\"> /glade/scratch/kristenk/archive/g.e22a06.G1850ECOIAF_JRA_PHYS_DEV.TL319_g17.4p4z.005/res… </span>│\n",
       "│<span style=\"color: #7f7f7f; text-decoration-color: #7f7f7f\"> /glade/scratch/kristenk/archive/g.e22a06.G1850ECOIAF_JRA_PHYS_DEV.TL319_g17.4p4z.005/res… </span>│\n",
       "│<span style=\"color: #7f7f7f; text-decoration-color: #7f7f7f\"> /glade/scratch/kristenk/archive/g.e22a06.G1850ECOIAF_JRA_PHYS_DEV.TL319_g17.4p4z.005/res… </span>│\n",
       "│<span style=\"color: #7f7f7f; text-decoration-color: #7f7f7f\"> /glade/scratch/kristenk/archive/g.e22a06.G1850ECOIAF_JRA_PHYS_DEV.TL319_g17.4p4z.005/res… </span>│\n",
       "│<span style=\"color: #7f7f7f; text-decoration-color: #7f7f7f\"> /glade/scratch/kristenk/archive/g.e22a06.G1850ECOIAF_JRA_PHYS_DEV.TL319_g17.4p4z.zoo4lon… </span>│\n",
       "│<span style=\"color: #7f7f7f; text-decoration-color: #7f7f7f\"> /glade/scratch/kristenk/archive/g.e22a06.G1850ECOIAF_JRA_PHYS_DEV.TL319_g17.4p4z.zoo4lon… </span>│\n",
       "│<span style=\"color: #7f7f7f; text-decoration-color: #7f7f7f\"> /glade/scratch/kristenk/archive/g.e22a06.G1850ECOIAF_JRA_PHYS_DEV.TL319_g17.4p4z.zoo4lon… </span>│\n",
       "│<span style=\"color: #7f7f7f; text-decoration-color: #7f7f7f\"> /glade/scratch/kristenk/archive/g.e22a06.G1850ECOIAF_JRA_PHYS_DEV.TL319_g17.4p4z.zoo4lon… </span>│\n",
       "│<span style=\"color: #7f7f7f; text-decoration-color: #7f7f7f\"> /glade/scratch/kristenk/archive/g.e22a06.G1850ECOIAF_JRA_PHYS_DEV.TL319_g17.4p4z.zoo4lon… </span>│\n",
       "│<span style=\"color: #7f7f7f; text-decoration-color: #7f7f7f\"> /glade/scratch/kristenk/archive/g.e22a06.G1850ECOIAF_JRA_PHYS_DEV.TL319_g17.4p4z.zoo4lon… </span>│\n",
       "│<span style=\"color: #7f7f7f; text-decoration-color: #7f7f7f\"> /glade/scratch/kristenk/archive/g.e22a06.G1850ECOIAF_JRA_PHYS_DEV.TL319_g17.4p4z.zoo4lon… </span>│\n",
       "│<span style=\"color: #7f7f7f; text-decoration-color: #7f7f7f\"> /glade/scratch/kristenk/archive/g.e22a06.G1850ECOIAF_JRA_PHYS_DEV.TL319_g17.4p4z.zoo4lon… </span>│\n",
       "│<span style=\"color: #7f7f7f; text-decoration-color: #7f7f7f\"> /glade/scratch/kristenk/archive/g.e22a06.G1850ECOIAF_JRA_PHYS_DEV.TL319_g17.4p4z.zoo4lon… </span>│\n",
       "│<span style=\"color: #7f7f7f; text-decoration-color: #7f7f7f\"> /glade/scratch/kristenk/archive/g.e22a06.G1850ECOIAF_JRA_PHYS_DEV.TL319_g17.4p4z.zoo4lon… </span>│\n",
       "│<span style=\"color: #7f7f7f; text-decoration-color: #7f7f7f\"> /glade/scratch/kristenk/archive/g.e22a06.G1850ECOIAF_JRA_PHYS_DEV.TL319_g17.4p4z.zoo4lon… </span>│\n",
       "│<span style=\"color: #7f7f7f; text-decoration-color: #7f7f7f\"> /glade/scratch/kristenk/archive/g.e22a06.G1850ECOIAF_JRA_PHYS_DEV.TL319_g17.4p4z.zoo4lon… </span>│\n",
       "│<span style=\"color: #7f7f7f; text-decoration-color: #7f7f7f\"> /glade/scratch/kristenk/archive/g.e22a06.G1850ECOIAF_JRA_PHYS_DEV.TL319_g17.4p4z.zoo4lon… </span>│\n",
       "│<span style=\"color: #7f7f7f; text-decoration-color: #7f7f7f\"> /glade/scratch/kristenk/archive/g.e22a06.G1850ECOIAF_JRA_PHYS_DEV.TL319_g17.4p4z.zoo4bot… </span>│\n",
       "│<span style=\"color: #7f7f7f; text-decoration-color: #7f7f7f\"> /glade/scratch/kristenk/archive/g.e22a06.G1850ECOIAF_JRA_PHYS_DEV.TL319_g17.4p4z.zoo4bot… </span>│\n",
       "│<span style=\"color: #7f7f7f; text-decoration-color: #7f7f7f\"> /glade/scratch/kristenk/archive/g.e22a06.G1850ECOIAF_JRA_PHYS_DEV.TL319_g17.4p4z.zoo4bot… </span>│\n",
       "│<span style=\"color: #7f7f7f; text-decoration-color: #7f7f7f\"> /glade/scratch/kristenk/archive/g.e22a06.G1850ECOIAF_JRA_PHYS_DEV.TL319_g17.4p4z.zoo4bot… </span>│\n",
       "│<span style=\"color: #7f7f7f; text-decoration-color: #7f7f7f\"> /glade/scratch/kristenk/archive/g.e22a06.G1850ECOIAF_JRA_PHYS_DEV.TL319_g17.4p4z.zoo4bot… </span>│\n",
       "│<span style=\"color: #7f7f7f; text-decoration-color: #7f7f7f\"> /glade/scratch/kristenk/archive/g.e22a06.G1850ECOIAF_JRA_PHYS_DEV.TL319_g17.4p4z.zoo4bot… </span>│\n",
       "│<span style=\"color: #7f7f7f; text-decoration-color: #7f7f7f\"> /glade/scratch/kristenk/archive/g.e22a06.G1850ECOIAF_JRA_PHYS_DEV.TL319_g17.4p4z.zoo4bot… </span>│\n",
       "│<span style=\"color: #7f7f7f; text-decoration-color: #7f7f7f\"> /glade/scratch/kristenk/archive/g.e22a06.G1850ECOIAF_JRA_PHYS_DEV.TL319_g17.4p4z.zoo4bot… </span>│\n",
       "│<span style=\"color: #7f7f7f; text-decoration-color: #7f7f7f\"> /glade/scratch/kristenk/archive/g.e22a06.G1850ECOIAF_JRA_PHYS_DEV.TL319_g17.4p4z.zoo4bot… </span>│\n",
       "│<span style=\"color: #7f7f7f; text-decoration-color: #7f7f7f\"> /glade/scratch/kristenk/archive/g.e22a06.G1850ECOIAF_JRA_PHYS_DEV.TL319_g17.4p4z.zoo4bot… </span>│\n",
       "│<span style=\"color: #7f7f7f; text-decoration-color: #7f7f7f\"> /glade/scratch/kristenk/archive/g.e22a06.G1850ECOIAF_JRA_PHYS_DEV.TL319_g17.4p4z.zoo4bot… </span>│\n",
       "│<span style=\"color: #7f7f7f; text-decoration-color: #7f7f7f\"> /glade/scratch/kristenk/archive/g.e22a06.G1850ECOIAF_JRA_PHYS_DEV.TL319_g17.4p4z.zoo4bot… </span>│\n",
       "│<span style=\"color: #7f7f7f; text-decoration-color: #7f7f7f\"> /glade/scratch/kristenk/archive/g.e22a06.G1850ECOIAF_JRA_PHYS_DEV.TL319_g17.4p4z.zoo4bot… </span>│\n",
       "│<span style=\"color: #7f7f7f; text-decoration-color: #7f7f7f\"> /glade/scratch/kristenk/archive/g.e22a06.G1850ECOIAF_JRA_PHYS_DEV.TL319_g17.4p4z.zoo4tes… </span>│\n",
       "│<span style=\"color: #7f7f7f; text-decoration-color: #7f7f7f\"> /glade/scratch/kristenk/archive/g.e22a06.G1850ECOIAF_JRA_PHYS_DEV.TL319_g17.4p4z.zoo4tes… </span>│\n",
       "│<span style=\"color: #7f7f7f; text-decoration-color: #7f7f7f\"> /glade/scratch/kristenk/archive/g.e22a06.G1850ECOIAF_JRA_PHYS_DEV.TL319_g17.4p4z.zoo4tes… </span>│\n",
       "│<span style=\"color: #7f7f7f; text-decoration-color: #7f7f7f\"> /glade/scratch/kristenk/archive/g.e22a06.G1850ECOIAF_JRA_PHYS_DEV.TL319_g17.4p4z.zoo4tes… </span>│\n",
       "│<span style=\"color: #7f7f7f; text-decoration-color: #7f7f7f\"> /glade/scratch/kristenk/archive/g.e22a06.G1850ECOIAF_JRA_PHYS_DEV.TL319_g17.4p4z.zoo4tes… </span>│\n",
       "│<span style=\"color: #7f7f7f; text-decoration-color: #7f7f7f\"> /glade/scratch/kristenk/archive/g.e22a06.G1850ECOIAF_JRA_PHYS_DEV.TL319_g17.4p4z.zoo4tes… </span>│\n",
       "│<span style=\"color: #7f7f7f; text-decoration-color: #7f7f7f\"> /glade/scratch/kristenk/archive/g.e22a06.G1850ECOIAF_JRA_PHYS_DEV.TL319_g17.4p4z.zoo4tes… </span>│\n",
       "│<span style=\"color: #7f7f7f; text-decoration-color: #7f7f7f\"> /glade/scratch/kristenk/archive/g.e22a06.G1850ECOIAF_JRA_PHYS_DEV.TL319_g17.4p4z.003/ocn… </span>│\n",
       "│<span style=\"color: #7f7f7f; text-decoration-color: #7f7f7f\"> /glade/scratch/kristenk/archive/g.e22a06.G1850ECOIAF_JRA_PHYS_DEV.TL319_g17.4p4z.003/res… </span>│\n",
       "│<span style=\"color: #7f7f7f; text-decoration-color: #7f7f7f\"> /glade/scratch/kristenk/archive/g.e22a06.G1850ECOIAF_JRA_PHYS_DEV.TL319_g17.4p4z.003/res… </span>│\n",
       "│<span style=\"color: #7f7f7f; text-decoration-color: #7f7f7f\"> /glade/scratch/kristenk/archive/g.e22a06.G1850ECOIAF_JRA_PHYS_DEV.TL319_g17.4p4z.003/res… </span>│\n",
       "│<span style=\"color: #7f7f7f; text-decoration-color: #7f7f7f\"> /glade/scratch/kristenk/archive/g.e22a06.G1850ECOIAF_JRA_PHYS_DEV.TL319_g17.4p4z.003/res… </span>│\n",
       "│<span style=\"color: #7f7f7f; text-decoration-color: #7f7f7f\"> /glade/scratch/kristenk/archive/g.e22a06.G1850ECOIAF_JRA_PHYS_DEV.TL319_g17.4p4z.003/res… </span>│\n",
       "│<span style=\"color: #7f7f7f; text-decoration-color: #7f7f7f\"> /glade/scratch/kristenk/archive/g.e22a06.G1850ECOIAF_JRA_PHYS_DEV.TL319_g17.4p4z.003/res… </span>│\n",
       "│<span style=\"color: #7f7f7f; text-decoration-color: #7f7f7f\"> /glade/scratch/kristenk/archive/g.e22a06.G1850ECOIAF_JRA_PHYS_DEV.TL319_g17.4p4z.003/res… </span>│\n",
       "│<span style=\"color: #7f7f7f; text-decoration-color: #7f7f7f\"> /glade/scratch/kristenk/archive/g.e22a06.G1850ECOIAF_JRA_PHYS_DEV.TL319_g17.4p4z.003/res… </span>│\n",
       "│<span style=\"color: #7f7f7f; text-decoration-color: #7f7f7f\"> /glade/scratch/kristenk/archive/g.e22a06.G1850ECOIAF_JRA_PHYS_DEV.TL319_g17.4p4z.003/res… </span>│\n",
       "│<span style=\"color: #7f7f7f; text-decoration-color: #7f7f7f\"> /glade/scratch/kristenk/archive/g.e22a06.G1850ECOIAF_JRA_PHYS_DEV.TL319_g17.4p4z.004test… </span>│\n",
       "│<span style=\"color: #7f7f7f; text-decoration-color: #7f7f7f\"> /glade/scratch/kristenk/archive/g.e22a06.G1850ECOIAF_JRA_PHYS_DEV.TL319_g17.4p4z.004test… </span>│\n",
       "│<span style=\"color: #7f7f7f; text-decoration-color: #7f7f7f\"> /glade/scratch/kristenk/archive/g.e22a06.G1850ECOIAF_JRA_PHYS_DEV.TL319_g17.4p4z.004test… </span>│\n",
       "│<span style=\"color: #7f7f7f; text-decoration-color: #7f7f7f\"> /glade/scratch/kristenk/archive/g.e22a06.G1850ECOIAF_JRA_PHYS_DEV.TL319_g17.4p4z.004test… </span>│\n",
       "│<span style=\"color: #7f7f7f; text-decoration-color: #7f7f7f\"> /glade/scratch/kristenk/archive/g.e22a06.G1850ECOIAF_JRA_PHYS_DEV.TL319_g17.4p4z.004/ocn… </span>│\n",
       "│<span style=\"color: #7f7f7f; text-decoration-color: #7f7f7f\"> /glade/scratch/kristenk/archive/g.e22a06.G1850ECOIAF_JRA_PHYS_DEV.TL319_g17.4p4z.004/res… </span>│\n",
       "│<span style=\"color: #7f7f7f; text-decoration-color: #7f7f7f\"> /glade/scratch/kristenk/archive/g.e22a06.G1850ECOIAF_JRA_PHYS_DEV.TL319_g17.4p4z.004/res… </span>│\n",
       "│<span style=\"color: #7f7f7f; text-decoration-color: #7f7f7f\"> /glade/scratch/kristenk/archive/g.e22a06.G1850ECOIAF_JRA_PHYS_DEV.TL319_g17.4p4z.004/res… </span>│\n",
       "│<span style=\"color: #7f7f7f; text-decoration-color: #7f7f7f\"> /glade/scratch/kristenk/archive/g.e22a06.G1850ECOIAF_JRA_PHYS_DEV.TL319_g17.4p4z.004/res… </span>│\n",
       "│<span style=\"color: #7f7f7f; text-decoration-color: #7f7f7f\"> /glade/scratch/kristenk/archive/g.e22a06.G1850ECOIAF_JRA_PHYS_DEV.TL319_g17.4p4z.004/res… </span>│\n",
       "│<span style=\"color: #7f7f7f; text-decoration-color: #7f7f7f\"> /glade/scratch/kristenk/archive/g.e22a06.G1850ECOIAF_JRA_PHYS_DEV.TL319_g17.4p4z.004/res… </span>│\n",
       "│<span style=\"color: #7f7f7f; text-decoration-color: #7f7f7f\"> /glade/scratch/kristenk/archive/g.e22a06.G1850ECOIAF_JRA_PHYS_DEV.TL319_g17.4p4z.004/res… </span>│\n",
       "│<span style=\"color: #7f7f7f; text-decoration-color: #7f7f7f\"> /glade/scratch/kristenk/archive/g.e22a06.G1850ECOIAF_JRA_PHYS_DEV.TL319_g17.4p4z.004/res… </span>│\n",
       "│<span style=\"color: #7f7f7f; text-decoration-color: #7f7f7f\"> /glade/scratch/kristenk/archive/g.e22a06.G1850ECOIAF_JRA_PHYS_DEV.TL319_g17.4p4z.004/res… </span>│\n",
       "│<span style=\"color: #7f7f7f; text-decoration-color: #7f7f7f\"> /glade/scratch/kristenk/archive/g.e22a06.G1850ECOIAF_JRA_PHYS_DEV.TL319_g17.4p4z.004/res… </span>│\n",
       "│<span style=\"color: #7f7f7f; text-decoration-color: #7f7f7f\"> /glade/scratch/kristenk/archive/g.e22a06.G1850ECOIAF_JRA_PHYS_DEV.TL319_g17.4p4z.004/res… </span>│\n",
       "│<span style=\"color: #7f7f7f; text-decoration-color: #7f7f7f\"> /glade/scratch/kristenk/archive/g.e22a06.G1850ECOIAF_JRA_PHYS_DEV.TL319_g17.4p4z.004/res… </span>│\n",
       "│<span style=\"color: #7f7f7f; text-decoration-color: #7f7f7f\"> /glade/scratch/kristenk/archive/g.e22a06.G1850ECOIAF_JRA_PHYS_DEV.TL319_g17.4p4z.004/res… </span>│\n",
       "│<span style=\"color: #7f7f7f; text-decoration-color: #7f7f7f\"> /glade/scratch/kristenk/archive/g.e22a06.G1850ECOIAF_JRA_PHYS_DEV.TL319_g17.4p4z.004/res… </span>│\n",
       "│<span style=\"color: #7f7f7f; text-decoration-color: #7f7f7f\"> /glade/scratch/kristenk/archive/g.e22a06.G1850ECOIAF_JRA_PHYS_DEV.TL319_g17.4p4z.004/res… </span>│\n",
       "│<span style=\"color: #7f7f7f; text-decoration-color: #7f7f7f\"> /glade/scratch/kristenk/archive/g.e22a06.G1850ECOIAF_JRA_PHYS_DEV.TL319_g17.4p4z.004/res… </span>│\n",
       "│<span style=\"color: #7f7f7f; text-decoration-color: #7f7f7f\"> /glade/scratch/kristenk/archive/g.e22a06.G1850ECOIAF_JRA_PHYS_DEV.TL319_g17.4p4z.004/res… </span>│\n",
       "│<span style=\"color: #7f7f7f; text-decoration-color: #7f7f7f\"> /glade/scratch/kristenk/archive/g.e22a06.G1850ECOIAF_JRA_PHYS_DEV.TL319_g17.4p4z.004/res… </span>│\n",
       "│<span style=\"color: #7f7f7f; text-decoration-color: #7f7f7f\"> /glade/scratch/kristenk/archive/g.e22a06.G1850ECOIAF_JRA_PHYS_DEV.TL319_g17.4p4z.004/res… </span>│\n",
       "│<span style=\"color: #7f7f7f; text-decoration-color: #7f7f7f\"> /glade/scratch/kristenk/archive/g.e22a06.G1850ECOIAF_JRA_PHYS_DEV.TL319_g17.4p4z.004/res… </span>│\n",
       "│<span style=\"color: #7f7f7f; text-decoration-color: #7f7f7f\"> /glade/scratch/kristenk/archive/g.e22a06.G1850ECOIAF_JRA_PHYS_DEV.TL319_g17.4p4z.004/res… </span>│\n",
       "│<span style=\"color: #7f7f7f; text-decoration-color: #7f7f7f\"> /glade/scratch/kristenk/archive/g.e22a06.G1850ECOIAF_JRA_PHYS_DEV.TL319_g17.4p4z.004/res… </span>│\n",
       "│<span style=\"color: #7f7f7f; text-decoration-color: #7f7f7f\"> /glade/scratch/kristenk/archive/g.e22a06.G1850ECOIAF_JRA_PHYS_DEV.TL319_g17.4p4z.004/res… </span>│\n",
       "│<span style=\"color: #7f7f7f; text-decoration-color: #7f7f7f\"> /glade/scratch/kristenk/archive/g.e22a06.G1850ECOIAF_JRA_PHYS_DEV.TL319_g17.4p4z.004/res… </span>│\n",
       "│<span style=\"color: #7f7f7f; text-decoration-color: #7f7f7f\"> /glade/scratch/kristenk/archive/g.e22a06.G1850ECOIAF_JRA_PHYS_DEV.TL319_g17.4p4z.004/res… </span>│\n",
       "│<span style=\"color: #7f7f7f; text-decoration-color: #7f7f7f\"> /glade/scratch/kristenk/archive/g.e22a06.G1850ECOIAF_JRA_PHYS_DEV.TL319_g17.4p4z.004/res… </span>│\n",
       "│<span style=\"color: #7f7f7f; text-decoration-color: #7f7f7f\"> /glade/scratch/kristenk/archive/g.e22a06.G1850ECOIAF_JRA_PHYS_DEV.TL319_g17.4p4z.004/res… </span>│\n",
       "│<span style=\"color: #7f7f7f; text-decoration-color: #7f7f7f\"> /glade/scratch/kristenk/archive/g.e22a06.G1850ECOIAF_JRA_PHYS_DEV.TL319_g17.4p4z.001/ocn… </span>│\n",
       "│<span style=\"color: #7f7f7f; text-decoration-color: #7f7f7f\"> /glade/scratch/kristenk/archive/g.e22a06.G1850ECOIAF_JRA_PHYS_DEV.TL319_g17.4p4z.001/res… </span>│\n",
       "│<span style=\"color: #7f7f7f; text-decoration-color: #7f7f7f\"> /glade/scratch/kristenk/archive/g.e22a06.G1850ECOIAF_JRA_PHYS_DEV.TL319_g17.4p4z.001/res… </span>│\n",
       "│<span style=\"color: #7f7f7f; text-decoration-color: #7f7f7f\"> /glade/scratch/kristenk/archive/g.e22a06.G1850ECOIAF_JRA_PHYS_DEV.TL319_g17.4p4z.001/res… </span>│\n",
       "│<span style=\"color: #7f7f7f; text-decoration-color: #7f7f7f\"> /glade/scratch/kristenk/archive/g.e22a06.G1850ECOIAF_JRA_PHYS_DEV.TL319_g17.4p4z.001/res… </span>│\n",
       "│<span style=\"color: #7f7f7f; text-decoration-color: #7f7f7f\"> /glade/scratch/kristenk/archive/g.e22a06.G1850ECOIAF_JRA_PHYS_DEV.TL319_g17.4p4z.001/res… </span>│\n",
       "│<span style=\"color: #7f7f7f; text-decoration-color: #7f7f7f\"> /glade/scratch/kristenk/archive/g.e22a06.G1850ECOIAF_JRA_PHYS_DEV.TL319_g17.4p4z.001/res… </span>│\n",
       "│<span style=\"color: #7f7f7f; text-decoration-color: #7f7f7f\"> /glade/scratch/kristenk/archive/g.e22a06.G1850ECOIAF_JRA_PHYS_DEV.TL319_g17.4p4z.001/res… </span>│\n",
       "│<span style=\"color: #7f7f7f; text-decoration-color: #7f7f7f\"> /glade/scratch/kristenk/archive/g.e22a06.G1850ECOIAF_JRA_PHYS_DEV.TL319_g17.4p4z.001/res… </span>│\n",
       "│<span style=\"color: #7f7f7f; text-decoration-color: #7f7f7f\"> /glade/scratch/kristenk/archive/g.e22a06.G1850ECOIAF_JRA_PHYS_DEV.TL319_g17.4p4z.001/res… </span>│\n",
       "│<span style=\"color: #7f7f7f; text-decoration-color: #7f7f7f\"> /glade/scratch/kristenk/archive/g.e22a06.G1850ECOIAF_JRA_PHYS_DEV.TL319_g17.4p4z.001/res… </span>│\n",
       "│<span style=\"color: #7f7f7f; text-decoration-color: #7f7f7f\"> /glade/scratch/kristenk/archive/g.e22a06.G1850ECOIAF_JRA_PHYS_DEV.TL319_g17.4p4z.001/res… </span>│\n",
       "│<span style=\"color: #7f7f7f; text-decoration-color: #7f7f7f\"> /glade/scratch/kristenk/archive/g.e22a06.G1850ECOIAF_JRA_PHYS_DEV.TL319_g17.4p4z.001/res… </span>│\n",
       "│<span style=\"color: #7f7f7f; text-decoration-color: #7f7f7f\"> /glade/scratch/kristenk/archive/g.e22a06.G1850ECOIAF_JRA_PHYS_DEV.TL319_g17.4p4z.001/res… </span>│\n",
       "│<span style=\"color: #7f7f7f; text-decoration-color: #7f7f7f\"> /glade/scratch/kristenk/archive/g.e22a06.G1850ECOIAF_JRA_PHYS_DEV.TL319_g17.4p4z.001/res… </span>│\n",
       "│<span style=\"color: #7f7f7f; text-decoration-color: #7f7f7f\"> /glade/scratch/kristenk/archive/g.e22a06.G1850ECOIAF_JRA_PHYS_DEV.TL319_g17.4p4z.001/res… </span>│\n",
       "│<span style=\"color: #7f7f7f; text-decoration-color: #7f7f7f\"> /glade/scratch/kristenk/archive/g.e22a06.G1850ECOIAF_JRA_PHYS_DEV.TL319_g17.4p4z.001/res… </span>│\n",
       "│<span style=\"color: #7f7f7f; text-decoration-color: #7f7f7f\"> /glade/scratch/kristenk/archive/g.e22a06.G1850ECOIAF_JRA_PHYS_DEV.TL319_g17.4p4z.001/res… </span>│\n",
       "│<span style=\"color: #7f7f7f; text-decoration-color: #7f7f7f\"> /glade/scratch/kristenk/archive/g.e22a06.G1850ECOIAF_JRA_PHYS_DEV.TL319_g17.4p4z.001/res… </span>│\n",
       "│<span style=\"color: #7f7f7f; text-decoration-color: #7f7f7f\"> /glade/scratch/kristenk/archive/g.e22a06.G1850ECOIAF_JRA_PHYS_DEV.TL319_g17.4p4z.001/res… </span>│\n",
       "│<span style=\"color: #7f7f7f; text-decoration-color: #7f7f7f\"> /glade/scratch/kristenk/archive/g.e22a06.G1850ECOIAF_JRA_PHYS_DEV.TL319_g17.4p4z.001/res… </span>│\n",
       "│<span style=\"color: #7f7f7f; text-decoration-color: #7f7f7f\"> /glade/scratch/kristenk/archive/g.e22a06.G1850ECOIAF_JRA_PHYS_DEV.TL319_g17.4p4z.001/res… </span>│\n",
       "│<span style=\"color: #7f7f7f; text-decoration-color: #7f7f7f\"> /glade/scratch/kristenk/archive/g.e22a06.G1850ECOIAF_JRA_PHYS_DEV.TL319_g17.4p4z.001/res… </span>│\n",
       "│<span style=\"color: #7f7f7f; text-decoration-color: #7f7f7f\"> /glade/scratch/kristenk/archive/g.e22a06.G1850ECOIAF_JRA_PHYS_DEV.TL319_g17.4p4z.001/res… </span>│\n",
       "│<span style=\"color: #7f7f7f; text-decoration-color: #7f7f7f\"> /glade/scratch/kristenk/archive/g.e22a06.G1850ECOIAF_JRA_PHYS_DEV.TL319_g17.4p4z.001/res… </span>│\n",
       "│<span style=\"color: #7f7f7f; text-decoration-color: #7f7f7f\"> /glade/scratch/kristenk/archive/g.e22a06.G1850ECOIAF_JRA_PHYS_DEV.TL319_g17.4p4z.001/res… </span>│\n",
       "│<span style=\"color: #7f7f7f; text-decoration-color: #7f7f7f\"> /glade/scratch/kristenk/archive/g.e22a06.G1850ECOIAF_JRA_PHYS_DEV.TL319_g17.4p4z.001/res… </span>│\n",
       "│<span style=\"color: #7f7f7f; text-decoration-color: #7f7f7f\"> /glade/scratch/kristenk/archive/g.e22a06.G1850ECOIAF_JRA_PHYS_DEV.TL319_g17.4p4z.001/res… </span>│\n",
       "│<span style=\"color: #7f7f7f; text-decoration-color: #7f7f7f\"> /glade/scratch/kristenk/archive/g.e22a06.G1850ECOIAF_JRA_PHYS_DEV.TL319_g17.4p4z.zoo4LLM… </span>│\n",
       "│<span style=\"color: #7f7f7f; text-decoration-color: #7f7f7f\"> /glade/scratch/kristenk/archive/g.e22a06.G1850ECOIAF_JRA_PHYS_DEV.TL319_g17.4p4z.zoo4LLM… </span>│\n",
       "│<span style=\"color: #7f7f7f; text-decoration-color: #7f7f7f\"> /glade/scratch/kristenk/archive/g.e22a06.G1850ECOIAF_JRA_PHYS_DEV.TL319_g17.4p4z.zoo4LLM… </span>│\n",
       "│<span style=\"color: #7f7f7f; text-decoration-color: #7f7f7f\"> /glade/scratch/kristenk/archive/g.e22a06.G1850ECOIAF_JRA_PHYS_DEV.TL319_g17.4p4z.zoo4LLM… </span>│\n",
       "│<span style=\"color: #7f7f7f; text-decoration-color: #7f7f7f\"> /glade/scratch/kristenk/archive/g.e22a06.G1850ECOIAF_JRA_PHYS_DEV.TL319_g17.4p4z.zoo4LLM… </span>│\n",
       "│<span style=\"color: #7f7f7f; text-decoration-color: #7f7f7f\"> /glade/scratch/kristenk/archive/g.e22a06.G1850ECOIAF_JRA_PHYS_DEV.TL319_g17.4p4z.zoo4LLM… </span>│\n",
       "│<span style=\"color: #7f7f7f; text-decoration-color: #7f7f7f\"> /glade/scratch/kristenk/archive/g.e22a06.G1850ECOIAF_JRA_PHYS_DEV.TL319_g17.4p4z.zoo4LLM… </span>│\n",
       "│<span style=\"color: #7f7f7f; text-decoration-color: #7f7f7f\"> /glade/scratch/kristenk/archive/g.e22a06.G1850ECOIAF_JRA_PHYS_DEV.TL319_g17.4p4z.zoo4LLM… </span>│\n",
       "│<span style=\"color: #7f7f7f; text-decoration-color: #7f7f7f\"> /glade/scratch/kristenk/archive/g.e22a06.G1850ECOIAF_JRA_PHYS_DEV.TL319_g17.4p4z.zoo4LLM… </span>│\n",
       "│<span style=\"color: #7f7f7f; text-decoration-color: #7f7f7f\"> /glade/scratch/kristenk/archive/g.e22a06.G1850ECOIAF_JRA_PHYS_DEV.TL319_g17.4p4z.zoo4LLM… </span>│\n",
       "│<span style=\"color: #7f7f7f; text-decoration-color: #7f7f7f\"> /glade/scratch/kristenk/archive/g.e22a06.G1850ECOIAF_JRA_PHYS_DEV.TL319_g17.4p4z.zoo4LLM… </span>│\n",
       "│<span style=\"color: #7f7f7f; text-decoration-color: #7f7f7f\"> /glade/scratch/kristenk/archive/g.e22a06.G1850ECOIAF_JRA_PHYS_DEV.TL319_g17.4p4z.zoo4LLM… </span>│\n",
       "│<span style=\"color: #7f7f7f; text-decoration-color: #7f7f7f\"> /glade/scratch/kristenk/archive/g.e22a06.G1850ECOIAF_JRA_PHYS_DEV.TL319_g17.4p4z.zoo4LLM… </span>│\n",
       "│<span style=\"color: #7f7f7f; text-decoration-color: #7f7f7f\"> /glade/scratch/kristenk/archive/g.e22a06.G1850ECOIAF_JRA_PHYS_DEV.TL319_g17.3p1z.001/ocn… </span>│\n",
       "│<span style=\"color: #7f7f7f; text-decoration-color: #7f7f7f\"> /glade/scratch/kristenk/archive/g.e22a06.G1850ECOIAF_JRA_PHYS_DEV.TL319_g17.3p1z.001/res… </span>│\n",
       "│<span style=\"color: #7f7f7f; text-decoration-color: #7f7f7f\"> /glade/scratch/kristenk/archive/g.e22a06.G1850ECOIAF_JRA_PHYS_DEV.TL319_g17.3p1z.001/res… </span>│\n",
       "│<span style=\"color: #7f7f7f; text-decoration-color: #7f7f7f\"> /glade/scratch/kristenk/archive/g.e22a06.G1850ECOIAF_JRA_PHYS_DEV.TL319_g17.3p1z.001/res… </span>│\n",
       "│<span style=\"color: #7f7f7f; text-decoration-color: #7f7f7f\"> /glade/scratch/kristenk/archive/g.e22a06.G1850ECOIAF_JRA_PHYS_DEV.TL319_g17.3p1z.001/res… </span>│\n",
       "│<span style=\"color: #7f7f7f; text-decoration-color: #7f7f7f\"> /glade/scratch/kristenk/archive/g.e22a06.G1850ECOIAF_JRA_PHYS_DEV.TL319_g17.3p1z.001/res… </span>│\n",
       "│<span style=\"color: #7f7f7f; text-decoration-color: #7f7f7f\"> /glade/scratch/kristenk/archive/g.e22a06.G1850ECOIAF_JRA_PHYS_DEV.TL319_g17.3p1z.001/res… </span>│\n",
       "│<span style=\"color: #7f7f7f; text-decoration-color: #7f7f7f\"> /glade/scratch/kristenk/archive/g.e22a06.G1850ECOIAF_JRA_PHYS_DEV.TL319_g17.3p1z.001/res… </span>│\n",
       "│<span style=\"color: #7f7f7f; text-decoration-color: #7f7f7f\"> /glade/scratch/kristenk/archive/g.e22a06.G1850ECOIAF_JRA_PHYS_DEV.TL319_g17.3p1z.001/res… </span>│\n",
       "│<span style=\"color: #7f7f7f; text-decoration-color: #7f7f7f\"> /glade/scratch/kristenk/archive/g.e22a06.G1850ECOIAF_JRA_PHYS_DEV.TL319_g17.3p1z.001/res… </span>│\n",
       "│<span style=\"color: #7f7f7f; text-decoration-color: #7f7f7f\"> /glade/scratch/kristenk/archive/g.e22a06.G1850ECOIAF_JRA_PHYS_DEV.TL319_g17.3p1z.001/res… </span>│\n",
       "│<span style=\"color: #7f7f7f; text-decoration-color: #7f7f7f\"> /glade/scratch/kristenk/archive/g.e22a06.G1850ECOIAF_JRA_PHYS_DEV.TL319_g17.3p1z.001/res… </span>│\n",
       "│<span style=\"color: #7f7f7f; text-decoration-color: #7f7f7f\"> /glade/scratch/kristenk/archive/g.e22a06.G1850ECOIAF_JRA_PHYS_DEV.TL319_g17.3p1z.001/res… </span>│\n",
       "│<span style=\"color: #7f7f7f; text-decoration-color: #7f7f7f\"> /glade/scratch/kristenk/archive/g.e22a06.G1850ECOIAF_JRA_PHYS_DEV.TL319_g17.3p1z.001/res… </span>│\n",
       "│<span style=\"color: #7f7f7f; text-decoration-color: #7f7f7f\"> /glade/scratch/kristenk/archive/g.e22a06.G1850ECOIAF_JRA_PHYS_DEV.TL319_g17.3p1z.001/res… </span>│\n",
       "│<span style=\"color: #7f7f7f; text-decoration-color: #7f7f7f\"> /glade/scratch/kristenk/archive/g.e22a06.G1850ECOIAF_JRA_PHYS_DEV.TL319_g17.3p1z.001/res… </span>│\n",
       "│<span style=\"color: #7f7f7f; text-decoration-color: #7f7f7f\"> /glade/scratch/kristenk/archive/g.e22a06.G1850ECOIAF_JRA_PHYS_DEV.TL319_g17.3p1z.001/res… </span>│\n",
       "│<span style=\"color: #7f7f7f; text-decoration-color: #7f7f7f\"> /glade/scratch/kristenk/archive/g.e22a06.G1850ECOIAF_JRA_PHYS_DEV.TL319_g17.3p1z.001/res… </span>│\n",
       "│<span style=\"color: #7f7f7f; text-decoration-color: #7f7f7f\"> /glade/scratch/kristenk/archive/g.e22a06.G1850ECOIAF_JRA_PHYS_DEV.TL319_g17.3p1z.001/res… </span>│\n",
       "│<span style=\"color: #7f7f7f; text-decoration-color: #7f7f7f\"> /glade/scratch/kristenk/archive/g.e22a06.G1850ECOIAF_JRA_PHYS_DEV.TL319_g17.3p1z.001/res… </span>│\n",
       "│<span style=\"color: #7f7f7f; text-decoration-color: #7f7f7f\"> /glade/scratch/kristenk/archive/g.e22a06.G1850ECOIAF_JRA_PHYS_DEV.TL319_g17.3p1z.001/res… </span>│\n",
       "│<span style=\"color: #7f7f7f; text-decoration-color: #7f7f7f\"> /glade/scratch/kristenk/archive/g.e22a06.G1850ECOIAF_JRA_PHYS_DEV.TL319_g17.3p1z.001/res… </span>│\n",
       "│<span style=\"color: #7f7f7f; text-decoration-color: #7f7f7f\"> /glade/scratch/kristenk/archive/g.e22a06.G1850ECOIAF_JRA_PHYS_DEV.TL319_g17.3p1z.001/res… </span>│\n",
       "│<span style=\"color: #7f7f7f; text-decoration-color: #7f7f7f\"> /glade/scratch/kristenk/archive/g.e22a06.G1850ECOIAF_JRA_PHYS_DEV.TL319_g17.3p1z.001/res… </span>│\n",
       "│<span style=\"color: #7f7f7f; text-decoration-color: #7f7f7f\"> /glade/scratch/kristenk/archive/g.e22a06.G1850ECOIAF_JRA_PHYS_DEV.TL319_g17.3p1z.001/res… </span>│\n",
       "│<span style=\"color: #7f7f7f; text-decoration-color: #7f7f7f\"> /glade/scratch/kristenk/archive/g.e22a06.G1850ECOIAF_JRA_PHYS_DEV.TL319_g17.3p1z.001/res… </span>│\n",
       "│<span style=\"color: #7f7f7f; text-decoration-color: #7f7f7f\"> /glade/scratch/kristenk/archive/g.e22a06.G1850ECOIAF_JRA_PHYS_DEV.TL319_g17.3p1z.001/res… </span>│\n",
       "│<span style=\"color: #7f7f7f; text-decoration-color: #7f7f7f\"> /glade/scratch/kristenk/archive/g.e22a06.G1850ECOIAF_JRA_PHYS_DEV.TL319_g17.3p1z.001/res… </span>│\n",
       "│<span style=\"color: #7f7f7f; text-decoration-color: #7f7f7f\"> /glade/scratch/kristenk/archive/g.e22a06.G1850ECOIAF_JRA_PHYS_DEV.TL319_g17.4p4z.002/ocn… </span>│\n",
       "│<span style=\"color: #7f7f7f; text-decoration-color: #7f7f7f\"> /glade/scratch/kristenk/archive/g.e22a06.G1850ECOIAF_JRA_PHYS_DEV.TL319_g17.4p4z.002/res… </span>│\n",
       "│<span style=\"color: #7f7f7f; text-decoration-color: #7f7f7f\"> /glade/scratch/kristenk/archive/g.e22a06.G1850ECOIAF_JRA_PHYS_DEV.TL319_g17.4p4z.002/res… </span>│\n",
       "│<span style=\"color: #7f7f7f; text-decoration-color: #7f7f7f\"> /glade/scratch/kristenk/archive/g.e22a06.G1850ECOIAF_JRA_PHYS_DEV.TL319_g17.4p4z.002/res… </span>│\n",
       "│<span style=\"color: #7f7f7f; text-decoration-color: #7f7f7f\"> /glade/scratch/kristenk/archive/g.e22a06.G1850ECOIAF_JRA_PHYS_DEV.TL319_g17.4p4z.002/res… </span>│\n",
       "│<span style=\"color: #7f7f7f; text-decoration-color: #7f7f7f\"> /glade/scratch/kristenk/archive/g.e22a06.G1850ECOIAF_JRA_PHYS_DEV.TL319_g17.4p4z.002/res… </span>│\n",
       "│<span style=\"color: #7f7f7f; text-decoration-color: #7f7f7f\"> /glade/scratch/kristenk/archive/g.e22a06.G1850ECOIAF_JRA_PHYS_DEV.TL319_g17.4p4z.002/res… </span>│\n",
       "│<span style=\"color: #7f7f7f; text-decoration-color: #7f7f7f\"> /glade/scratch/kristenk/archive/g.e22a06.G1850ECOIAF_JRA_PHYS_DEV.TL319_g17.4p4z.002/res… </span>│\n",
       "│<span style=\"color: #7f7f7f; text-decoration-color: #7f7f7f\"> /glade/scratch/kristenk/archive/g.e22a06.G1850ECOIAF_JRA_PHYS_DEV.TL319_g17.4p4z.002/res… </span>│\n",
       "│<span style=\"color: #7f7f7f; text-decoration-color: #7f7f7f\"> /glade/scratch/kristenk/archive/g.e22a06.G1850ECOIAF_JRA_PHYS_DEV.TL319_g17.4p4z.002/res… </span>│\n",
       "└───────────────────────────────────────────────────────────────────────────────────────────┘\n",
       "</pre>\n"
      ],
      "text/plain": [
       "┏━━━━━━━━━━━━━━━━━━━━━━━━━━━━━━━━━━━━━━━━━━━━━━━━━━━━━━━━━━━━━━━━━━━━━━━━━━━━━━━━━━━━━━━━━━━┓\n",
       "┃\u001b[1;35m \u001b[0m\u001b[1;35mPath                                                                                     \u001b[0m\u001b[1;35m \u001b[0m┃\n",
       "┡━━━━━━━━━━━━━━━━━━━━━━━━━━━━━━━━━━━━━━━━━━━━━━━━━━━━━━━━━━━━━━━━━━━━━━━━━━━━━━━━━━━━━━━━━━━┩\n",
       "│\u001b[2m \u001b[0m\u001b[2m/glade/scratch/kristenk/archive/g.e22a06.G1850ECOIAF_JRA_PHYS_DEV.TL319_g17.4p4z.zoo4sig…\u001b[0m\u001b[2m \u001b[0m│\n",
       "│\u001b[2m \u001b[0m\u001b[2m/glade/scratch/kristenk/archive/g.e22a06.G1850ECOIAF_JRA_PHYS_DEV.TL319_g17.4p4z.zoo4sig…\u001b[0m\u001b[2m \u001b[0m│\n",
       "│\u001b[2m \u001b[0m\u001b[2m/glade/scratch/kristenk/archive/g.e22a06.G1850ECOIAF_JRA_PHYS_DEV.TL319_g17.4p4z.zoo4sig…\u001b[0m\u001b[2m \u001b[0m│\n",
       "│\u001b[2m \u001b[0m\u001b[2m/glade/scratch/kristenk/archive/g.e22a06.G1850ECOIAF_JRA_PHYS_DEV.TL319_g17.4p4z.zoo4sig…\u001b[0m\u001b[2m \u001b[0m│\n",
       "│\u001b[2m \u001b[0m\u001b[2m/glade/scratch/kristenk/archive/g.e22a06.G1850ECOIAF_JRA_PHYS_DEV.TL319_g17.4p4z.zoo4sig…\u001b[0m\u001b[2m \u001b[0m│\n",
       "│\u001b[2m \u001b[0m\u001b[2m/glade/scratch/kristenk/archive/g.e22a06.G1850ECOIAF_JRA_PHYS_DEV.TL319_g17.4p4z.zoo4sig…\u001b[0m\u001b[2m \u001b[0m│\n",
       "│\u001b[2m \u001b[0m\u001b[2m/glade/scratch/kristenk/archive/g.e22a06.G1850ECOIAF_JRA_PHYS_DEV.TL319_g17.4p4z.zoo4sig…\u001b[0m\u001b[2m \u001b[0m│\n",
       "│\u001b[2m \u001b[0m\u001b[2m/glade/scratch/kristenk/archive/g.e22a06.G1850ECOIAF_JRA_PHYS_DEV.TL319_g17.4p4z.zoo4sig…\u001b[0m\u001b[2m \u001b[0m│\n",
       "│\u001b[2m \u001b[0m\u001b[2m/glade/scratch/kristenk/archive/g.e22a06.G1850ECOIAF_JRA_PHYS_DEV.TL319_g17.4p4z.zoo4sig…\u001b[0m\u001b[2m \u001b[0m│\n",
       "│\u001b[2m \u001b[0m\u001b[2m/glade/scratch/kristenk/archive/g.e22a06.G1850ECOIAF_JRA_PHYS_DEV.TL319_g17.4p4z.zoo4sig…\u001b[0m\u001b[2m \u001b[0m│\n",
       "│\u001b[2m \u001b[0m\u001b[2m/glade/scratch/kristenk/archive/g.e22a06.G1850ECOIAF_JRA_PHYS_DEV.TL319_g17.4p4z.zoo4sig…\u001b[0m\u001b[2m \u001b[0m│\n",
       "│\u001b[2m \u001b[0m\u001b[2m/glade/scratch/kristenk/archive/g.e22a06.G1850ECOIAF_JRA_PHYS_DEV.TL319_g17.4p4z.zoo4sig…\u001b[0m\u001b[2m \u001b[0m│\n",
       "│\u001b[2m \u001b[0m\u001b[2m/glade/scratch/kristenk/archive/g.e22a06.G1850ECOIAF_JRA_PHYS_DEV.TL319_g17.4p4z.zoo4sig…\u001b[0m\u001b[2m \u001b[0m│\n",
       "│\u001b[2m \u001b[0m\u001b[2m/glade/scratch/kristenk/archive/g.e22a06.G1850ECOIAF_JRA_PHYS_DEV.TL319_g17.4p4z.zoo4mor…\u001b[0m\u001b[2m \u001b[0m│\n",
       "│\u001b[2m \u001b[0m\u001b[2m/glade/scratch/kristenk/archive/g.e22a06.G1850ECOIAF_JRA_PHYS_DEV.TL319_g17.4p4z.zoo4mor…\u001b[0m\u001b[2m \u001b[0m│\n",
       "│\u001b[2m \u001b[0m\u001b[2m/glade/scratch/kristenk/archive/g.e22a06.G1850ECOIAF_JRA_PHYS_DEV.TL319_g17.4p4z.zoo4mor…\u001b[0m\u001b[2m \u001b[0m│\n",
       "│\u001b[2m \u001b[0m\u001b[2m/glade/scratch/kristenk/archive/g.e22a06.G1850ECOIAF_JRA_PHYS_DEV.TL319_g17.4p4z.zoo4mor…\u001b[0m\u001b[2m \u001b[0m│\n",
       "│\u001b[2m \u001b[0m\u001b[2m/glade/scratch/kristenk/archive/g.e22a06.G1850ECOIAF_JRA_PHYS_DEV.TL319_g17.4p4z.zoo4mor…\u001b[0m\u001b[2m \u001b[0m│\n",
       "│\u001b[2m \u001b[0m\u001b[2m/glade/scratch/kristenk/archive/g.e22a06.G1850ECOIAF_JRA_PHYS_DEV.TL319_g17.4p4z.zoo4mor…\u001b[0m\u001b[2m \u001b[0m│\n",
       "│\u001b[2m \u001b[0m\u001b[2m/glade/scratch/kristenk/archive/g.e22a06.G1850ECOIAF_JRA_PHYS_DEV.TL319_g17.4p4z.zoo4mor…\u001b[0m\u001b[2m \u001b[0m│\n",
       "│\u001b[2m \u001b[0m\u001b[2m/glade/scratch/kristenk/archive/g.e22a06.G1850ECOIAF_JRA_PHYS_DEV.TL319_g17.4p4z.zoo4mor…\u001b[0m\u001b[2m \u001b[0m│\n",
       "│\u001b[2m \u001b[0m\u001b[2m/glade/scratch/kristenk/archive/g.e22a06.G1850ECOIAF_JRA_PHYS_DEV.TL319_g17.4p4z.zoo4mor…\u001b[0m\u001b[2m \u001b[0m│\n",
       "│\u001b[2m \u001b[0m\u001b[2m/glade/scratch/kristenk/archive/g.e22a06.G1850ECOIAF_JRA_PHYS_DEV.TL319_g17.4p4z.zoo4mor…\u001b[0m\u001b[2m \u001b[0m│\n",
       "│\u001b[2m \u001b[0m\u001b[2m/glade/scratch/kristenk/archive/g.e22a06.G1850ECOIAF_JRA_PHYS_DEV.TL319_g17.4p4z.zoo4mor…\u001b[0m\u001b[2m \u001b[0m│\n",
       "│\u001b[2m \u001b[0m\u001b[2m/glade/scratch/kristenk/archive/g.e22a06.G1850ECOIAF_JRA_PHYS_DEV.TL319_g17.4p4z.zoo4mor…\u001b[0m\u001b[2m \u001b[0m│\n",
       "│\u001b[2m \u001b[0m\u001b[2m/glade/scratch/kristenk/archive/g.e22a06.G1850ECOIAF_JRA_PHYS_DEV.TL319_g17.4p4z.zoo4mor…\u001b[0m\u001b[2m \u001b[0m│\n",
       "│\u001b[2m \u001b[0m\u001b[2m/glade/scratch/kristenk/archive/g.e22a06.G1850ECOIAF_JRA_PHYS_DEV.TL319_g17.4p4z.zoo4low…\u001b[0m\u001b[2m \u001b[0m│\n",
       "│\u001b[2m \u001b[0m\u001b[2m/glade/scratch/kristenk/archive/g.e22a06.G1850ECOIAF_JRA_PHYS_DEV.TL319_g17.4p4z.zoo4low…\u001b[0m\u001b[2m \u001b[0m│\n",
       "│\u001b[2m \u001b[0m\u001b[2m/glade/scratch/kristenk/archive/g.e22a06.G1850ECOIAF_JRA_PHYS_DEV.TL319_g17.4p4z.zoo4low…\u001b[0m\u001b[2m \u001b[0m│\n",
       "│\u001b[2m \u001b[0m\u001b[2m/glade/scratch/kristenk/archive/g.e22a06.G1850ECOIAF_JRA_PHYS_DEV.TL319_g17.4p4z.zoo4low…\u001b[0m\u001b[2m \u001b[0m│\n",
       "│\u001b[2m \u001b[0m\u001b[2m/glade/scratch/kristenk/archive/g.e22a06.G1850ECOIAF_JRA_PHYS_DEV.TL319_g17.4p4z.zoo4low…\u001b[0m\u001b[2m \u001b[0m│\n",
       "│\u001b[2m \u001b[0m\u001b[2m/glade/scratch/kristenk/archive/g.e22a06.G1850ECOIAF_JRA_PHYS_DEV.TL319_g17.4p4z.zoo4low…\u001b[0m\u001b[2m \u001b[0m│\n",
       "│\u001b[2m \u001b[0m\u001b[2m/glade/scratch/kristenk/archive/g.e22a06.G1850ECOIAF_JRA_PHYS_DEV.TL319_g17.4p4z.zoo4low…\u001b[0m\u001b[2m \u001b[0m│\n",
       "│\u001b[2m \u001b[0m\u001b[2m/glade/scratch/kristenk/archive/g.e22a06.G1850ECOIAF_JRA_PHYS_DEV.TL319_g17.4p4z.zoo4low…\u001b[0m\u001b[2m \u001b[0m│\n",
       "│\u001b[2m \u001b[0m\u001b[2m/glade/scratch/kristenk/archive/g.e22a06.G1850ECOIAF_JRA_PHYS_DEV.TL319_g17.4p4z.zoo4low…\u001b[0m\u001b[2m \u001b[0m│\n",
       "│\u001b[2m \u001b[0m\u001b[2m/glade/scratch/kristenk/archive/g.e22a06.G1850ECOIAF_JRA_PHYS_DEV.TL319_g17.4p4z.zoo4low…\u001b[0m\u001b[2m \u001b[0m│\n",
       "│\u001b[2m \u001b[0m\u001b[2m/glade/scratch/kristenk/archive/g.e22a06.G1850ECOIAF_JRA_PHYS_DEV.TL319_g17.4p4z.zoo4low…\u001b[0m\u001b[2m \u001b[0m│\n",
       "│\u001b[2m \u001b[0m\u001b[2m/glade/scratch/kristenk/archive/g.e22a06.G1850ECOIAF_JRA_PHYS_DEV.TL319_g17.4p4z.zoo4low…\u001b[0m\u001b[2m \u001b[0m│\n",
       "│\u001b[2m \u001b[0m\u001b[2m/glade/scratch/kristenk/archive/g.e22a06.G1850ECOIAF_JRA_PHYS_DEV.TL319_g17.4p4z.zoo4low…\u001b[0m\u001b[2m \u001b[0m│\n",
       "│\u001b[2m \u001b[0m\u001b[2m/glade/scratch/kristenk/archive/g.e22a06.G1850ECOIAF_JRA_PHYS_DEV.TL319_g17.4p4z.005/ocn…\u001b[0m\u001b[2m \u001b[0m│\n",
       "│\u001b[2m \u001b[0m\u001b[2m/glade/scratch/kristenk/archive/g.e22a06.G1850ECOIAF_JRA_PHYS_DEV.TL319_g17.4p4z.005/res…\u001b[0m\u001b[2m \u001b[0m│\n",
       "│\u001b[2m \u001b[0m\u001b[2m/glade/scratch/kristenk/archive/g.e22a06.G1850ECOIAF_JRA_PHYS_DEV.TL319_g17.4p4z.005/res…\u001b[0m\u001b[2m \u001b[0m│\n",
       "│\u001b[2m \u001b[0m\u001b[2m/glade/scratch/kristenk/archive/g.e22a06.G1850ECOIAF_JRA_PHYS_DEV.TL319_g17.4p4z.005/res…\u001b[0m\u001b[2m \u001b[0m│\n",
       "│\u001b[2m \u001b[0m\u001b[2m/glade/scratch/kristenk/archive/g.e22a06.G1850ECOIAF_JRA_PHYS_DEV.TL319_g17.4p4z.005/res…\u001b[0m\u001b[2m \u001b[0m│\n",
       "│\u001b[2m \u001b[0m\u001b[2m/glade/scratch/kristenk/archive/g.e22a06.G1850ECOIAF_JRA_PHYS_DEV.TL319_g17.4p4z.005/res…\u001b[0m\u001b[2m \u001b[0m│\n",
       "│\u001b[2m \u001b[0m\u001b[2m/glade/scratch/kristenk/archive/g.e22a06.G1850ECOIAF_JRA_PHYS_DEV.TL319_g17.4p4z.005/res…\u001b[0m\u001b[2m \u001b[0m│\n",
       "│\u001b[2m \u001b[0m\u001b[2m/glade/scratch/kristenk/archive/g.e22a06.G1850ECOIAF_JRA_PHYS_DEV.TL319_g17.4p4z.005/res…\u001b[0m\u001b[2m \u001b[0m│\n",
       "│\u001b[2m \u001b[0m\u001b[2m/glade/scratch/kristenk/archive/g.e22a06.G1850ECOIAF_JRA_PHYS_DEV.TL319_g17.4p4z.005/res…\u001b[0m\u001b[2m \u001b[0m│\n",
       "│\u001b[2m \u001b[0m\u001b[2m/glade/scratch/kristenk/archive/g.e22a06.G1850ECOIAF_JRA_PHYS_DEV.TL319_g17.4p4z.005/res…\u001b[0m\u001b[2m \u001b[0m│\n",
       "│\u001b[2m \u001b[0m\u001b[2m/glade/scratch/kristenk/archive/g.e22a06.G1850ECOIAF_JRA_PHYS_DEV.TL319_g17.4p4z.005/res…\u001b[0m\u001b[2m \u001b[0m│\n",
       "│\u001b[2m \u001b[0m\u001b[2m/glade/scratch/kristenk/archive/g.e22a06.G1850ECOIAF_JRA_PHYS_DEV.TL319_g17.4p4z.005/res…\u001b[0m\u001b[2m \u001b[0m│\n",
       "│\u001b[2m \u001b[0m\u001b[2m/glade/scratch/kristenk/archive/g.e22a06.G1850ECOIAF_JRA_PHYS_DEV.TL319_g17.4p4z.005/res…\u001b[0m\u001b[2m \u001b[0m│\n",
       "│\u001b[2m \u001b[0m\u001b[2m/glade/scratch/kristenk/archive/g.e22a06.G1850ECOIAF_JRA_PHYS_DEV.TL319_g17.4p4z.005/res…\u001b[0m\u001b[2m \u001b[0m│\n",
       "│\u001b[2m \u001b[0m\u001b[2m/glade/scratch/kristenk/archive/g.e22a06.G1850ECOIAF_JRA_PHYS_DEV.TL319_g17.4p4z.005/res…\u001b[0m\u001b[2m \u001b[0m│\n",
       "│\u001b[2m \u001b[0m\u001b[2m/glade/scratch/kristenk/archive/g.e22a06.G1850ECOIAF_JRA_PHYS_DEV.TL319_g17.4p4z.005/res…\u001b[0m\u001b[2m \u001b[0m│\n",
       "│\u001b[2m \u001b[0m\u001b[2m/glade/scratch/kristenk/archive/g.e22a06.G1850ECOIAF_JRA_PHYS_DEV.TL319_g17.4p4z.005/res…\u001b[0m\u001b[2m \u001b[0m│\n",
       "│\u001b[2m \u001b[0m\u001b[2m/glade/scratch/kristenk/archive/g.e22a06.G1850ECOIAF_JRA_PHYS_DEV.TL319_g17.4p4z.005/res…\u001b[0m\u001b[2m \u001b[0m│\n",
       "│\u001b[2m \u001b[0m\u001b[2m/glade/scratch/kristenk/archive/g.e22a06.G1850ECOIAF_JRA_PHYS_DEV.TL319_g17.4p4z.005/res…\u001b[0m\u001b[2m \u001b[0m│\n",
       "│\u001b[2m \u001b[0m\u001b[2m/glade/scratch/kristenk/archive/g.e22a06.G1850ECOIAF_JRA_PHYS_DEV.TL319_g17.4p4z.005/res…\u001b[0m\u001b[2m \u001b[0m│\n",
       "│\u001b[2m \u001b[0m\u001b[2m/glade/scratch/kristenk/archive/g.e22a06.G1850ECOIAF_JRA_PHYS_DEV.TL319_g17.4p4z.005/res…\u001b[0m\u001b[2m \u001b[0m│\n",
       "│\u001b[2m \u001b[0m\u001b[2m/glade/scratch/kristenk/archive/g.e22a06.G1850ECOIAF_JRA_PHYS_DEV.TL319_g17.4p4z.005/res…\u001b[0m\u001b[2m \u001b[0m│\n",
       "│\u001b[2m \u001b[0m\u001b[2m/glade/scratch/kristenk/archive/g.e22a06.G1850ECOIAF_JRA_PHYS_DEV.TL319_g17.4p4z.005/res…\u001b[0m\u001b[2m \u001b[0m│\n",
       "│\u001b[2m \u001b[0m\u001b[2m/glade/scratch/kristenk/archive/g.e22a06.G1850ECOIAF_JRA_PHYS_DEV.TL319_g17.4p4z.005/res…\u001b[0m\u001b[2m \u001b[0m│\n",
       "│\u001b[2m \u001b[0m\u001b[2m/glade/scratch/kristenk/archive/g.e22a06.G1850ECOIAF_JRA_PHYS_DEV.TL319_g17.4p4z.005/res…\u001b[0m\u001b[2m \u001b[0m│\n",
       "│\u001b[2m \u001b[0m\u001b[2m/glade/scratch/kristenk/archive/g.e22a06.G1850ECOIAF_JRA_PHYS_DEV.TL319_g17.4p4z.005/res…\u001b[0m\u001b[2m \u001b[0m│\n",
       "│\u001b[2m \u001b[0m\u001b[2m/glade/scratch/kristenk/archive/g.e22a06.G1850ECOIAF_JRA_PHYS_DEV.TL319_g17.4p4z.005/res…\u001b[0m\u001b[2m \u001b[0m│\n",
       "│\u001b[2m \u001b[0m\u001b[2m/glade/scratch/kristenk/archive/g.e22a06.G1850ECOIAF_JRA_PHYS_DEV.TL319_g17.4p4z.005/res…\u001b[0m\u001b[2m \u001b[0m│\n",
       "│\u001b[2m \u001b[0m\u001b[2m/glade/scratch/kristenk/archive/g.e22a06.G1850ECOIAF_JRA_PHYS_DEV.TL319_g17.4p4z.zoo4lon…\u001b[0m\u001b[2m \u001b[0m│\n",
       "│\u001b[2m \u001b[0m\u001b[2m/glade/scratch/kristenk/archive/g.e22a06.G1850ECOIAF_JRA_PHYS_DEV.TL319_g17.4p4z.zoo4lon…\u001b[0m\u001b[2m \u001b[0m│\n",
       "│\u001b[2m \u001b[0m\u001b[2m/glade/scratch/kristenk/archive/g.e22a06.G1850ECOIAF_JRA_PHYS_DEV.TL319_g17.4p4z.zoo4lon…\u001b[0m\u001b[2m \u001b[0m│\n",
       "│\u001b[2m \u001b[0m\u001b[2m/glade/scratch/kristenk/archive/g.e22a06.G1850ECOIAF_JRA_PHYS_DEV.TL319_g17.4p4z.zoo4lon…\u001b[0m\u001b[2m \u001b[0m│\n",
       "│\u001b[2m \u001b[0m\u001b[2m/glade/scratch/kristenk/archive/g.e22a06.G1850ECOIAF_JRA_PHYS_DEV.TL319_g17.4p4z.zoo4lon…\u001b[0m\u001b[2m \u001b[0m│\n",
       "│\u001b[2m \u001b[0m\u001b[2m/glade/scratch/kristenk/archive/g.e22a06.G1850ECOIAF_JRA_PHYS_DEV.TL319_g17.4p4z.zoo4lon…\u001b[0m\u001b[2m \u001b[0m│\n",
       "│\u001b[2m \u001b[0m\u001b[2m/glade/scratch/kristenk/archive/g.e22a06.G1850ECOIAF_JRA_PHYS_DEV.TL319_g17.4p4z.zoo4lon…\u001b[0m\u001b[2m \u001b[0m│\n",
       "│\u001b[2m \u001b[0m\u001b[2m/glade/scratch/kristenk/archive/g.e22a06.G1850ECOIAF_JRA_PHYS_DEV.TL319_g17.4p4z.zoo4lon…\u001b[0m\u001b[2m \u001b[0m│\n",
       "│\u001b[2m \u001b[0m\u001b[2m/glade/scratch/kristenk/archive/g.e22a06.G1850ECOIAF_JRA_PHYS_DEV.TL319_g17.4p4z.zoo4lon…\u001b[0m\u001b[2m \u001b[0m│\n",
       "│\u001b[2m \u001b[0m\u001b[2m/glade/scratch/kristenk/archive/g.e22a06.G1850ECOIAF_JRA_PHYS_DEV.TL319_g17.4p4z.zoo4lon…\u001b[0m\u001b[2m \u001b[0m│\n",
       "│\u001b[2m \u001b[0m\u001b[2m/glade/scratch/kristenk/archive/g.e22a06.G1850ECOIAF_JRA_PHYS_DEV.TL319_g17.4p4z.zoo4lon…\u001b[0m\u001b[2m \u001b[0m│\n",
       "│\u001b[2m \u001b[0m\u001b[2m/glade/scratch/kristenk/archive/g.e22a06.G1850ECOIAF_JRA_PHYS_DEV.TL319_g17.4p4z.zoo4lon…\u001b[0m\u001b[2m \u001b[0m│\n",
       "│\u001b[2m \u001b[0m\u001b[2m/glade/scratch/kristenk/archive/g.e22a06.G1850ECOIAF_JRA_PHYS_DEV.TL319_g17.4p4z.zoo4lon…\u001b[0m\u001b[2m \u001b[0m│\n",
       "│\u001b[2m \u001b[0m\u001b[2m/glade/scratch/kristenk/archive/g.e22a06.G1850ECOIAF_JRA_PHYS_DEV.TL319_g17.4p4z.zoo4bot…\u001b[0m\u001b[2m \u001b[0m│\n",
       "│\u001b[2m \u001b[0m\u001b[2m/glade/scratch/kristenk/archive/g.e22a06.G1850ECOIAF_JRA_PHYS_DEV.TL319_g17.4p4z.zoo4bot…\u001b[0m\u001b[2m \u001b[0m│\n",
       "│\u001b[2m \u001b[0m\u001b[2m/glade/scratch/kristenk/archive/g.e22a06.G1850ECOIAF_JRA_PHYS_DEV.TL319_g17.4p4z.zoo4bot…\u001b[0m\u001b[2m \u001b[0m│\n",
       "│\u001b[2m \u001b[0m\u001b[2m/glade/scratch/kristenk/archive/g.e22a06.G1850ECOIAF_JRA_PHYS_DEV.TL319_g17.4p4z.zoo4bot…\u001b[0m\u001b[2m \u001b[0m│\n",
       "│\u001b[2m \u001b[0m\u001b[2m/glade/scratch/kristenk/archive/g.e22a06.G1850ECOIAF_JRA_PHYS_DEV.TL319_g17.4p4z.zoo4bot…\u001b[0m\u001b[2m \u001b[0m│\n",
       "│\u001b[2m \u001b[0m\u001b[2m/glade/scratch/kristenk/archive/g.e22a06.G1850ECOIAF_JRA_PHYS_DEV.TL319_g17.4p4z.zoo4bot…\u001b[0m\u001b[2m \u001b[0m│\n",
       "│\u001b[2m \u001b[0m\u001b[2m/glade/scratch/kristenk/archive/g.e22a06.G1850ECOIAF_JRA_PHYS_DEV.TL319_g17.4p4z.zoo4bot…\u001b[0m\u001b[2m \u001b[0m│\n",
       "│\u001b[2m \u001b[0m\u001b[2m/glade/scratch/kristenk/archive/g.e22a06.G1850ECOIAF_JRA_PHYS_DEV.TL319_g17.4p4z.zoo4bot…\u001b[0m\u001b[2m \u001b[0m│\n",
       "│\u001b[2m \u001b[0m\u001b[2m/glade/scratch/kristenk/archive/g.e22a06.G1850ECOIAF_JRA_PHYS_DEV.TL319_g17.4p4z.zoo4bot…\u001b[0m\u001b[2m \u001b[0m│\n",
       "│\u001b[2m \u001b[0m\u001b[2m/glade/scratch/kristenk/archive/g.e22a06.G1850ECOIAF_JRA_PHYS_DEV.TL319_g17.4p4z.zoo4bot…\u001b[0m\u001b[2m \u001b[0m│\n",
       "│\u001b[2m \u001b[0m\u001b[2m/glade/scratch/kristenk/archive/g.e22a06.G1850ECOIAF_JRA_PHYS_DEV.TL319_g17.4p4z.zoo4bot…\u001b[0m\u001b[2m \u001b[0m│\n",
       "│\u001b[2m \u001b[0m\u001b[2m/glade/scratch/kristenk/archive/g.e22a06.G1850ECOIAF_JRA_PHYS_DEV.TL319_g17.4p4z.zoo4bot…\u001b[0m\u001b[2m \u001b[0m│\n",
       "│\u001b[2m \u001b[0m\u001b[2m/glade/scratch/kristenk/archive/g.e22a06.G1850ECOIAF_JRA_PHYS_DEV.TL319_g17.4p4z.zoo4bot…\u001b[0m\u001b[2m \u001b[0m│\n",
       "│\u001b[2m \u001b[0m\u001b[2m/glade/scratch/kristenk/archive/g.e22a06.G1850ECOIAF_JRA_PHYS_DEV.TL319_g17.4p4z.zoo4tes…\u001b[0m\u001b[2m \u001b[0m│\n",
       "│\u001b[2m \u001b[0m\u001b[2m/glade/scratch/kristenk/archive/g.e22a06.G1850ECOIAF_JRA_PHYS_DEV.TL319_g17.4p4z.zoo4tes…\u001b[0m\u001b[2m \u001b[0m│\n",
       "│\u001b[2m \u001b[0m\u001b[2m/glade/scratch/kristenk/archive/g.e22a06.G1850ECOIAF_JRA_PHYS_DEV.TL319_g17.4p4z.zoo4tes…\u001b[0m\u001b[2m \u001b[0m│\n",
       "│\u001b[2m \u001b[0m\u001b[2m/glade/scratch/kristenk/archive/g.e22a06.G1850ECOIAF_JRA_PHYS_DEV.TL319_g17.4p4z.zoo4tes…\u001b[0m\u001b[2m \u001b[0m│\n",
       "│\u001b[2m \u001b[0m\u001b[2m/glade/scratch/kristenk/archive/g.e22a06.G1850ECOIAF_JRA_PHYS_DEV.TL319_g17.4p4z.zoo4tes…\u001b[0m\u001b[2m \u001b[0m│\n",
       "│\u001b[2m \u001b[0m\u001b[2m/glade/scratch/kristenk/archive/g.e22a06.G1850ECOIAF_JRA_PHYS_DEV.TL319_g17.4p4z.zoo4tes…\u001b[0m\u001b[2m \u001b[0m│\n",
       "│\u001b[2m \u001b[0m\u001b[2m/glade/scratch/kristenk/archive/g.e22a06.G1850ECOIAF_JRA_PHYS_DEV.TL319_g17.4p4z.zoo4tes…\u001b[0m\u001b[2m \u001b[0m│\n",
       "│\u001b[2m \u001b[0m\u001b[2m/glade/scratch/kristenk/archive/g.e22a06.G1850ECOIAF_JRA_PHYS_DEV.TL319_g17.4p4z.003/ocn…\u001b[0m\u001b[2m \u001b[0m│\n",
       "│\u001b[2m \u001b[0m\u001b[2m/glade/scratch/kristenk/archive/g.e22a06.G1850ECOIAF_JRA_PHYS_DEV.TL319_g17.4p4z.003/res…\u001b[0m\u001b[2m \u001b[0m│\n",
       "│\u001b[2m \u001b[0m\u001b[2m/glade/scratch/kristenk/archive/g.e22a06.G1850ECOIAF_JRA_PHYS_DEV.TL319_g17.4p4z.003/res…\u001b[0m\u001b[2m \u001b[0m│\n",
       "│\u001b[2m \u001b[0m\u001b[2m/glade/scratch/kristenk/archive/g.e22a06.G1850ECOIAF_JRA_PHYS_DEV.TL319_g17.4p4z.003/res…\u001b[0m\u001b[2m \u001b[0m│\n",
       "│\u001b[2m \u001b[0m\u001b[2m/glade/scratch/kristenk/archive/g.e22a06.G1850ECOIAF_JRA_PHYS_DEV.TL319_g17.4p4z.003/res…\u001b[0m\u001b[2m \u001b[0m│\n",
       "│\u001b[2m \u001b[0m\u001b[2m/glade/scratch/kristenk/archive/g.e22a06.G1850ECOIAF_JRA_PHYS_DEV.TL319_g17.4p4z.003/res…\u001b[0m\u001b[2m \u001b[0m│\n",
       "│\u001b[2m \u001b[0m\u001b[2m/glade/scratch/kristenk/archive/g.e22a06.G1850ECOIAF_JRA_PHYS_DEV.TL319_g17.4p4z.003/res…\u001b[0m\u001b[2m \u001b[0m│\n",
       "│\u001b[2m \u001b[0m\u001b[2m/glade/scratch/kristenk/archive/g.e22a06.G1850ECOIAF_JRA_PHYS_DEV.TL319_g17.4p4z.003/res…\u001b[0m\u001b[2m \u001b[0m│\n",
       "│\u001b[2m \u001b[0m\u001b[2m/glade/scratch/kristenk/archive/g.e22a06.G1850ECOIAF_JRA_PHYS_DEV.TL319_g17.4p4z.003/res…\u001b[0m\u001b[2m \u001b[0m│\n",
       "│\u001b[2m \u001b[0m\u001b[2m/glade/scratch/kristenk/archive/g.e22a06.G1850ECOIAF_JRA_PHYS_DEV.TL319_g17.4p4z.003/res…\u001b[0m\u001b[2m \u001b[0m│\n",
       "│\u001b[2m \u001b[0m\u001b[2m/glade/scratch/kristenk/archive/g.e22a06.G1850ECOIAF_JRA_PHYS_DEV.TL319_g17.4p4z.004test…\u001b[0m\u001b[2m \u001b[0m│\n",
       "│\u001b[2m \u001b[0m\u001b[2m/glade/scratch/kristenk/archive/g.e22a06.G1850ECOIAF_JRA_PHYS_DEV.TL319_g17.4p4z.004test…\u001b[0m\u001b[2m \u001b[0m│\n",
       "│\u001b[2m \u001b[0m\u001b[2m/glade/scratch/kristenk/archive/g.e22a06.G1850ECOIAF_JRA_PHYS_DEV.TL319_g17.4p4z.004test…\u001b[0m\u001b[2m \u001b[0m│\n",
       "│\u001b[2m \u001b[0m\u001b[2m/glade/scratch/kristenk/archive/g.e22a06.G1850ECOIAF_JRA_PHYS_DEV.TL319_g17.4p4z.004test…\u001b[0m\u001b[2m \u001b[0m│\n",
       "│\u001b[2m \u001b[0m\u001b[2m/glade/scratch/kristenk/archive/g.e22a06.G1850ECOIAF_JRA_PHYS_DEV.TL319_g17.4p4z.004/ocn…\u001b[0m\u001b[2m \u001b[0m│\n",
       "│\u001b[2m \u001b[0m\u001b[2m/glade/scratch/kristenk/archive/g.e22a06.G1850ECOIAF_JRA_PHYS_DEV.TL319_g17.4p4z.004/res…\u001b[0m\u001b[2m \u001b[0m│\n",
       "│\u001b[2m \u001b[0m\u001b[2m/glade/scratch/kristenk/archive/g.e22a06.G1850ECOIAF_JRA_PHYS_DEV.TL319_g17.4p4z.004/res…\u001b[0m\u001b[2m \u001b[0m│\n",
       "│\u001b[2m \u001b[0m\u001b[2m/glade/scratch/kristenk/archive/g.e22a06.G1850ECOIAF_JRA_PHYS_DEV.TL319_g17.4p4z.004/res…\u001b[0m\u001b[2m \u001b[0m│\n",
       "│\u001b[2m \u001b[0m\u001b[2m/glade/scratch/kristenk/archive/g.e22a06.G1850ECOIAF_JRA_PHYS_DEV.TL319_g17.4p4z.004/res…\u001b[0m\u001b[2m \u001b[0m│\n",
       "│\u001b[2m \u001b[0m\u001b[2m/glade/scratch/kristenk/archive/g.e22a06.G1850ECOIAF_JRA_PHYS_DEV.TL319_g17.4p4z.004/res…\u001b[0m\u001b[2m \u001b[0m│\n",
       "│\u001b[2m \u001b[0m\u001b[2m/glade/scratch/kristenk/archive/g.e22a06.G1850ECOIAF_JRA_PHYS_DEV.TL319_g17.4p4z.004/res…\u001b[0m\u001b[2m \u001b[0m│\n",
       "│\u001b[2m \u001b[0m\u001b[2m/glade/scratch/kristenk/archive/g.e22a06.G1850ECOIAF_JRA_PHYS_DEV.TL319_g17.4p4z.004/res…\u001b[0m\u001b[2m \u001b[0m│\n",
       "│\u001b[2m \u001b[0m\u001b[2m/glade/scratch/kristenk/archive/g.e22a06.G1850ECOIAF_JRA_PHYS_DEV.TL319_g17.4p4z.004/res…\u001b[0m\u001b[2m \u001b[0m│\n",
       "│\u001b[2m \u001b[0m\u001b[2m/glade/scratch/kristenk/archive/g.e22a06.G1850ECOIAF_JRA_PHYS_DEV.TL319_g17.4p4z.004/res…\u001b[0m\u001b[2m \u001b[0m│\n",
       "│\u001b[2m \u001b[0m\u001b[2m/glade/scratch/kristenk/archive/g.e22a06.G1850ECOIAF_JRA_PHYS_DEV.TL319_g17.4p4z.004/res…\u001b[0m\u001b[2m \u001b[0m│\n",
       "│\u001b[2m \u001b[0m\u001b[2m/glade/scratch/kristenk/archive/g.e22a06.G1850ECOIAF_JRA_PHYS_DEV.TL319_g17.4p4z.004/res…\u001b[0m\u001b[2m \u001b[0m│\n",
       "│\u001b[2m \u001b[0m\u001b[2m/glade/scratch/kristenk/archive/g.e22a06.G1850ECOIAF_JRA_PHYS_DEV.TL319_g17.4p4z.004/res…\u001b[0m\u001b[2m \u001b[0m│\n",
       "│\u001b[2m \u001b[0m\u001b[2m/glade/scratch/kristenk/archive/g.e22a06.G1850ECOIAF_JRA_PHYS_DEV.TL319_g17.4p4z.004/res…\u001b[0m\u001b[2m \u001b[0m│\n",
       "│\u001b[2m \u001b[0m\u001b[2m/glade/scratch/kristenk/archive/g.e22a06.G1850ECOIAF_JRA_PHYS_DEV.TL319_g17.4p4z.004/res…\u001b[0m\u001b[2m \u001b[0m│\n",
       "│\u001b[2m \u001b[0m\u001b[2m/glade/scratch/kristenk/archive/g.e22a06.G1850ECOIAF_JRA_PHYS_DEV.TL319_g17.4p4z.004/res…\u001b[0m\u001b[2m \u001b[0m│\n",
       "│\u001b[2m \u001b[0m\u001b[2m/glade/scratch/kristenk/archive/g.e22a06.G1850ECOIAF_JRA_PHYS_DEV.TL319_g17.4p4z.004/res…\u001b[0m\u001b[2m \u001b[0m│\n",
       "│\u001b[2m \u001b[0m\u001b[2m/glade/scratch/kristenk/archive/g.e22a06.G1850ECOIAF_JRA_PHYS_DEV.TL319_g17.4p4z.004/res…\u001b[0m\u001b[2m \u001b[0m│\n",
       "│\u001b[2m \u001b[0m\u001b[2m/glade/scratch/kristenk/archive/g.e22a06.G1850ECOIAF_JRA_PHYS_DEV.TL319_g17.4p4z.004/res…\u001b[0m\u001b[2m \u001b[0m│\n",
       "│\u001b[2m \u001b[0m\u001b[2m/glade/scratch/kristenk/archive/g.e22a06.G1850ECOIAF_JRA_PHYS_DEV.TL319_g17.4p4z.004/res…\u001b[0m\u001b[2m \u001b[0m│\n",
       "│\u001b[2m \u001b[0m\u001b[2m/glade/scratch/kristenk/archive/g.e22a06.G1850ECOIAF_JRA_PHYS_DEV.TL319_g17.4p4z.004/res…\u001b[0m\u001b[2m \u001b[0m│\n",
       "│\u001b[2m \u001b[0m\u001b[2m/glade/scratch/kristenk/archive/g.e22a06.G1850ECOIAF_JRA_PHYS_DEV.TL319_g17.4p4z.004/res…\u001b[0m\u001b[2m \u001b[0m│\n",
       "│\u001b[2m \u001b[0m\u001b[2m/glade/scratch/kristenk/archive/g.e22a06.G1850ECOIAF_JRA_PHYS_DEV.TL319_g17.4p4z.004/res…\u001b[0m\u001b[2m \u001b[0m│\n",
       "│\u001b[2m \u001b[0m\u001b[2m/glade/scratch/kristenk/archive/g.e22a06.G1850ECOIAF_JRA_PHYS_DEV.TL319_g17.4p4z.004/res…\u001b[0m\u001b[2m \u001b[0m│\n",
       "│\u001b[2m \u001b[0m\u001b[2m/glade/scratch/kristenk/archive/g.e22a06.G1850ECOIAF_JRA_PHYS_DEV.TL319_g17.4p4z.004/res…\u001b[0m\u001b[2m \u001b[0m│\n",
       "│\u001b[2m \u001b[0m\u001b[2m/glade/scratch/kristenk/archive/g.e22a06.G1850ECOIAF_JRA_PHYS_DEV.TL319_g17.4p4z.004/res…\u001b[0m\u001b[2m \u001b[0m│\n",
       "│\u001b[2m \u001b[0m\u001b[2m/glade/scratch/kristenk/archive/g.e22a06.G1850ECOIAF_JRA_PHYS_DEV.TL319_g17.4p4z.004/res…\u001b[0m\u001b[2m \u001b[0m│\n",
       "│\u001b[2m \u001b[0m\u001b[2m/glade/scratch/kristenk/archive/g.e22a06.G1850ECOIAF_JRA_PHYS_DEV.TL319_g17.4p4z.004/res…\u001b[0m\u001b[2m \u001b[0m│\n",
       "│\u001b[2m \u001b[0m\u001b[2m/glade/scratch/kristenk/archive/g.e22a06.G1850ECOIAF_JRA_PHYS_DEV.TL319_g17.4p4z.001/ocn…\u001b[0m\u001b[2m \u001b[0m│\n",
       "│\u001b[2m \u001b[0m\u001b[2m/glade/scratch/kristenk/archive/g.e22a06.G1850ECOIAF_JRA_PHYS_DEV.TL319_g17.4p4z.001/res…\u001b[0m\u001b[2m \u001b[0m│\n",
       "│\u001b[2m \u001b[0m\u001b[2m/glade/scratch/kristenk/archive/g.e22a06.G1850ECOIAF_JRA_PHYS_DEV.TL319_g17.4p4z.001/res…\u001b[0m\u001b[2m \u001b[0m│\n",
       "│\u001b[2m \u001b[0m\u001b[2m/glade/scratch/kristenk/archive/g.e22a06.G1850ECOIAF_JRA_PHYS_DEV.TL319_g17.4p4z.001/res…\u001b[0m\u001b[2m \u001b[0m│\n",
       "│\u001b[2m \u001b[0m\u001b[2m/glade/scratch/kristenk/archive/g.e22a06.G1850ECOIAF_JRA_PHYS_DEV.TL319_g17.4p4z.001/res…\u001b[0m\u001b[2m \u001b[0m│\n",
       "│\u001b[2m \u001b[0m\u001b[2m/glade/scratch/kristenk/archive/g.e22a06.G1850ECOIAF_JRA_PHYS_DEV.TL319_g17.4p4z.001/res…\u001b[0m\u001b[2m \u001b[0m│\n",
       "│\u001b[2m \u001b[0m\u001b[2m/glade/scratch/kristenk/archive/g.e22a06.G1850ECOIAF_JRA_PHYS_DEV.TL319_g17.4p4z.001/res…\u001b[0m\u001b[2m \u001b[0m│\n",
       "│\u001b[2m \u001b[0m\u001b[2m/glade/scratch/kristenk/archive/g.e22a06.G1850ECOIAF_JRA_PHYS_DEV.TL319_g17.4p4z.001/res…\u001b[0m\u001b[2m \u001b[0m│\n",
       "│\u001b[2m \u001b[0m\u001b[2m/glade/scratch/kristenk/archive/g.e22a06.G1850ECOIAF_JRA_PHYS_DEV.TL319_g17.4p4z.001/res…\u001b[0m\u001b[2m \u001b[0m│\n",
       "│\u001b[2m \u001b[0m\u001b[2m/glade/scratch/kristenk/archive/g.e22a06.G1850ECOIAF_JRA_PHYS_DEV.TL319_g17.4p4z.001/res…\u001b[0m\u001b[2m \u001b[0m│\n",
       "│\u001b[2m \u001b[0m\u001b[2m/glade/scratch/kristenk/archive/g.e22a06.G1850ECOIAF_JRA_PHYS_DEV.TL319_g17.4p4z.001/res…\u001b[0m\u001b[2m \u001b[0m│\n",
       "│\u001b[2m \u001b[0m\u001b[2m/glade/scratch/kristenk/archive/g.e22a06.G1850ECOIAF_JRA_PHYS_DEV.TL319_g17.4p4z.001/res…\u001b[0m\u001b[2m \u001b[0m│\n",
       "│\u001b[2m \u001b[0m\u001b[2m/glade/scratch/kristenk/archive/g.e22a06.G1850ECOIAF_JRA_PHYS_DEV.TL319_g17.4p4z.001/res…\u001b[0m\u001b[2m \u001b[0m│\n",
       "│\u001b[2m \u001b[0m\u001b[2m/glade/scratch/kristenk/archive/g.e22a06.G1850ECOIAF_JRA_PHYS_DEV.TL319_g17.4p4z.001/res…\u001b[0m\u001b[2m \u001b[0m│\n",
       "│\u001b[2m \u001b[0m\u001b[2m/glade/scratch/kristenk/archive/g.e22a06.G1850ECOIAF_JRA_PHYS_DEV.TL319_g17.4p4z.001/res…\u001b[0m\u001b[2m \u001b[0m│\n",
       "│\u001b[2m \u001b[0m\u001b[2m/glade/scratch/kristenk/archive/g.e22a06.G1850ECOIAF_JRA_PHYS_DEV.TL319_g17.4p4z.001/res…\u001b[0m\u001b[2m \u001b[0m│\n",
       "│\u001b[2m \u001b[0m\u001b[2m/glade/scratch/kristenk/archive/g.e22a06.G1850ECOIAF_JRA_PHYS_DEV.TL319_g17.4p4z.001/res…\u001b[0m\u001b[2m \u001b[0m│\n",
       "│\u001b[2m \u001b[0m\u001b[2m/glade/scratch/kristenk/archive/g.e22a06.G1850ECOIAF_JRA_PHYS_DEV.TL319_g17.4p4z.001/res…\u001b[0m\u001b[2m \u001b[0m│\n",
       "│\u001b[2m \u001b[0m\u001b[2m/glade/scratch/kristenk/archive/g.e22a06.G1850ECOIAF_JRA_PHYS_DEV.TL319_g17.4p4z.001/res…\u001b[0m\u001b[2m \u001b[0m│\n",
       "│\u001b[2m \u001b[0m\u001b[2m/glade/scratch/kristenk/archive/g.e22a06.G1850ECOIAF_JRA_PHYS_DEV.TL319_g17.4p4z.001/res…\u001b[0m\u001b[2m \u001b[0m│\n",
       "│\u001b[2m \u001b[0m\u001b[2m/glade/scratch/kristenk/archive/g.e22a06.G1850ECOIAF_JRA_PHYS_DEV.TL319_g17.4p4z.001/res…\u001b[0m\u001b[2m \u001b[0m│\n",
       "│\u001b[2m \u001b[0m\u001b[2m/glade/scratch/kristenk/archive/g.e22a06.G1850ECOIAF_JRA_PHYS_DEV.TL319_g17.4p4z.001/res…\u001b[0m\u001b[2m \u001b[0m│\n",
       "│\u001b[2m \u001b[0m\u001b[2m/glade/scratch/kristenk/archive/g.e22a06.G1850ECOIAF_JRA_PHYS_DEV.TL319_g17.4p4z.001/res…\u001b[0m\u001b[2m \u001b[0m│\n",
       "│\u001b[2m \u001b[0m\u001b[2m/glade/scratch/kristenk/archive/g.e22a06.G1850ECOIAF_JRA_PHYS_DEV.TL319_g17.4p4z.001/res…\u001b[0m\u001b[2m \u001b[0m│\n",
       "│\u001b[2m \u001b[0m\u001b[2m/glade/scratch/kristenk/archive/g.e22a06.G1850ECOIAF_JRA_PHYS_DEV.TL319_g17.4p4z.001/res…\u001b[0m\u001b[2m \u001b[0m│\n",
       "│\u001b[2m \u001b[0m\u001b[2m/glade/scratch/kristenk/archive/g.e22a06.G1850ECOIAF_JRA_PHYS_DEV.TL319_g17.4p4z.001/res…\u001b[0m\u001b[2m \u001b[0m│\n",
       "│\u001b[2m \u001b[0m\u001b[2m/glade/scratch/kristenk/archive/g.e22a06.G1850ECOIAF_JRA_PHYS_DEV.TL319_g17.4p4z.001/res…\u001b[0m\u001b[2m \u001b[0m│\n",
       "│\u001b[2m \u001b[0m\u001b[2m/glade/scratch/kristenk/archive/g.e22a06.G1850ECOIAF_JRA_PHYS_DEV.TL319_g17.4p4z.001/res…\u001b[0m\u001b[2m \u001b[0m│\n",
       "│\u001b[2m \u001b[0m\u001b[2m/glade/scratch/kristenk/archive/g.e22a06.G1850ECOIAF_JRA_PHYS_DEV.TL319_g17.4p4z.zoo4LLM…\u001b[0m\u001b[2m \u001b[0m│\n",
       "│\u001b[2m \u001b[0m\u001b[2m/glade/scratch/kristenk/archive/g.e22a06.G1850ECOIAF_JRA_PHYS_DEV.TL319_g17.4p4z.zoo4LLM…\u001b[0m\u001b[2m \u001b[0m│\n",
       "│\u001b[2m \u001b[0m\u001b[2m/glade/scratch/kristenk/archive/g.e22a06.G1850ECOIAF_JRA_PHYS_DEV.TL319_g17.4p4z.zoo4LLM…\u001b[0m\u001b[2m \u001b[0m│\n",
       "│\u001b[2m \u001b[0m\u001b[2m/glade/scratch/kristenk/archive/g.e22a06.G1850ECOIAF_JRA_PHYS_DEV.TL319_g17.4p4z.zoo4LLM…\u001b[0m\u001b[2m \u001b[0m│\n",
       "│\u001b[2m \u001b[0m\u001b[2m/glade/scratch/kristenk/archive/g.e22a06.G1850ECOIAF_JRA_PHYS_DEV.TL319_g17.4p4z.zoo4LLM…\u001b[0m\u001b[2m \u001b[0m│\n",
       "│\u001b[2m \u001b[0m\u001b[2m/glade/scratch/kristenk/archive/g.e22a06.G1850ECOIAF_JRA_PHYS_DEV.TL319_g17.4p4z.zoo4LLM…\u001b[0m\u001b[2m \u001b[0m│\n",
       "│\u001b[2m \u001b[0m\u001b[2m/glade/scratch/kristenk/archive/g.e22a06.G1850ECOIAF_JRA_PHYS_DEV.TL319_g17.4p4z.zoo4LLM…\u001b[0m\u001b[2m \u001b[0m│\n",
       "│\u001b[2m \u001b[0m\u001b[2m/glade/scratch/kristenk/archive/g.e22a06.G1850ECOIAF_JRA_PHYS_DEV.TL319_g17.4p4z.zoo4LLM…\u001b[0m\u001b[2m \u001b[0m│\n",
       "│\u001b[2m \u001b[0m\u001b[2m/glade/scratch/kristenk/archive/g.e22a06.G1850ECOIAF_JRA_PHYS_DEV.TL319_g17.4p4z.zoo4LLM…\u001b[0m\u001b[2m \u001b[0m│\n",
       "│\u001b[2m \u001b[0m\u001b[2m/glade/scratch/kristenk/archive/g.e22a06.G1850ECOIAF_JRA_PHYS_DEV.TL319_g17.4p4z.zoo4LLM…\u001b[0m\u001b[2m \u001b[0m│\n",
       "│\u001b[2m \u001b[0m\u001b[2m/glade/scratch/kristenk/archive/g.e22a06.G1850ECOIAF_JRA_PHYS_DEV.TL319_g17.4p4z.zoo4LLM…\u001b[0m\u001b[2m \u001b[0m│\n",
       "│\u001b[2m \u001b[0m\u001b[2m/glade/scratch/kristenk/archive/g.e22a06.G1850ECOIAF_JRA_PHYS_DEV.TL319_g17.4p4z.zoo4LLM…\u001b[0m\u001b[2m \u001b[0m│\n",
       "│\u001b[2m \u001b[0m\u001b[2m/glade/scratch/kristenk/archive/g.e22a06.G1850ECOIAF_JRA_PHYS_DEV.TL319_g17.4p4z.zoo4LLM…\u001b[0m\u001b[2m \u001b[0m│\n",
       "│\u001b[2m \u001b[0m\u001b[2m/glade/scratch/kristenk/archive/g.e22a06.G1850ECOIAF_JRA_PHYS_DEV.TL319_g17.3p1z.001/ocn…\u001b[0m\u001b[2m \u001b[0m│\n",
       "│\u001b[2m \u001b[0m\u001b[2m/glade/scratch/kristenk/archive/g.e22a06.G1850ECOIAF_JRA_PHYS_DEV.TL319_g17.3p1z.001/res…\u001b[0m\u001b[2m \u001b[0m│\n",
       "│\u001b[2m \u001b[0m\u001b[2m/glade/scratch/kristenk/archive/g.e22a06.G1850ECOIAF_JRA_PHYS_DEV.TL319_g17.3p1z.001/res…\u001b[0m\u001b[2m \u001b[0m│\n",
       "│\u001b[2m \u001b[0m\u001b[2m/glade/scratch/kristenk/archive/g.e22a06.G1850ECOIAF_JRA_PHYS_DEV.TL319_g17.3p1z.001/res…\u001b[0m\u001b[2m \u001b[0m│\n",
       "│\u001b[2m \u001b[0m\u001b[2m/glade/scratch/kristenk/archive/g.e22a06.G1850ECOIAF_JRA_PHYS_DEV.TL319_g17.3p1z.001/res…\u001b[0m\u001b[2m \u001b[0m│\n",
       "│\u001b[2m \u001b[0m\u001b[2m/glade/scratch/kristenk/archive/g.e22a06.G1850ECOIAF_JRA_PHYS_DEV.TL319_g17.3p1z.001/res…\u001b[0m\u001b[2m \u001b[0m│\n",
       "│\u001b[2m \u001b[0m\u001b[2m/glade/scratch/kristenk/archive/g.e22a06.G1850ECOIAF_JRA_PHYS_DEV.TL319_g17.3p1z.001/res…\u001b[0m\u001b[2m \u001b[0m│\n",
       "│\u001b[2m \u001b[0m\u001b[2m/glade/scratch/kristenk/archive/g.e22a06.G1850ECOIAF_JRA_PHYS_DEV.TL319_g17.3p1z.001/res…\u001b[0m\u001b[2m \u001b[0m│\n",
       "│\u001b[2m \u001b[0m\u001b[2m/glade/scratch/kristenk/archive/g.e22a06.G1850ECOIAF_JRA_PHYS_DEV.TL319_g17.3p1z.001/res…\u001b[0m\u001b[2m \u001b[0m│\n",
       "│\u001b[2m \u001b[0m\u001b[2m/glade/scratch/kristenk/archive/g.e22a06.G1850ECOIAF_JRA_PHYS_DEV.TL319_g17.3p1z.001/res…\u001b[0m\u001b[2m \u001b[0m│\n",
       "│\u001b[2m \u001b[0m\u001b[2m/glade/scratch/kristenk/archive/g.e22a06.G1850ECOIAF_JRA_PHYS_DEV.TL319_g17.3p1z.001/res…\u001b[0m\u001b[2m \u001b[0m│\n",
       "│\u001b[2m \u001b[0m\u001b[2m/glade/scratch/kristenk/archive/g.e22a06.G1850ECOIAF_JRA_PHYS_DEV.TL319_g17.3p1z.001/res…\u001b[0m\u001b[2m \u001b[0m│\n",
       "│\u001b[2m \u001b[0m\u001b[2m/glade/scratch/kristenk/archive/g.e22a06.G1850ECOIAF_JRA_PHYS_DEV.TL319_g17.3p1z.001/res…\u001b[0m\u001b[2m \u001b[0m│\n",
       "│\u001b[2m \u001b[0m\u001b[2m/glade/scratch/kristenk/archive/g.e22a06.G1850ECOIAF_JRA_PHYS_DEV.TL319_g17.3p1z.001/res…\u001b[0m\u001b[2m \u001b[0m│\n",
       "│\u001b[2m \u001b[0m\u001b[2m/glade/scratch/kristenk/archive/g.e22a06.G1850ECOIAF_JRA_PHYS_DEV.TL319_g17.3p1z.001/res…\u001b[0m\u001b[2m \u001b[0m│\n",
       "│\u001b[2m \u001b[0m\u001b[2m/glade/scratch/kristenk/archive/g.e22a06.G1850ECOIAF_JRA_PHYS_DEV.TL319_g17.3p1z.001/res…\u001b[0m\u001b[2m \u001b[0m│\n",
       "│\u001b[2m \u001b[0m\u001b[2m/glade/scratch/kristenk/archive/g.e22a06.G1850ECOIAF_JRA_PHYS_DEV.TL319_g17.3p1z.001/res…\u001b[0m\u001b[2m \u001b[0m│\n",
       "│\u001b[2m \u001b[0m\u001b[2m/glade/scratch/kristenk/archive/g.e22a06.G1850ECOIAF_JRA_PHYS_DEV.TL319_g17.3p1z.001/res…\u001b[0m\u001b[2m \u001b[0m│\n",
       "│\u001b[2m \u001b[0m\u001b[2m/glade/scratch/kristenk/archive/g.e22a06.G1850ECOIAF_JRA_PHYS_DEV.TL319_g17.3p1z.001/res…\u001b[0m\u001b[2m \u001b[0m│\n",
       "│\u001b[2m \u001b[0m\u001b[2m/glade/scratch/kristenk/archive/g.e22a06.G1850ECOIAF_JRA_PHYS_DEV.TL319_g17.3p1z.001/res…\u001b[0m\u001b[2m \u001b[0m│\n",
       "│\u001b[2m \u001b[0m\u001b[2m/glade/scratch/kristenk/archive/g.e22a06.G1850ECOIAF_JRA_PHYS_DEV.TL319_g17.3p1z.001/res…\u001b[0m\u001b[2m \u001b[0m│\n",
       "│\u001b[2m \u001b[0m\u001b[2m/glade/scratch/kristenk/archive/g.e22a06.G1850ECOIAF_JRA_PHYS_DEV.TL319_g17.3p1z.001/res…\u001b[0m\u001b[2m \u001b[0m│\n",
       "│\u001b[2m \u001b[0m\u001b[2m/glade/scratch/kristenk/archive/g.e22a06.G1850ECOIAF_JRA_PHYS_DEV.TL319_g17.3p1z.001/res…\u001b[0m\u001b[2m \u001b[0m│\n",
       "│\u001b[2m \u001b[0m\u001b[2m/glade/scratch/kristenk/archive/g.e22a06.G1850ECOIAF_JRA_PHYS_DEV.TL319_g17.3p1z.001/res…\u001b[0m\u001b[2m \u001b[0m│\n",
       "│\u001b[2m \u001b[0m\u001b[2m/glade/scratch/kristenk/archive/g.e22a06.G1850ECOIAF_JRA_PHYS_DEV.TL319_g17.3p1z.001/res…\u001b[0m\u001b[2m \u001b[0m│\n",
       "│\u001b[2m \u001b[0m\u001b[2m/glade/scratch/kristenk/archive/g.e22a06.G1850ECOIAF_JRA_PHYS_DEV.TL319_g17.3p1z.001/res…\u001b[0m\u001b[2m \u001b[0m│\n",
       "│\u001b[2m \u001b[0m\u001b[2m/glade/scratch/kristenk/archive/g.e22a06.G1850ECOIAF_JRA_PHYS_DEV.TL319_g17.3p1z.001/res…\u001b[0m\u001b[2m \u001b[0m│\n",
       "│\u001b[2m \u001b[0m\u001b[2m/glade/scratch/kristenk/archive/g.e22a06.G1850ECOIAF_JRA_PHYS_DEV.TL319_g17.3p1z.001/res…\u001b[0m\u001b[2m \u001b[0m│\n",
       "│\u001b[2m \u001b[0m\u001b[2m/glade/scratch/kristenk/archive/g.e22a06.G1850ECOIAF_JRA_PHYS_DEV.TL319_g17.4p4z.002/ocn…\u001b[0m\u001b[2m \u001b[0m│\n",
       "│\u001b[2m \u001b[0m\u001b[2m/glade/scratch/kristenk/archive/g.e22a06.G1850ECOIAF_JRA_PHYS_DEV.TL319_g17.4p4z.002/res…\u001b[0m\u001b[2m \u001b[0m│\n",
       "│\u001b[2m \u001b[0m\u001b[2m/glade/scratch/kristenk/archive/g.e22a06.G1850ECOIAF_JRA_PHYS_DEV.TL319_g17.4p4z.002/res…\u001b[0m\u001b[2m \u001b[0m│\n",
       "│\u001b[2m \u001b[0m\u001b[2m/glade/scratch/kristenk/archive/g.e22a06.G1850ECOIAF_JRA_PHYS_DEV.TL319_g17.4p4z.002/res…\u001b[0m\u001b[2m \u001b[0m│\n",
       "│\u001b[2m \u001b[0m\u001b[2m/glade/scratch/kristenk/archive/g.e22a06.G1850ECOIAF_JRA_PHYS_DEV.TL319_g17.4p4z.002/res…\u001b[0m\u001b[2m \u001b[0m│\n",
       "│\u001b[2m \u001b[0m\u001b[2m/glade/scratch/kristenk/archive/g.e22a06.G1850ECOIAF_JRA_PHYS_DEV.TL319_g17.4p4z.002/res…\u001b[0m\u001b[2m \u001b[0m│\n",
       "│\u001b[2m \u001b[0m\u001b[2m/glade/scratch/kristenk/archive/g.e22a06.G1850ECOIAF_JRA_PHYS_DEV.TL319_g17.4p4z.002/res…\u001b[0m\u001b[2m \u001b[0m│\n",
       "│\u001b[2m \u001b[0m\u001b[2m/glade/scratch/kristenk/archive/g.e22a06.G1850ECOIAF_JRA_PHYS_DEV.TL319_g17.4p4z.002/res…\u001b[0m\u001b[2m \u001b[0m│\n",
       "│\u001b[2m \u001b[0m\u001b[2m/glade/scratch/kristenk/archive/g.e22a06.G1850ECOIAF_JRA_PHYS_DEV.TL319_g17.4p4z.002/res…\u001b[0m\u001b[2m \u001b[0m│\n",
       "│\u001b[2m \u001b[0m\u001b[2m/glade/scratch/kristenk/archive/g.e22a06.G1850ECOIAF_JRA_PHYS_DEV.TL319_g17.4p4z.002/res…\u001b[0m\u001b[2m \u001b[0m│\n",
       "└───────────────────────────────────────────────────────────────────────────────────────────┘\n"
      ]
     },
     "metadata": {},
     "output_type": "display_data"
    },
    {
     "data": {
      "text/plain": [
       "Builder(root_path=PosixPath('/glade/scratch/kristenk/archive'), extension='*.nc', depth=2, exclude_patterns=['*/tseries/*'], parser=<function parse_cesm_history at 0x2b044cc3a820>, lazy=True, nbatches=25)"
      ]
     },
     "execution_count": 22,
     "metadata": {},
     "output_type": "execute_result"
    }
   ],
   "source": [
    "b = b.build(\n",
    "    path_column='path',\n",
    "    variable_column='variables',\n",
    "    data_format=\"netcdf\",\n",
    "    groupby_attrs=[\"component\", \"stream\", \"case\"],\n",
    "    aggregations=[\n",
    "        {\n",
    "            \"type\": \"join_existing\",\n",
    "            \"attribute_name\": \"date\",\n",
    "            \"options\": {\"dim\": \"time\", \"coords\": \"minimal\", \"compat\": \"override\"},\n",
    "        }\n",
    "    ],\n",
    ")\n",
    "\n",
    "b.save(\"cesm-hist-test.csv.gz\")"
   ]
  },
  {
   "cell_type": "code",
   "execution_count": 23,
   "id": "adverse-record",
   "metadata": {},
   "outputs": [
    {
     "data": {
      "text/html": [
       "<div>\n",
       "<style scoped>\n",
       "    .dataframe tbody tr th:only-of-type {\n",
       "        vertical-align: middle;\n",
       "    }\n",
       "\n",
       "    .dataframe tbody tr th {\n",
       "        vertical-align: top;\n",
       "    }\n",
       "\n",
       "    .dataframe thead th {\n",
       "        text-align: right;\n",
       "    }\n",
       "</style>\n",
       "<table border=\"1\" class=\"dataframe\">\n",
       "  <thead>\n",
       "    <tr style=\"text-align: right;\">\n",
       "      <th></th>\n",
       "      <th>component</th>\n",
       "      <th>stream</th>\n",
       "      <th>case</th>\n",
       "      <th>frequency</th>\n",
       "      <th>date</th>\n",
       "      <th>variables</th>\n",
       "      <th>path</th>\n",
       "    </tr>\n",
       "  </thead>\n",
       "  <tbody>\n",
       "    <tr>\n",
       "      <th>0</th>\n",
       "      <td>ocn</td>\n",
       "      <td>pop.h.ecosys</td>\n",
       "      <td>g.e22a06.g1850ecoiaf_jra_phys_dev.tl319_g17.4p...</td>\n",
       "      <td>month_1</td>\n",
       "      <td>nday1.0053-01-01</td>\n",
       "      <td>[photoC_sp_zint_2, photoC_diat_zint_2, photoC_...</td>\n",
       "      <td>/glade/scratch/kristenk/archive/g.e22a06.G1850...</td>\n",
       "    </tr>\n",
       "    <tr>\n",
       "      <th>1</th>\n",
       "      <td>ocn</td>\n",
       "      <td>pop.h</td>\n",
       "      <td>g.e22a06.g1850ecoiaf_jra_phys_dev.tl319_g17.4p...</td>\n",
       "      <td>month_1</td>\n",
       "      <td>0046-08</td>\n",
       "      <td>[UVEL, UVEL2, VVEL, VVEL2, TEMP, dTEMP_POS_2D,...</td>\n",
       "      <td>/glade/scratch/kristenk/archive/g.e22a06.G1850...</td>\n",
       "    </tr>\n",
       "    <tr>\n",
       "      <th>2</th>\n",
       "      <td>ocn</td>\n",
       "      <td>pop.h</td>\n",
       "      <td>g.e22a06.g1850ecoiaf_jra_phys_dev.tl319_g17.4p...</td>\n",
       "      <td>month_1</td>\n",
       "      <td>0061-07</td>\n",
       "      <td>[UVEL, UVEL2, VVEL, VVEL2, TEMP, dTEMP_POS_2D,...</td>\n",
       "      <td>/glade/scratch/kristenk/archive/g.e22a06.G1850...</td>\n",
       "    </tr>\n",
       "    <tr>\n",
       "      <th>3</th>\n",
       "      <td>ocn</td>\n",
       "      <td>pop.h</td>\n",
       "      <td>g.e22a06.g1850ecoiaf_jra_phys_dev.tl319_g17.4p...</td>\n",
       "      <td>month_1</td>\n",
       "      <td>0042-09</td>\n",
       "      <td>[UVEL, UVEL2, VVEL, VVEL2, TEMP, dTEMP_POS_2D,...</td>\n",
       "      <td>/glade/scratch/kristenk/archive/g.e22a06.G1850...</td>\n",
       "    </tr>\n",
       "    <tr>\n",
       "      <th>4</th>\n",
       "      <td>ocn</td>\n",
       "      <td>pop.h</td>\n",
       "      <td>g.e22a06.g1850ecoiaf_jra_phys_dev.tl319_g17.4p...</td>\n",
       "      <td>month_1</td>\n",
       "      <td>0043-11</td>\n",
       "      <td>[UVEL, UVEL2, VVEL, VVEL2, TEMP, dTEMP_POS_2D,...</td>\n",
       "      <td>/glade/scratch/kristenk/archive/g.e22a06.G1850...</td>\n",
       "    </tr>\n",
       "  </tbody>\n",
       "</table>\n",
       "</div>"
      ],
      "text/plain": [
       "  component        stream                                               case  \\\n",
       "0       ocn  pop.h.ecosys  g.e22a06.g1850ecoiaf_jra_phys_dev.tl319_g17.4p...   \n",
       "1       ocn         pop.h  g.e22a06.g1850ecoiaf_jra_phys_dev.tl319_g17.4p...   \n",
       "2       ocn         pop.h  g.e22a06.g1850ecoiaf_jra_phys_dev.tl319_g17.4p...   \n",
       "3       ocn         pop.h  g.e22a06.g1850ecoiaf_jra_phys_dev.tl319_g17.4p...   \n",
       "4       ocn         pop.h  g.e22a06.g1850ecoiaf_jra_phys_dev.tl319_g17.4p...   \n",
       "\n",
       "  frequency              date  \\\n",
       "0   month_1  nday1.0053-01-01   \n",
       "1   month_1           0046-08   \n",
       "2   month_1           0061-07   \n",
       "3   month_1           0042-09   \n",
       "4   month_1           0043-11   \n",
       "\n",
       "                                           variables  \\\n",
       "0  [photoC_sp_zint_2, photoC_diat_zint_2, photoC_...   \n",
       "1  [UVEL, UVEL2, VVEL, VVEL2, TEMP, dTEMP_POS_2D,...   \n",
       "2  [UVEL, UVEL2, VVEL, VVEL2, TEMP, dTEMP_POS_2D,...   \n",
       "3  [UVEL, UVEL2, VVEL, VVEL2, TEMP, dTEMP_POS_2D,...   \n",
       "4  [UVEL, UVEL2, VVEL, VVEL2, TEMP, dTEMP_POS_2D,...   \n",
       "\n",
       "                                                path  \n",
       "0  /glade/scratch/kristenk/archive/g.e22a06.G1850...  \n",
       "1  /glade/scratch/kristenk/archive/g.e22a06.G1850...  \n",
       "2  /glade/scratch/kristenk/archive/g.e22a06.G1850...  \n",
       "3  /glade/scratch/kristenk/archive/g.e22a06.G1850...  \n",
       "4  /glade/scratch/kristenk/archive/g.e22a06.G1850...  "
      ]
     },
     "execution_count": 23,
     "metadata": {},
     "output_type": "execute_result"
    }
   ],
   "source": [
    "b.df.head()"
   ]
  },
  {
   "cell_type": "code",
   "execution_count": 47,
   "id": "fancy-delight",
   "metadata": {},
   "outputs": [
    {
     "data": {
      "text/html": [
       "<p><strong> catalog with 70 dataset(s) from 19859 asset(s)</strong>:</p> <div>\n",
       "<style scoped>\n",
       "    .dataframe tbody tr th:only-of-type {\n",
       "        vertical-align: middle;\n",
       "    }\n",
       "\n",
       "    .dataframe tbody tr th {\n",
       "        vertical-align: top;\n",
       "    }\n",
       "\n",
       "    .dataframe thead th {\n",
       "        text-align: right;\n",
       "    }\n",
       "</style>\n",
       "<table border=\"1\" class=\"dataframe\">\n",
       "  <thead>\n",
       "    <tr style=\"text-align: right;\">\n",
       "      <th></th>\n",
       "      <th>unique</th>\n",
       "    </tr>\n",
       "  </thead>\n",
       "  <tbody>\n",
       "    <tr>\n",
       "      <th>component</th>\n",
       "      <td>2</td>\n",
       "    </tr>\n",
       "    <tr>\n",
       "      <th>stream</th>\n",
       "      <td>5</td>\n",
       "    </tr>\n",
       "    <tr>\n",
       "      <th>case</th>\n",
       "      <td>14</td>\n",
       "    </tr>\n",
       "    <tr>\n",
       "      <th>frequency</th>\n",
       "      <td>3</td>\n",
       "    </tr>\n",
       "    <tr>\n",
       "      <th>date</th>\n",
       "      <td>2258</td>\n",
       "    </tr>\n",
       "    <tr>\n",
       "      <th>variables</th>\n",
       "      <td>691</td>\n",
       "    </tr>\n",
       "    <tr>\n",
       "      <th>path</th>\n",
       "      <td>19859</td>\n",
       "    </tr>\n",
       "  </tbody>\n",
       "</table>\n",
       "</div>"
      ],
      "text/plain": [
       "<IPython.core.display.HTML object>"
      ]
     },
     "metadata": {},
     "output_type": "display_data"
    }
   ],
   "source": [
    "col = intake.open_esm_datastore(\n",
    "    \"cesm-hist-test.json\",\n",
    "    csv_kwargs={\"converters\": {\"variables\": ast.literal_eval}},\n",
    ")\n",
    "col"
   ]
  },
  {
   "cell_type": "code",
   "execution_count": 48,
   "id": "comparable-sociology",
   "metadata": {},
   "outputs": [
    {
     "data": {
      "text/html": [
       "<div>\n",
       "<style scoped>\n",
       "    .dataframe tbody tr th:only-of-type {\n",
       "        vertical-align: middle;\n",
       "    }\n",
       "\n",
       "    .dataframe tbody tr th {\n",
       "        vertical-align: top;\n",
       "    }\n",
       "\n",
       "    .dataframe thead th {\n",
       "        text-align: right;\n",
       "    }\n",
       "</style>\n",
       "<table border=\"1\" class=\"dataframe\">\n",
       "  <thead>\n",
       "    <tr style=\"text-align: right;\">\n",
       "      <th></th>\n",
       "      <th>component</th>\n",
       "      <th>stream</th>\n",
       "      <th>case</th>\n",
       "      <th>frequency</th>\n",
       "      <th>date</th>\n",
       "      <th>variables</th>\n",
       "      <th>path</th>\n",
       "    </tr>\n",
       "  </thead>\n",
       "  <tbody>\n",
       "    <tr>\n",
       "      <th>0</th>\n",
       "      <td>ocn</td>\n",
       "      <td>pop.h.ecosys</td>\n",
       "      <td>g.e22a06.g1850ecoiaf_jra_phys_dev.tl319_g17.4p...</td>\n",
       "      <td>month_1</td>\n",
       "      <td>nday1.0053-01-01</td>\n",
       "      <td>[photoC_sp_zint_2, photoC_diat_zint_2, photoC_...</td>\n",
       "      <td>/glade/scratch/kristenk/archive/g.e22a06.G1850...</td>\n",
       "    </tr>\n",
       "    <tr>\n",
       "      <th>1</th>\n",
       "      <td>ocn</td>\n",
       "      <td>pop.h</td>\n",
       "      <td>g.e22a06.g1850ecoiaf_jra_phys_dev.tl319_g17.4p...</td>\n",
       "      <td>month_1</td>\n",
       "      <td>0046-08</td>\n",
       "      <td>[UVEL, UVEL2, VVEL, VVEL2, TEMP, dTEMP_POS_2D,...</td>\n",
       "      <td>/glade/scratch/kristenk/archive/g.e22a06.G1850...</td>\n",
       "    </tr>\n",
       "    <tr>\n",
       "      <th>2</th>\n",
       "      <td>ocn</td>\n",
       "      <td>pop.h</td>\n",
       "      <td>g.e22a06.g1850ecoiaf_jra_phys_dev.tl319_g17.4p...</td>\n",
       "      <td>month_1</td>\n",
       "      <td>0061-07</td>\n",
       "      <td>[UVEL, UVEL2, VVEL, VVEL2, TEMP, dTEMP_POS_2D,...</td>\n",
       "      <td>/glade/scratch/kristenk/archive/g.e22a06.G1850...</td>\n",
       "    </tr>\n",
       "    <tr>\n",
       "      <th>3</th>\n",
       "      <td>ocn</td>\n",
       "      <td>pop.h</td>\n",
       "      <td>g.e22a06.g1850ecoiaf_jra_phys_dev.tl319_g17.4p...</td>\n",
       "      <td>month_1</td>\n",
       "      <td>0042-09</td>\n",
       "      <td>[UVEL, UVEL2, VVEL, VVEL2, TEMP, dTEMP_POS_2D,...</td>\n",
       "      <td>/glade/scratch/kristenk/archive/g.e22a06.G1850...</td>\n",
       "    </tr>\n",
       "    <tr>\n",
       "      <th>4</th>\n",
       "      <td>ocn</td>\n",
       "      <td>pop.h</td>\n",
       "      <td>g.e22a06.g1850ecoiaf_jra_phys_dev.tl319_g17.4p...</td>\n",
       "      <td>month_1</td>\n",
       "      <td>0043-11</td>\n",
       "      <td>[UVEL, UVEL2, VVEL, VVEL2, TEMP, dTEMP_POS_2D,...</td>\n",
       "      <td>/glade/scratch/kristenk/archive/g.e22a06.G1850...</td>\n",
       "    </tr>\n",
       "  </tbody>\n",
       "</table>\n",
       "</div>"
      ],
      "text/plain": [
       "  component        stream                                               case  \\\n",
       "0       ocn  pop.h.ecosys  g.e22a06.g1850ecoiaf_jra_phys_dev.tl319_g17.4p...   \n",
       "1       ocn         pop.h  g.e22a06.g1850ecoiaf_jra_phys_dev.tl319_g17.4p...   \n",
       "2       ocn         pop.h  g.e22a06.g1850ecoiaf_jra_phys_dev.tl319_g17.4p...   \n",
       "3       ocn         pop.h  g.e22a06.g1850ecoiaf_jra_phys_dev.tl319_g17.4p...   \n",
       "4       ocn         pop.h  g.e22a06.g1850ecoiaf_jra_phys_dev.tl319_g17.4p...   \n",
       "\n",
       "  frequency              date  \\\n",
       "0   month_1  nday1.0053-01-01   \n",
       "1   month_1           0046-08   \n",
       "2   month_1           0061-07   \n",
       "3   month_1           0042-09   \n",
       "4   month_1           0043-11   \n",
       "\n",
       "                                           variables  \\\n",
       "0  [photoC_sp_zint_2, photoC_diat_zint_2, photoC_...   \n",
       "1  [UVEL, UVEL2, VVEL, VVEL2, TEMP, dTEMP_POS_2D,...   \n",
       "2  [UVEL, UVEL2, VVEL, VVEL2, TEMP, dTEMP_POS_2D,...   \n",
       "3  [UVEL, UVEL2, VVEL, VVEL2, TEMP, dTEMP_POS_2D,...   \n",
       "4  [UVEL, UVEL2, VVEL, VVEL2, TEMP, dTEMP_POS_2D,...   \n",
       "\n",
       "                                                path  \n",
       "0  /glade/scratch/kristenk/archive/g.e22a06.G1850...  \n",
       "1  /glade/scratch/kristenk/archive/g.e22a06.G1850...  \n",
       "2  /glade/scratch/kristenk/archive/g.e22a06.G1850...  \n",
       "3  /glade/scratch/kristenk/archive/g.e22a06.G1850...  \n",
       "4  /glade/scratch/kristenk/archive/g.e22a06.G1850...  "
      ]
     },
     "execution_count": 48,
     "metadata": {},
     "output_type": "execute_result"
    }
   ],
   "source": [
    "col.df.head()"
   ]
  },
  {
   "cell_type": "code",
   "execution_count": 50,
   "id": "matched-citation",
   "metadata": {},
   "outputs": [
    {
     "data": {
      "text/html": [
       "<p><strong> catalog with 1 dataset(s) from 288 asset(s)</strong>:</p> <div>\n",
       "<style scoped>\n",
       "    .dataframe tbody tr th:only-of-type {\n",
       "        vertical-align: middle;\n",
       "    }\n",
       "\n",
       "    .dataframe tbody tr th {\n",
       "        vertical-align: top;\n",
       "    }\n",
       "\n",
       "    .dataframe thead th {\n",
       "        text-align: right;\n",
       "    }\n",
       "</style>\n",
       "<table border=\"1\" class=\"dataframe\">\n",
       "  <thead>\n",
       "    <tr style=\"text-align: right;\">\n",
       "      <th></th>\n",
       "      <th>unique</th>\n",
       "    </tr>\n",
       "  </thead>\n",
       "  <tbody>\n",
       "    <tr>\n",
       "      <th>component</th>\n",
       "      <td>1</td>\n",
       "    </tr>\n",
       "    <tr>\n",
       "      <th>stream</th>\n",
       "      <td>1</td>\n",
       "    </tr>\n",
       "    <tr>\n",
       "      <th>case</th>\n",
       "      <td>1</td>\n",
       "    </tr>\n",
       "    <tr>\n",
       "      <th>frequency</th>\n",
       "      <td>1</td>\n",
       "    </tr>\n",
       "    <tr>\n",
       "      <th>date</th>\n",
       "      <td>288</td>\n",
       "    </tr>\n",
       "    <tr>\n",
       "      <th>variables</th>\n",
       "      <td>498</td>\n",
       "    </tr>\n",
       "    <tr>\n",
       "      <th>path</th>\n",
       "      <td>288</td>\n",
       "    </tr>\n",
       "  </tbody>\n",
       "</table>\n",
       "</div>"
      ],
      "text/plain": [
       "<IPython.core.display.HTML object>"
      ]
     },
     "metadata": {},
     "output_type": "display_data"
    }
   ],
   "source": [
    "cat = col.search(variables=[\"UVEL\"], case=[\"g.e22a06.g1850ecoiaf_jra_phys_dev.tl319_g17.4p4z.003\"])\n",
    "cat"
   ]
  },
  {
   "cell_type": "code",
   "execution_count": 51,
   "id": "comfortable-forestry",
   "metadata": {},
   "outputs": [
    {
     "name": "stdout",
     "output_type": "stream",
     "text": [
      "\n",
      "--> The keys in the returned dictionary of datasets are constructed as follows:\n",
      "\t'component.stream.case'\n"
     ]
    },
    {
     "data": {
      "text/html": [
       "\n",
       "    <div>\n",
       "        <style>\n",
       "            /* Turns off some styling */\n",
       "            progress {\n",
       "                /* gets rid of default border in Firefox and Opera. */\n",
       "                border: none;\n",
       "                /* Needs to be in here for Safari polyfill so background images work as expected. */\n",
       "                background-size: auto;\n",
       "            }\n",
       "            .progress-bar-interrupted, .progress-bar-interrupted::-webkit-progress-bar {\n",
       "                background: #F44336;\n",
       "            }\n",
       "        </style>\n",
       "      <progress value='1' class='' max='1' style='width:300px; height:20px; vertical-align: middle;'></progress>\n",
       "      100.00% [1/1 00:00<00:00]\n",
       "    </div>\n",
       "    "
      ],
      "text/plain": [
       "<IPython.core.display.HTML object>"
      ]
     },
     "metadata": {},
     "output_type": "display_data"
    },
    {
     "data": {
      "text/plain": [
       "{'ocn.pop.h.g.e22a06.g1850ecoiaf_jra_phys_dev.tl319_g17.4p4z.003': <xarray.Dataset>\n",
       " Dimensions:  (nlat: 384, nlon: 320, time: 288, z_t: 60)\n",
       " Coordinates:\n",
       "   * time     (time) object 0003-06-01 00:00:00 ... 0007-04-01 00:00:00\n",
       "   * z_t      (z_t) float32 500.0 1.5e+03 2.5e+03 ... 5.125e+05 5.375e+05\n",
       "     ULONG    (nlat, nlon) float64 dask.array<chunksize=(384, 320), meta=np.ndarray>\n",
       "     ULAT     (nlat, nlon) float64 dask.array<chunksize=(384, 320), meta=np.ndarray>\n",
       "     TLONG    (nlat, nlon) float64 dask.array<chunksize=(384, 320), meta=np.ndarray>\n",
       "     TLAT     (nlat, nlon) float64 dask.array<chunksize=(384, 320), meta=np.ndarray>\n",
       " Dimensions without coordinates: nlat, nlon\n",
       " Data variables:\n",
       "     UVEL     (time, z_t, nlat, nlon) float32 dask.array<chunksize=(1, 60, 384, 320), meta=np.ndarray>\n",
       " Attributes:\n",
       "     time_period_freq:        month_1\n",
       "     contents:                Diagnostic and Prognostic Variables\n",
       "     model_doi_url:           https://doi.org/10.5065/D67H1H0V\n",
       "     cell_methods:            cell_methods = time: mean ==> the variable value...\n",
       "     history:                 none\n",
       "     Conventions:             CF-1.0; http://www.cgd.ucar.edu/cms/eaton/netcdf...\n",
       "     title:                   g.e22a06.G1850ECOIAF_JRA_PHYS_DEV.TL319_g17.4p4z...\n",
       "     calendar:                All years have exactly  365 days.\n",
       "     intake_esm_varname:      ['UVEL']\n",
       "     revision:                $Id$\n",
       "     source:                  CCSM POP2, the CCSM Ocean Component\n",
       "     intake_esm_dataset_key:  ocn.pop.h.g.e22a06.g1850ecoiaf_jra_phys_dev.tl31...}"
      ]
     },
     "execution_count": 51,
     "metadata": {},
     "output_type": "execute_result"
    }
   ],
   "source": [
    "dsets = cat.to_dataset_dict(cdf_kwargs={'use_cftime': True, 'chunks': {}})\n",
    "dsets"
   ]
  },
  {
   "cell_type": "code",
   "execution_count": null,
   "id": "federal-stream",
   "metadata": {},
   "outputs": [],
   "source": []
  }
 ],
 "metadata": {
  "kernelspec": {
   "display_name": "Python [conda env:miniconda-playground]",
   "language": "python",
   "name": "conda-env-miniconda-playground-py"
  },
  "language_info": {
   "codemirror_mode": {
    "name": "ipython",
    "version": 3
   },
   "file_extension": ".py",
   "mimetype": "text/x-python",
   "name": "python",
   "nbconvert_exporter": "python",
   "pygments_lexer": "ipython3",
   "version": "3.8.8"
  },
  "widgets": {
   "application/vnd.jupyter.widget-state+json": {
    "state": {
     "012dad590d4c4f9dad890ae0a4b447a4": {
      "model_module": "@jupyter-widgets/controls",
      "model_module_version": "1.5.0",
      "model_name": "IntTextModel",
      "state": {
       "description": "Maximum",
       "layout": "IPY_MODEL_017cff05b9ff4d29b0528756ae9aef35",
       "step": 1,
       "style": "IPY_MODEL_4989754b3b664beea1f226d696c2ac21"
      }
     },
     "017cff05b9ff4d29b0528756ae9aef35": {
      "model_module": "@jupyter-widgets/base",
      "model_module_version": "1.2.0",
      "model_name": "LayoutModel",
      "state": {
       "width": "150px"
      }
     },
     "08a5806be6ff4345a9de3fe67eadf1d1": {
      "model_module": "@jupyter-widgets/controls",
      "model_module_version": "1.5.0",
      "model_name": "IntTextModel",
      "state": {
       "description": "Minimum",
       "layout": "IPY_MODEL_017cff05b9ff4d29b0528756ae9aef35",
       "step": 1,
       "style": "IPY_MODEL_0a9f07c5e8e74c7eb12754e8b1838c5d"
      }
     },
     "0a9f07c5e8e74c7eb12754e8b1838c5d": {
      "model_module": "@jupyter-widgets/controls",
      "model_module_version": "1.5.0",
      "model_name": "DescriptionStyleModel",
      "state": {
       "description_width": ""
      }
     },
     "0f4cf46b25df4a168b948cfa223a1b67": {
      "model_module": "@jupyter-widgets/controls",
      "model_module_version": "1.5.0",
      "model_name": "HBoxModel",
      "state": {
       "children": [
        "IPY_MODEL_b5e8bb1479a64106a3307a300f7e1148",
        "IPY_MODEL_bf1219ca1e4149e8806e4f96d4d8d5e6"
       ],
       "layout": "IPY_MODEL_96b2c6c528fa4c4dac418ae14d8f7806"
      }
     },
     "19d6c44388ea42d8a11b08fabc14e9ae": {
      "model_module": "@jupyter-widgets/controls",
      "model_module_version": "1.5.0",
      "model_name": "ButtonStyleModel",
      "state": {}
     },
     "3720d31b703c4e21b1781b1194d13d96": {
      "model_module": "@jupyter-widgets/controls",
      "model_module_version": "1.5.0",
      "model_name": "HBoxModel",
      "state": {
       "children": [
        "IPY_MODEL_798773db0a9e4783aa79d17b3b854126",
        "IPY_MODEL_68dc04be7cb94913bfff1f69f39aa360"
       ],
       "layout": "IPY_MODEL_a20578f1fdec4138bffa0152e66d46cc"
      }
     },
     "3c957d9271eb406c87f2affa223d8be8": {
      "model_module": "@jupyter-widgets/base",
      "model_module_version": "1.2.0",
      "model_name": "LayoutModel",
      "state": {}
     },
     "45690563493846bcbb9bc2509b1dbe5c": {
      "model_module": "@jupyter-widgets/controls",
      "model_module_version": "1.5.0",
      "model_name": "DescriptionStyleModel",
      "state": {
       "description_width": ""
      }
     },
     "47bb87c622f342f4a5171d0b538c6e59": {
      "model_module": "@jupyter-widgets/controls",
      "model_module_version": "1.5.0",
      "model_name": "DescriptionStyleModel",
      "state": {
       "description_width": ""
      }
     },
     "4989754b3b664beea1f226d696c2ac21": {
      "model_module": "@jupyter-widgets/controls",
      "model_module_version": "1.5.0",
      "model_name": "DescriptionStyleModel",
      "state": {
       "description_width": ""
      }
     },
     "49b9f2ee828a47189b5933de8a40994e": {
      "model_module": "@jupyter-widgets/controls",
      "model_module_version": "1.5.0",
      "model_name": "ButtonModel",
      "state": {
       "description": "Adapt",
       "layout": "IPY_MODEL_017cff05b9ff4d29b0528756ae9aef35",
       "style": "IPY_MODEL_19d6c44388ea42d8a11b08fabc14e9ae"
      }
     },
     "4aa1b3169cf74f2bac1d6e7c3df2bd7b": {
      "model_module": "@jupyter-widgets/base",
      "model_module_version": "1.2.0",
      "model_name": "LayoutModel",
      "state": {}
     },
     "4bc4accee50c47e782f21c61315b6277": {
      "model_module": "@jupyter-widgets/base",
      "model_module_version": "1.2.0",
      "model_name": "LayoutModel",
      "state": {}
     },
     "68dc04be7cb94913bfff1f69f39aa360": {
      "model_module": "@jupyter-widgets/controls",
      "model_module_version": "1.5.0",
      "model_name": "ButtonModel",
      "state": {
       "description": "Scale",
       "layout": "IPY_MODEL_017cff05b9ff4d29b0528756ae9aef35",
       "style": "IPY_MODEL_8e9ded9a735f4501a253cc10a6249532"
      }
     },
     "6e8ad6f08ade4c8ea1f0fdb21994487f": {
      "model_module": "@jupyter-widgets/base",
      "model_module_version": "1.2.0",
      "model_name": "LayoutModel",
      "state": {
       "min_width": "500px"
      }
     },
     "798773db0a9e4783aa79d17b3b854126": {
      "model_module": "@jupyter-widgets/controls",
      "model_module_version": "1.5.0",
      "model_name": "IntTextModel",
      "state": {
       "description": "Workers",
       "layout": "IPY_MODEL_017cff05b9ff4d29b0528756ae9aef35",
       "step": 1,
       "style": "IPY_MODEL_7f5be7bf2c114a0d9a29795835fddbcb",
       "value": 20
      }
     },
     "7f5be7bf2c114a0d9a29795835fddbcb": {
      "model_module": "@jupyter-widgets/controls",
      "model_module_version": "1.5.0",
      "model_name": "DescriptionStyleModel",
      "state": {
       "description_width": ""
      }
     },
     "85f1ac06358b491780b491373aafbf9a": {
      "model_module": "@jupyter-widgets/controls",
      "model_module_version": "1.5.0",
      "model_name": "HTMLModel",
      "state": {
       "layout": "IPY_MODEL_3c957d9271eb406c87f2affa223d8be8",
       "style": "IPY_MODEL_45690563493846bcbb9bc2509b1dbe5c",
       "value": "<p><b>Dashboard: </b><a href=\"https://jupyterhub.hpc.ucar.edu/stable/user/abanihi/dav-login/proxy/38842/status\" target=\"_blank\">https://jupyterhub.hpc.ucar.edu/stable/user/abanihi/dav-login/proxy/38842/status</a></p>\n"
      }
     },
     "8e9ded9a735f4501a253cc10a6249532": {
      "model_module": "@jupyter-widgets/controls",
      "model_module_version": "1.5.0",
      "model_name": "ButtonStyleModel",
      "state": {}
     },
     "96b2c6c528fa4c4dac418ae14d8f7806": {
      "model_module": "@jupyter-widgets/base",
      "model_module_version": "1.2.0",
      "model_name": "LayoutModel",
      "state": {}
     },
     "a20578f1fdec4138bffa0152e66d46cc": {
      "model_module": "@jupyter-widgets/base",
      "model_module_version": "1.2.0",
      "model_name": "LayoutModel",
      "state": {}
     },
     "b5e8bb1479a64106a3307a300f7e1148": {
      "model_module": "@jupyter-widgets/controls",
      "model_module_version": "1.5.0",
      "model_name": "HTMLModel",
      "state": {
       "layout": "IPY_MODEL_b6ef61b4cfef4089a8df82e05faf9359",
       "style": "IPY_MODEL_ff934da145f941188850fcc0bdf248f4",
       "value": "\n<div>\n  <style scoped>\n    .dataframe tbody tr th:only-of-type {\n        vertical-align: middle;\n    }\n\n    .dataframe tbody tr th {\n        vertical-align: top;\n    }\n\n    .dataframe thead th {\n        text-align: right;\n    }\n  </style>\n  <table style=\"text-align: right;\">\n    <tr> <th>Workers</th> <td>19 / 20</td></tr>\n    <tr> <th>Cores</th> <td>38</td></tr>\n    <tr> <th>Memory</th> <td>442.32 GiB</td></tr>\n  </table>\n</div>\n"
      }
     },
     "b6ef61b4cfef4089a8df82e05faf9359": {
      "model_module": "@jupyter-widgets/base",
      "model_module_version": "1.2.0",
      "model_name": "LayoutModel",
      "state": {
       "min_width": "150px"
      }
     },
     "bd1f24c0d28e4d1fb5ad692babffd037": {
      "model_module": "@jupyter-widgets/base",
      "model_module_version": "1.2.0",
      "model_name": "LayoutModel",
      "state": {}
     },
     "bf1219ca1e4149e8806e4f96d4d8d5e6": {
      "model_module": "@jupyter-widgets/controls",
      "model_module_version": "1.5.0",
      "model_name": "AccordionModel",
      "state": {
       "_titles": {
        "0": "Manual Scaling",
        "1": "Adaptive Scaling"
       },
       "children": [
        "IPY_MODEL_3720d31b703c4e21b1781b1194d13d96",
        "IPY_MODEL_faf7b0aad46d4d6aa6c3b1048041bff7"
       ],
       "layout": "IPY_MODEL_6e8ad6f08ade4c8ea1f0fdb21994487f"
      }
     },
     "d18f47f1ec234038bae65fcab73f9cf6": {
      "model_module": "@jupyter-widgets/controls",
      "model_module_version": "1.5.0",
      "model_name": "VBoxModel",
      "state": {
       "children": [
        "IPY_MODEL_df1481905d0b43beb0bacd5bdb0b138b",
        "IPY_MODEL_0f4cf46b25df4a168b948cfa223a1b67",
        "IPY_MODEL_85f1ac06358b491780b491373aafbf9a"
       ],
       "layout": "IPY_MODEL_4aa1b3169cf74f2bac1d6e7c3df2bd7b"
      }
     },
     "df1481905d0b43beb0bacd5bdb0b138b": {
      "model_module": "@jupyter-widgets/controls",
      "model_module_version": "1.5.0",
      "model_name": "HTMLModel",
      "state": {
       "layout": "IPY_MODEL_4bc4accee50c47e782f21c61315b6277",
       "style": "IPY_MODEL_47bb87c622f342f4a5171d0b538c6e59",
       "value": "<h2>PBSCluster</h2>"
      }
     },
     "faf7b0aad46d4d6aa6c3b1048041bff7": {
      "model_module": "@jupyter-widgets/controls",
      "model_module_version": "1.5.0",
      "model_name": "HBoxModel",
      "state": {
       "children": [
        "IPY_MODEL_08a5806be6ff4345a9de3fe67eadf1d1",
        "IPY_MODEL_012dad590d4c4f9dad890ae0a4b447a4",
        "IPY_MODEL_49b9f2ee828a47189b5933de8a40994e"
       ],
       "layout": "IPY_MODEL_bd1f24c0d28e4d1fb5ad692babffd037"
      }
     },
     "ff934da145f941188850fcc0bdf248f4": {
      "model_module": "@jupyter-widgets/controls",
      "model_module_version": "1.5.0",
      "model_name": "DescriptionStyleModel",
      "state": {
       "description_width": ""
      }
     }
    },
    "version_major": 2,
    "version_minor": 0
   }
  }
 },
 "nbformat": 4,
 "nbformat_minor": 5
}
