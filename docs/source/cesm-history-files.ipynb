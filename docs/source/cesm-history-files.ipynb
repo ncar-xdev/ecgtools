{
 "cells": [
  {
   "cell_type": "markdown",
   "id": "276b6868-a9b5-4cac-b6e2-ccbf60dd58d9",
   "metadata": {},
   "source": [
    "# How to build a catalog for a CESM run"
   ]
  },
  {
   "cell_type": "markdown",
   "id": "a5fcee18-a7e7-43b2-a1e0-91ff24f40358",
   "metadata": {},
   "source": [
    "## Import packages"
   ]
  },
  {
   "cell_type": "code",
   "execution_count": 1,
   "id": "extra-certification",
   "metadata": {},
   "outputs": [],
   "source": [
    "from ecgtools import Builder\n",
    "from ecgtools.parsers.cesm import parse_cesm_history"
   ]
  },
  {
   "cell_type": "markdown",
   "id": "6d9e5866-308a-43f7-a196-bfe3b51c4fc1",
   "metadata": {},
   "source": [
    "## Instatiate a Builder object"
   ]
  },
  {
   "cell_type": "code",
   "execution_count": 2,
   "id": "academic-robin",
   "metadata": {},
   "outputs": [],
   "source": [
    "b = Builder(\n",
    "    \"/glade/scratch/kristenk/archive/\",\n",
    "    depth=2,\n",
    "    parsing_func=parse_cesm_history,\n",
    "    exclude_patterns=[\"*/tseries/*\", \"*/rest/*\"],\n",
    "    njobs=20,\n",
    ")"
   ]
  },
  {
   "cell_type": "markdown",
   "id": "5c043ac0-5642-4cdc-844f-8cd823459853",
   "metadata": {},
   "source": [
    "## Build catalog and inspect built catalog"
   ]
  },
  {
   "cell_type": "code",
   "execution_count": 3,
   "id": "developed-director",
   "metadata": {
    "tags": []
   },
   "outputs": [
    {
     "name": "stderr",
     "output_type": "stream",
     "text": [
      "[Parallel(n_jobs=20)]: Using backend LokyBackend with 20 concurrent workers.\n",
      "[Parallel(n_jobs=20)]: Done  32 tasks      | elapsed:    0.4s\n",
      "[Parallel(n_jobs=20)]: Done 248 out of 248 | elapsed:    0.8s finished\n",
      "[Parallel(n_jobs=20)]: Using backend LokyBackend with 20 concurrent workers.\n",
      "[Parallel(n_jobs=20)]: Done  32 tasks      | elapsed:    2.5s\n",
      "[Parallel(n_jobs=20)]: Done 122 tasks      | elapsed:    4.0s\n",
      "[Parallel(n_jobs=20)]: Done 248 tasks      | elapsed:    6.0s\n",
      "[Parallel(n_jobs=20)]: Done 410 tasks      | elapsed:    9.0s\n",
      "[Parallel(n_jobs=20)]: Done 608 tasks      | elapsed:   12.3s\n",
      "[Parallel(n_jobs=20)]: Done 842 tasks      | elapsed:   14.9s\n",
      "[Parallel(n_jobs=20)]: Done 1112 tasks      | elapsed:   17.8s\n",
      "[Parallel(n_jobs=20)]: Done 1418 tasks      | elapsed:   22.7s\n",
      "[Parallel(n_jobs=20)]: Done 1760 tasks      | elapsed:   28.0s\n",
      "[Parallel(n_jobs=20)]: Done 2336 tasks      | elapsed:   35.2s\n",
      "[Parallel(n_jobs=20)]: Done 3164 tasks      | elapsed:   46.1s\n",
      "[Parallel(n_jobs=20)]: Done 4064 tasks      | elapsed:  1.0min\n",
      "[Parallel(n_jobs=20)]: Done 5036 tasks      | elapsed:  1.3min\n",
      "[Parallel(n_jobs=20)]: Done 6080 tasks      | elapsed:  1.6min\n",
      "[Parallel(n_jobs=20)]: Done 7196 tasks      | elapsed:  1.9min\n",
      "[Parallel(n_jobs=20)]: Done 8384 tasks      | elapsed:  2.0min\n",
      "[Parallel(n_jobs=20)]: Done 9644 tasks      | elapsed:  2.1min\n",
      "[Parallel(n_jobs=20)]: Done 10976 tasks      | elapsed:  2.2min\n",
      "[Parallel(n_jobs=20)]: Done 12380 tasks      | elapsed:  2.3min\n",
      "[Parallel(n_jobs=20)]: Done 13856 tasks      | elapsed:  2.4min\n",
      "[Parallel(n_jobs=20)]: Done 15404 tasks      | elapsed:  2.5min\n",
      "[Parallel(n_jobs=20)]: Done 17024 tasks      | elapsed:  2.6min\n",
      "[Parallel(n_jobs=20)]: Done 18716 tasks      | elapsed:  2.7min\n",
      "[Parallel(n_jobs=20)]: Done 20480 tasks      | elapsed:  2.8min\n",
      "[Parallel(n_jobs=20)]: Done 22316 tasks      | elapsed:  2.9min\n",
      "[Parallel(n_jobs=20)]: Done 24224 tasks      | elapsed:  3.1min\n",
      "[Parallel(n_jobs=20)]: Done 26124 tasks      | elapsed:  3.2min\n",
      "[Parallel(n_jobs=20)]: Done 28176 tasks      | elapsed:  3.4min\n",
      "[Parallel(n_jobs=20)]: Done 30300 tasks      | elapsed:  3.5min\n",
      "[Parallel(n_jobs=20)]: Done 32496 tasks      | elapsed:  3.9min\n",
      "[Parallel(n_jobs=20)]: Done 34764 tasks      | elapsed:  4.4min\n",
      "[Parallel(n_jobs=20)]: Done 36402 tasks      | elapsed:  4.8min\n",
      "[Parallel(n_jobs=20)]: Done 37608 tasks      | elapsed:  5.1min\n",
      "[Parallel(n_jobs=20)]: Done 39780 tasks      | elapsed:  5.6min\n",
      "[Parallel(n_jobs=20)]: Done 42336 tasks      | elapsed:  6.1min\n",
      "[Parallel(n_jobs=20)]: Done 44964 tasks      | elapsed:  6.7min\n",
      "[Parallel(n_jobs=20)]: Done 45088 out of 45127 | elapsed:  6.8min remaining:    0.4s\n",
      "[Parallel(n_jobs=20)]: Done 45127 out of 45127 | elapsed:  6.8min finished\n"
     ]
    }
   ],
   "source": [
    "b = b.build()"
   ]
  },
  {
   "cell_type": "code",
   "execution_count": 4,
   "id": "solid-morrison",
   "metadata": {},
   "outputs": [
    {
     "data": {
      "text/html": [
       "<div>\n",
       "<style scoped>\n",
       "    .dataframe tbody tr th:only-of-type {\n",
       "        vertical-align: middle;\n",
       "    }\n",
       "\n",
       "    .dataframe tbody tr th {\n",
       "        vertical-align: top;\n",
       "    }\n",
       "\n",
       "    .dataframe thead th {\n",
       "        text-align: right;\n",
       "    }\n",
       "</style>\n",
       "<table border=\"1\" class=\"dataframe\">\n",
       "  <thead>\n",
       "    <tr style=\"text-align: right;\">\n",
       "      <th></th>\n",
       "      <th>component</th>\n",
       "      <th>stream</th>\n",
       "      <th>case</th>\n",
       "      <th>frequency</th>\n",
       "      <th>date</th>\n",
       "      <th>variables</th>\n",
       "      <th>path</th>\n",
       "    </tr>\n",
       "  </thead>\n",
       "  <tbody>\n",
       "    <tr>\n",
       "      <th>0</th>\n",
       "      <td>ocn</td>\n",
       "      <td>pop.h.ecosys.nday1</td>\n",
       "      <td>g.e22a06.g1850ecoiaf_jra_phys_dev.tl319_g17.4p...</td>\n",
       "      <td>day_1</td>\n",
       "      <td>0053-01-01</td>\n",
       "      <td>[photoC_sp_zint_2, photoC_diat_zint_2, photoC_...</td>\n",
       "      <td>/glade/scratch/kristenk/archive/g.e22a06.G1850...</td>\n",
       "    </tr>\n",
       "    <tr>\n",
       "      <th>1</th>\n",
       "      <td>ocn</td>\n",
       "      <td>pop.h</td>\n",
       "      <td>g.e22a06.g1850ecoiaf_jra_phys_dev.tl319_g17.4p...</td>\n",
       "      <td>month_1</td>\n",
       "      <td>0046-08</td>\n",
       "      <td>[UVEL, UVEL2, VVEL, VVEL2, TEMP, dTEMP_POS_2D,...</td>\n",
       "      <td>/glade/scratch/kristenk/archive/g.e22a06.G1850...</td>\n",
       "    </tr>\n",
       "    <tr>\n",
       "      <th>2</th>\n",
       "      <td>ocn</td>\n",
       "      <td>pop.h</td>\n",
       "      <td>g.e22a06.g1850ecoiaf_jra_phys_dev.tl319_g17.4p...</td>\n",
       "      <td>month_1</td>\n",
       "      <td>0061-07</td>\n",
       "      <td>[UVEL, UVEL2, VVEL, VVEL2, TEMP, dTEMP_POS_2D,...</td>\n",
       "      <td>/glade/scratch/kristenk/archive/g.e22a06.G1850...</td>\n",
       "    </tr>\n",
       "    <tr>\n",
       "      <th>3</th>\n",
       "      <td>ocn</td>\n",
       "      <td>pop.h</td>\n",
       "      <td>g.e22a06.g1850ecoiaf_jra_phys_dev.tl319_g17.4p...</td>\n",
       "      <td>month_1</td>\n",
       "      <td>0042-09</td>\n",
       "      <td>[UVEL, UVEL2, VVEL, VVEL2, TEMP, dTEMP_POS_2D,...</td>\n",
       "      <td>/glade/scratch/kristenk/archive/g.e22a06.G1850...</td>\n",
       "    </tr>\n",
       "    <tr>\n",
       "      <th>4</th>\n",
       "      <td>ocn</td>\n",
       "      <td>pop.h</td>\n",
       "      <td>g.e22a06.g1850ecoiaf_jra_phys_dev.tl319_g17.4p...</td>\n",
       "      <td>month_1</td>\n",
       "      <td>0043-11</td>\n",
       "      <td>[UVEL, UVEL2, VVEL, VVEL2, TEMP, dTEMP_POS_2D,...</td>\n",
       "      <td>/glade/scratch/kristenk/archive/g.e22a06.G1850...</td>\n",
       "    </tr>\n",
       "  </tbody>\n",
       "</table>\n",
       "</div>"
      ],
      "text/plain": [
       "  component              stream  \\\n",
       "0       ocn  pop.h.ecosys.nday1   \n",
       "1       ocn               pop.h   \n",
       "2       ocn               pop.h   \n",
       "3       ocn               pop.h   \n",
       "4       ocn               pop.h   \n",
       "\n",
       "                                                case frequency        date  \\\n",
       "0  g.e22a06.g1850ecoiaf_jra_phys_dev.tl319_g17.4p...     day_1  0053-01-01   \n",
       "1  g.e22a06.g1850ecoiaf_jra_phys_dev.tl319_g17.4p...   month_1     0046-08   \n",
       "2  g.e22a06.g1850ecoiaf_jra_phys_dev.tl319_g17.4p...   month_1     0061-07   \n",
       "3  g.e22a06.g1850ecoiaf_jra_phys_dev.tl319_g17.4p...   month_1     0042-09   \n",
       "4  g.e22a06.g1850ecoiaf_jra_phys_dev.tl319_g17.4p...   month_1     0043-11   \n",
       "\n",
       "                                           variables  \\\n",
       "0  [photoC_sp_zint_2, photoC_diat_zint_2, photoC_...   \n",
       "1  [UVEL, UVEL2, VVEL, VVEL2, TEMP, dTEMP_POS_2D,...   \n",
       "2  [UVEL, UVEL2, VVEL, VVEL2, TEMP, dTEMP_POS_2D,...   \n",
       "3  [UVEL, UVEL2, VVEL, VVEL2, TEMP, dTEMP_POS_2D,...   \n",
       "4  [UVEL, UVEL2, VVEL, VVEL2, TEMP, dTEMP_POS_2D,...   \n",
       "\n",
       "                                                path  \n",
       "0  /glade/scratch/kristenk/archive/g.e22a06.G1850...  \n",
       "1  /glade/scratch/kristenk/archive/g.e22a06.G1850...  \n",
       "2  /glade/scratch/kristenk/archive/g.e22a06.G1850...  \n",
       "3  /glade/scratch/kristenk/archive/g.e22a06.G1850...  \n",
       "4  /glade/scratch/kristenk/archive/g.e22a06.G1850...  "
      ]
     },
     "execution_count": 4,
     "metadata": {},
     "output_type": "execute_result"
    }
   ],
   "source": [
    "b.df.head()"
   ]
  },
  {
   "cell_type": "code",
   "execution_count": 5,
   "id": "5f7a3d11-b5d0-4894-bb98-ae9e0167caca",
   "metadata": {},
   "outputs": [
    {
     "data": {
      "text/html": [
       "<div>\n",
       "<style scoped>\n",
       "    .dataframe tbody tr th:only-of-type {\n",
       "        vertical-align: middle;\n",
       "    }\n",
       "\n",
       "    .dataframe tbody tr th {\n",
       "        vertical-align: top;\n",
       "    }\n",
       "\n",
       "    .dataframe thead th {\n",
       "        text-align: right;\n",
       "    }\n",
       "</style>\n",
       "<table border=\"1\" class=\"dataframe\">\n",
       "  <thead>\n",
       "    <tr style=\"text-align: right;\">\n",
       "      <th></th>\n",
       "      <th>INVALID_ASSET</th>\n",
       "      <th>TRACEBACK</th>\n",
       "    </tr>\n",
       "  </thead>\n",
       "  <tbody>\n",
       "    <tr>\n",
       "      <th>189</th>\n",
       "      <td>/glade/scratch/kristenk/archive/g.e22a06.G1850...</td>\n",
       "      <td>Traceback (most recent call last):\\n  File \"/g...</td>\n",
       "    </tr>\n",
       "    <tr>\n",
       "      <th>742</th>\n",
       "      <td>/glade/scratch/kristenk/archive/g.e22a06.G1850...</td>\n",
       "      <td>Traceback (most recent call last):\\n  File \"/g...</td>\n",
       "    </tr>\n",
       "    <tr>\n",
       "      <th>743</th>\n",
       "      <td>/glade/scratch/kristenk/archive/g.e22a06.G1850...</td>\n",
       "      <td>Traceback (most recent call last):\\n  File \"/g...</td>\n",
       "    </tr>\n",
       "    <tr>\n",
       "      <th>744</th>\n",
       "      <td>/glade/scratch/kristenk/archive/g.e22a06.G1850...</td>\n",
       "      <td>Traceback (most recent call last):\\n  File \"/g...</td>\n",
       "    </tr>\n",
       "    <tr>\n",
       "      <th>745</th>\n",
       "      <td>/glade/scratch/kristenk/archive/g.e22a06.G1850...</td>\n",
       "      <td>Traceback (most recent call last):\\n  File \"/g...</td>\n",
       "    </tr>\n",
       "    <tr>\n",
       "      <th>...</th>\n",
       "      <td>...</td>\n",
       "      <td>...</td>\n",
       "    </tr>\n",
       "    <tr>\n",
       "      <th>45122</th>\n",
       "      <td>/glade/scratch/kristenk/archive/g.e22a06.G1850...</td>\n",
       "      <td>Traceback (most recent call last):\\n  File \"/g...</td>\n",
       "    </tr>\n",
       "    <tr>\n",
       "      <th>45123</th>\n",
       "      <td>/glade/scratch/kristenk/archive/g.e22a06.G1850...</td>\n",
       "      <td>Traceback (most recent call last):\\n  File \"/g...</td>\n",
       "    </tr>\n",
       "    <tr>\n",
       "      <th>45124</th>\n",
       "      <td>/glade/scratch/kristenk/archive/g.e22a06.G1850...</td>\n",
       "      <td>Traceback (most recent call last):\\n  File \"/g...</td>\n",
       "    </tr>\n",
       "    <tr>\n",
       "      <th>45125</th>\n",
       "      <td>/glade/scratch/kristenk/archive/g.e22a06.G1850...</td>\n",
       "      <td>Traceback (most recent call last):\\n  File \"/g...</td>\n",
       "    </tr>\n",
       "    <tr>\n",
       "      <th>45126</th>\n",
       "      <td>/glade/scratch/kristenk/archive/g.e22a06.G1850...</td>\n",
       "      <td>Traceback (most recent call last):\\n  File \"/g...</td>\n",
       "    </tr>\n",
       "  </tbody>\n",
       "</table>\n",
       "<p>27871 rows × 2 columns</p>\n",
       "</div>"
      ],
      "text/plain": [
       "                                           INVALID_ASSET  \\\n",
       "189    /glade/scratch/kristenk/archive/g.e22a06.G1850...   \n",
       "742    /glade/scratch/kristenk/archive/g.e22a06.G1850...   \n",
       "743    /glade/scratch/kristenk/archive/g.e22a06.G1850...   \n",
       "744    /glade/scratch/kristenk/archive/g.e22a06.G1850...   \n",
       "745    /glade/scratch/kristenk/archive/g.e22a06.G1850...   \n",
       "...                                                  ...   \n",
       "45122  /glade/scratch/kristenk/archive/g.e22a06.G1850...   \n",
       "45123  /glade/scratch/kristenk/archive/g.e22a06.G1850...   \n",
       "45124  /glade/scratch/kristenk/archive/g.e22a06.G1850...   \n",
       "45125  /glade/scratch/kristenk/archive/g.e22a06.G1850...   \n",
       "45126  /glade/scratch/kristenk/archive/g.e22a06.G1850...   \n",
       "\n",
       "                                               TRACEBACK  \n",
       "189    Traceback (most recent call last):\\n  File \"/g...  \n",
       "742    Traceback (most recent call last):\\n  File \"/g...  \n",
       "743    Traceback (most recent call last):\\n  File \"/g...  \n",
       "744    Traceback (most recent call last):\\n  File \"/g...  \n",
       "745    Traceback (most recent call last):\\n  File \"/g...  \n",
       "...                                                  ...  \n",
       "45122  Traceback (most recent call last):\\n  File \"/g...  \n",
       "45123  Traceback (most recent call last):\\n  File \"/g...  \n",
       "45124  Traceback (most recent call last):\\n  File \"/g...  \n",
       "45125  Traceback (most recent call last):\\n  File \"/g...  \n",
       "45126  Traceback (most recent call last):\\n  File \"/g...  \n",
       "\n",
       "[27871 rows x 2 columns]"
      ]
     },
     "execution_count": 5,
     "metadata": {},
     "output_type": "execute_result"
    }
   ],
   "source": [
    "b.invalid_assets"
   ]
  },
  {
   "cell_type": "markdown",
   "id": "d8db6ef4-2ee3-4f7b-bdc4-abb26449fd19",
   "metadata": {},
   "source": [
    "## Save built catalog to disk"
   ]
  },
  {
   "cell_type": "code",
   "execution_count": 6,
   "id": "b6e60321-00c2-44b6-a938-75767bd004e6",
   "metadata": {},
   "outputs": [
    {
     "name": "stdout",
     "output_type": "stream",
     "text": [
      "Saved catalog location: /glade/scratch/abanihi/cesm-hist-test.json and /glade/scratch/abanihi/cesm-hist-test.csv\n"
     ]
    }
   ],
   "source": [
    "b.save(\n",
    "    \"/glade/scratch/abanihi/cesm-hist-test.csv\",\n",
    "    path_column='path',\n",
    "    variable_column='variables',\n",
    "    data_format=\"netcdf\",\n",
    "    groupby_attrs=[\"component\", \"stream\", \"case\"],\n",
    "    aggregations=[\n",
    "        {\n",
    "            \"type\": \"join_existing\",\n",
    "            \"attribute_name\": \"date\",\n",
    "            \"options\": {\"dim\": \"time\", \"coords\": \"minimal\", \"compat\": \"override\"},\n",
    "        }\n",
    "    ],\n",
    ")"
   ]
  }
 ],
 "metadata": {
  "kernelspec": {
   "display_name": "Python [conda env:ecgtools-dev]",
   "language": "python",
   "name": "conda-env-ecgtools-dev-py"
  },
  "language_info": {
   "codemirror_mode": {
    "name": "ipython",
    "version": 3
   },
   "file_extension": ".py",
   "mimetype": "text/x-python",
   "name": "python",
   "nbconvert_exporter": "python",
   "pygments_lexer": "ipython3",
   "version": "3.9.2"
  },
  "widgets": {
   "application/vnd.jupyter.widget-state+json": {
    "state": {},
    "version_major": 2,
    "version_minor": 0
   }
  }
 },
 "nbformat": 4,
 "nbformat_minor": 5
}
